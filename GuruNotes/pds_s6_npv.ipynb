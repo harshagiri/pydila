{
 "cells": [
  {
   "cell_type": "code",
   "execution_count": 2,
   "metadata": {},
   "outputs": [],
   "source": [
    "import pandas as pd\n",
    "import numpy as np"
   ]
  },
  {
   "cell_type": "markdown",
   "metadata": {},
   "source": [
    "# Series"
   ]
  },
  {
   "cell_type": "code",
   "execution_count": null,
   "metadata": {},
   "outputs": [],
   "source": [
    "mylist = [100,150,200,300]"
   ]
  },
  {
   "cell_type": "code",
   "execution_count": null,
   "metadata": {},
   "outputs": [],
   "source": [
    "ps1 = pd.Series(mylist)"
   ]
  },
  {
   "cell_type": "code",
   "execution_count": null,
   "metadata": {},
   "outputs": [],
   "source": [
    "ps1"
   ]
  },
  {
   "cell_type": "code",
   "execution_count": null,
   "metadata": {},
   "outputs": [],
   "source": [
    "print(type(ps1))"
   ]
  },
  {
   "cell_type": "code",
   "execution_count": null,
   "metadata": {},
   "outputs": [],
   "source": [
    "print(type(ps1.index))"
   ]
  },
  {
   "cell_type": "code",
   "execution_count": null,
   "metadata": {},
   "outputs": [],
   "source": [
    "ps1.values"
   ]
  },
  {
   "cell_type": "code",
   "execution_count": null,
   "metadata": {},
   "outputs": [],
   "source": [
    "print(type(ps1.values))"
   ]
  },
  {
   "cell_type": "code",
   "execution_count": null,
   "metadata": {},
   "outputs": [],
   "source": [
    "ps1.shape"
   ]
  },
  {
   "cell_type": "code",
   "execution_count": null,
   "metadata": {},
   "outputs": [],
   "source": [
    "ps1.ndim"
   ]
  },
  {
   "cell_type": "code",
   "execution_count": null,
   "metadata": {},
   "outputs": [],
   "source": [
    "ps1.size"
   ]
  },
  {
   "cell_type": "code",
   "execution_count": null,
   "metadata": {},
   "outputs": [],
   "source": [
    "ps1.dtype"
   ]
  },
  {
   "cell_type": "code",
   "execution_count": null,
   "metadata": {},
   "outputs": [],
   "source": [
    "mylist = (100,150,200,300)\n",
    "indexlist = ('Tata','Birla','Adani','Wipro')\n",
    "ps2 = pd.Series(mylist, index=indexlist)"
   ]
  },
  {
   "cell_type": "code",
   "execution_count": null,
   "metadata": {},
   "outputs": [],
   "source": [
    "ps2"
   ]
  },
  {
   "cell_type": "code",
   "execution_count": null,
   "metadata": {},
   "outputs": [],
   "source": [
    "ps2.index"
   ]
  },
  {
   "cell_type": "code",
   "execution_count": null,
   "metadata": {},
   "outputs": [],
   "source": [
    "print(type(ps2.index))"
   ]
  },
  {
   "cell_type": "code",
   "execution_count": null,
   "metadata": {},
   "outputs": [],
   "source": [
    "md1 = {'Tata':200, 'Birla':400, 'Adani':600, 'Infy':800}"
   ]
  },
  {
   "cell_type": "code",
   "execution_count": null,
   "metadata": {},
   "outputs": [],
   "source": [
    "ps3 = pd.Series(md1)"
   ]
  },
  {
   "cell_type": "code",
   "execution_count": null,
   "metadata": {},
   "outputs": [],
   "source": [
    "ps3"
   ]
  },
  {
   "cell_type": "code",
   "execution_count": null,
   "metadata": {},
   "outputs": [],
   "source": [
    "ps3.index"
   ]
  },
  {
   "cell_type": "code",
   "execution_count": null,
   "metadata": {},
   "outputs": [],
   "source": [
    "ps3.values"
   ]
  },
  {
   "cell_type": "code",
   "execution_count": null,
   "metadata": {},
   "outputs": [],
   "source": [
    "print(type(ps3.index))"
   ]
  },
  {
   "cell_type": "code",
   "execution_count": null,
   "metadata": {},
   "outputs": [],
   "source": [
    "ps1"
   ]
  },
  {
   "cell_type": "code",
   "execution_count": null,
   "metadata": {},
   "outputs": [],
   "source": [
    "ps3"
   ]
  },
  {
   "cell_type": "markdown",
   "metadata": {},
   "source": [
    "# Series Access"
   ]
  },
  {
   "cell_type": "code",
   "execution_count": null,
   "metadata": {},
   "outputs": [],
   "source": [
    "ps1"
   ]
  },
  {
   "cell_type": "code",
   "execution_count": null,
   "metadata": {},
   "outputs": [],
   "source": [
    "ps3"
   ]
  },
  {
   "cell_type": "code",
   "execution_count": null,
   "metadata": {},
   "outputs": [],
   "source": [
    "ps1[0]"
   ]
  },
  {
   "cell_type": "code",
   "execution_count": null,
   "metadata": {},
   "outputs": [],
   "source": [
    "ps1[0:3]"
   ]
  },
  {
   "cell_type": "code",
   "execution_count": null,
   "metadata": {},
   "outputs": [],
   "source": [
    "ps1[ [1,3,0] ]"
   ]
  },
  {
   "cell_type": "code",
   "execution_count": null,
   "metadata": {},
   "outputs": [],
   "source": [
    "ps1"
   ]
  },
  {
   "cell_type": "code",
   "execution_count": null,
   "metadata": {},
   "outputs": [],
   "source": [
    "ps1[ps1>150]"
   ]
  },
  {
   "cell_type": "code",
   "execution_count": null,
   "metadata": {},
   "outputs": [],
   "source": [
    "ps1>150"
   ]
  },
  {
   "cell_type": "code",
   "execution_count": null,
   "metadata": {},
   "outputs": [],
   "source": [
    "ps1"
   ]
  },
  {
   "cell_type": "code",
   "execution_count": null,
   "metadata": {},
   "outputs": [],
   "source": [
    "ps1[0:2]"
   ]
  },
  {
   "cell_type": "code",
   "execution_count": null,
   "metadata": {},
   "outputs": [],
   "source": [
    "ps1[0::2]"
   ]
  },
  {
   "cell_type": "code",
   "execution_count": null,
   "metadata": {},
   "outputs": [],
   "source": [
    "ps3"
   ]
  },
  {
   "cell_type": "code",
   "execution_count": null,
   "metadata": {},
   "outputs": [],
   "source": [
    "ps3[0]"
   ]
  },
  {
   "cell_type": "code",
   "execution_count": null,
   "metadata": {},
   "outputs": [],
   "source": [
    "ps3['Tata']"
   ]
  },
  {
   "cell_type": "code",
   "execution_count": null,
   "metadata": {},
   "outputs": [],
   "source": [
    "ps3['Tata':'Adani':2]"
   ]
  },
  {
   "cell_type": "code",
   "execution_count": null,
   "metadata": {},
   "outputs": [],
   "source": [
    "ps3[0:2]"
   ]
  },
  {
   "cell_type": "code",
   "execution_count": null,
   "metadata": {},
   "outputs": [],
   "source": [
    "ps3[  ['Adani', 'Birla','Infy'] ]"
   ]
  },
  {
   "cell_type": "code",
   "execution_count": null,
   "metadata": {},
   "outputs": [],
   "source": [
    "ps3"
   ]
  },
  {
   "cell_type": "code",
   "execution_count": null,
   "metadata": {},
   "outputs": [],
   "source": [
    "ps3[(ps3>600) | (ps3<400)]"
   ]
  },
  {
   "cell_type": "code",
   "execution_count": null,
   "metadata": {},
   "outputs": [],
   "source": [
    "(ps3>600) | (ps3<400)"
   ]
  },
  {
   "cell_type": "code",
   "execution_count": null,
   "metadata": {},
   "outputs": [],
   "source": [
    "ps3"
   ]
  },
  {
   "cell_type": "code",
   "execution_count": null,
   "metadata": {},
   "outputs": [],
   "source": [
    "ps3['Tata'] = 2000"
   ]
  },
  {
   "cell_type": "code",
   "execution_count": null,
   "metadata": {},
   "outputs": [],
   "source": [
    "ps3"
   ]
  },
  {
   "cell_type": "code",
   "execution_count": null,
   "metadata": {},
   "outputs": [],
   "source": [
    "ps3['Tata':'Adani'] = 22222"
   ]
  },
  {
   "cell_type": "code",
   "execution_count": null,
   "metadata": {},
   "outputs": [],
   "source": [
    "ps3"
   ]
  },
  {
   "cell_type": "code",
   "execution_count": null,
   "metadata": {},
   "outputs": [],
   "source": [
    "ps3['Tata':'Adani'] = [444,555,666]\n",
    "ps3"
   ]
  },
  {
   "cell_type": "code",
   "execution_count": null,
   "metadata": {},
   "outputs": [],
   "source": [
    "ps3['HCL'] = 567"
   ]
  },
  {
   "cell_type": "code",
   "execution_count": null,
   "metadata": {},
   "outputs": [],
   "source": [
    "ps3"
   ]
  },
  {
   "cell_type": "code",
   "execution_count": null,
   "metadata": {},
   "outputs": [],
   "source": [
    "ps3['HCL'] = 456"
   ]
  },
  {
   "cell_type": "code",
   "execution_count": null,
   "metadata": {},
   "outputs": [],
   "source": [
    "ps3"
   ]
  },
  {
   "cell_type": "code",
   "execution_count": null,
   "metadata": {},
   "outputs": [],
   "source": [
    "ps3['1010'] = 234"
   ]
  },
  {
   "cell_type": "code",
   "execution_count": null,
   "metadata": {},
   "outputs": [],
   "source": [
    "ps3"
   ]
  },
  {
   "cell_type": "code",
   "execution_count": null,
   "metadata": {},
   "outputs": [],
   "source": [
    "ps3['Tata'] = 'Hello'"
   ]
  },
  {
   "cell_type": "code",
   "execution_count": null,
   "metadata": {},
   "outputs": [],
   "source": [
    "ps3"
   ]
  },
  {
   "cell_type": "code",
   "execution_count": null,
   "metadata": {},
   "outputs": [],
   "source": [
    "ps3.values"
   ]
  },
  {
   "cell_type": "code",
   "execution_count": null,
   "metadata": {},
   "outputs": [],
   "source": [
    "print(type(ps3.values))"
   ]
  },
  {
   "cell_type": "code",
   "execution_count": null,
   "metadata": {},
   "outputs": [],
   "source": [
    "ps3.values.dtype"
   ]
  },
  {
   "cell_type": "code",
   "execution_count": null,
   "metadata": {},
   "outputs": [],
   "source": [
    "md = {'Tata': 200, 'Birla': 300, 'Hero':200, 'Volvo':500, 'Infy':300, 'Wipro':200, 'HCL':100}\n",
    "ps3 = pd.Series(md)\n",
    "\n",
    "print(ps3)\n",
    "print()\n",
    "print(ps3 [ (ps3>200) & (ps3<500) ])"
   ]
  },
  {
   "cell_type": "code",
   "execution_count": null,
   "metadata": {},
   "outputs": [],
   "source": [
    "md = {'Tata': 200, 'Birla': 300, 'Hero':200, 'Volvo':500, 'Infy':300, 'Wipro':200, 'HCL':100}\n",
    "ps3 = pd.Series(md)\n",
    "ps3"
   ]
  },
  {
   "cell_type": "code",
   "execution_count": null,
   "metadata": {},
   "outputs": [],
   "source": [
    "ps3.describe()"
   ]
  },
  {
   "cell_type": "code",
   "execution_count": null,
   "metadata": {},
   "outputs": [],
   "source": [
    "ps3.count()"
   ]
  },
  {
   "cell_type": "code",
   "execution_count": null,
   "metadata": {},
   "outputs": [],
   "source": [
    "ps3.value_counts()"
   ]
  },
  {
   "cell_type": "code",
   "execution_count": null,
   "metadata": {},
   "outputs": [],
   "source": [
    "ps3"
   ]
  },
  {
   "cell_type": "code",
   "execution_count": null,
   "metadata": {},
   "outputs": [],
   "source": [
    "ps3.max()"
   ]
  },
  {
   "cell_type": "code",
   "execution_count": null,
   "metadata": {},
   "outputs": [],
   "source": [
    "ps3.min()"
   ]
  },
  {
   "cell_type": "code",
   "execution_count": null,
   "metadata": {},
   "outputs": [],
   "source": [
    "ps3.median()"
   ]
  },
  {
   "cell_type": "code",
   "execution_count": null,
   "metadata": {},
   "outputs": [],
   "source": [
    "ps3.std()"
   ]
  },
  {
   "cell_type": "code",
   "execution_count": null,
   "metadata": {},
   "outputs": [],
   "source": [
    "ps3.var()"
   ]
  },
  {
   "cell_type": "code",
   "execution_count": null,
   "metadata": {},
   "outputs": [],
   "source": [
    "len(ps3.index)"
   ]
  },
  {
   "cell_type": "code",
   "execution_count": null,
   "metadata": {},
   "outputs": [],
   "source": [
    "ps3"
   ]
  },
  {
   "cell_type": "code",
   "execution_count": null,
   "metadata": {},
   "outputs": [],
   "source": [
    "x = ps3.value_counts()\n",
    "print(x)\n",
    "print(type(x))"
   ]
  },
  {
   "cell_type": "code",
   "execution_count": null,
   "metadata": {},
   "outputs": [],
   "source": [
    "x.index"
   ]
  },
  {
   "cell_type": "code",
   "execution_count": null,
   "metadata": {},
   "outputs": [],
   "source": [
    "x.values"
   ]
  },
  {
   "cell_type": "code",
   "execution_count": null,
   "metadata": {},
   "outputs": [],
   "source": [
    "x[200]"
   ]
  },
  {
   "cell_type": "code",
   "execution_count": null,
   "metadata": {},
   "outputs": [],
   "source": [
    "ps3.value_counts()[200]"
   ]
  },
  {
   "cell_type": "code",
   "execution_count": null,
   "metadata": {},
   "outputs": [],
   "source": [
    "ps3.describe()"
   ]
  },
  {
   "cell_type": "code",
   "execution_count": null,
   "metadata": {},
   "outputs": [],
   "source": [
    "ps3"
   ]
  },
  {
   "cell_type": "code",
   "execution_count": null,
   "metadata": {},
   "outputs": [],
   "source": [
    "md = {'Tata': '200', 'Birla': '300', 'Hero':'200', 'Volvo':'500', 'Infy':'300', 'Wipro':'200', 'HCL':'100'}\n",
    "ps4 = pd.Series(md)"
   ]
  },
  {
   "cell_type": "code",
   "execution_count": null,
   "metadata": {},
   "outputs": [],
   "source": [
    "ps4.describe()"
   ]
  },
  {
   "cell_type": "code",
   "execution_count": null,
   "metadata": {},
   "outputs": [],
   "source": [
    "md1 = {'Tata':100, 'Adani':300, 'Infy':800}               # Pandas using Dictionary\n",
    "ps3 = pd.Series(md1)\n",
    "ps3\n"
   ]
  },
  {
   "cell_type": "code",
   "execution_count": null,
   "metadata": {},
   "outputs": [],
   "source": [
    "ps3.describe()"
   ]
  },
  {
   "cell_type": "code",
   "execution_count": null,
   "metadata": {},
   "outputs": [],
   "source": [
    "ps3.std()"
   ]
  },
  {
   "cell_type": "code",
   "execution_count": null,
   "metadata": {},
   "outputs": [],
   "source": [
    "ps3.var()"
   ]
  },
  {
   "cell_type": "code",
   "execution_count": null,
   "metadata": {},
   "outputs": [],
   "source": [
    "ps3.var() ** 0.5"
   ]
  },
  {
   "cell_type": "markdown",
   "metadata": {},
   "source": [
    "# Data Frames"
   ]
  },
  {
   "cell_type": "raw",
   "metadata": {},
   "source": [
    "         Vol  Exp  Rev\n",
    "Tata     100  101  102\n",
    "Birla     103 \n",
    "Wipro\n",
    "Infy\n",
    "Adani"
   ]
  },
  {
   "cell_type": "code",
   "execution_count": null,
   "metadata": {},
   "outputs": [],
   "source": [
    "def giveValue():\n",
    "    dfvalues = np.arange(200,200+15).reshape(5,3)\n",
    "    return dfvalues"
   ]
  },
  {
   "cell_type": "code",
   "execution_count": null,
   "metadata": {},
   "outputs": [],
   "source": [
    "row_label_list = ['Tata', 'Birla', 'Wipro', 'Infy', 'Adani']\n",
    "col_label_list = ['Vol', 'Exp', 'Rev']"
   ]
  },
  {
   "cell_type": "code",
   "execution_count": null,
   "metadata": {},
   "outputs": [],
   "source": [
    "df1 = pd.DataFrame(data=giveValue(), index=row_label_list, columns=col_label_list)\n",
    "df1"
   ]
  },
  {
   "cell_type": "code",
   "execution_count": null,
   "metadata": {},
   "outputs": [],
   "source": [
    "          roll_num  PDS1  PDS2  PDS3\n",
    "\n",
    "Sinha      100\n",
    "Arun       101\n",
    "Ajai\n",
    "Akshay"
   ]
  },
  {
   "cell_type": "code",
   "execution_count": null,
   "metadata": {},
   "outputs": [],
   "source": [
    "df1.index"
   ]
  },
  {
   "cell_type": "code",
   "execution_count": null,
   "metadata": {},
   "outputs": [],
   "source": [
    "df1.columns"
   ]
  },
  {
   "cell_type": "code",
   "execution_count": null,
   "metadata": {},
   "outputs": [],
   "source": [
    "df1.values"
   ]
  },
  {
   "cell_type": "code",
   "execution_count": null,
   "metadata": {},
   "outputs": [],
   "source": [
    "df1.ndim"
   ]
  },
  {
   "cell_type": "code",
   "execution_count": null,
   "metadata": {},
   "outputs": [],
   "source": [
    "df1.shape"
   ]
  },
  {
   "cell_type": "code",
   "execution_count": null,
   "metadata": {},
   "outputs": [],
   "source": [
    "df1.describe()"
   ]
  },
  {
   "cell_type": "code",
   "execution_count": null,
   "metadata": {},
   "outputs": [],
   "source": [
    "md1 = {'Vol':[200,201,202,203,204], 'Rev':[300,301,302,303,304], 'Exp':[400,401,402,403,404]}"
   ]
  },
  {
   "cell_type": "code",
   "execution_count": null,
   "metadata": {},
   "outputs": [],
   "source": [
    "df2 = pd.DataFrame(md1, index=row_label_list)\n",
    "df2"
   ]
  },
  {
   "cell_type": "code",
   "execution_count": null,
   "metadata": {},
   "outputs": [],
   "source": [
    "print(type(df2))"
   ]
  },
  {
   "cell_type": "code",
   "execution_count": null,
   "metadata": {},
   "outputs": [],
   "source": [
    "df2.describe()"
   ]
  },
  {
   "cell_type": "code",
   "execution_count": null,
   "metadata": {},
   "outputs": [],
   "source": [
    "df2.info()"
   ]
  },
  {
   "cell_type": "markdown",
   "metadata": {},
   "source": [
    "# Df Access"
   ]
  },
  {
   "cell_type": "code",
   "execution_count": null,
   "metadata": {},
   "outputs": [],
   "source": [
    "df1 = pd.read_csv('https://raw.githubusercontent.com/vcsgithub/vcsgithub.github.io/master/lds1.csv')\n",
    "df1"
   ]
  },
  {
   "cell_type": "code",
   "execution_count": null,
   "metadata": {},
   "outputs": [],
   "source": [
    "df1.to_csv('local.csv')"
   ]
  },
  {
   "cell_type": "code",
   "execution_count": null,
   "metadata": {},
   "outputs": [],
   "source": [
    "df1.to_excel('local.xls')"
   ]
  },
  {
   "cell_type": "code",
   "execution_count": null,
   "metadata": {},
   "outputs": [],
   "source": [
    "df1.to_html('local.html')"
   ]
  },
  {
   "cell_type": "code",
   "execution_count": null,
   "metadata": {},
   "outputs": [],
   "source": [
    "df1.to_json('local.json')"
   ]
  },
  {
   "cell_type": "code",
   "execution_count": null,
   "metadata": {},
   "outputs": [],
   "source": [
    "dfe = pd.read_excel('local.xls',index_col=0)\n",
    "dfe"
   ]
  },
  {
   "cell_type": "code",
   "execution_count": null,
   "metadata": {},
   "outputs": [],
   "source": [
    "dfh = pd.read_html('local.html', index_col=0)[0]\n",
    "print(dfh)\n",
    "print(type(dfh))"
   ]
  },
  {
   "cell_type": "code",
   "execution_count": null,
   "metadata": {},
   "outputs": [],
   "source": [
    "dfj = pd.read_json('local.json')\n",
    "dfj"
   ]
  },
  {
   "cell_type": "code",
   "execution_count": null,
   "metadata": {},
   "outputs": [],
   "source": [
    "df1 = pd.read_csv('https://raw.githubusercontent.com/vcsgithub/vcsgithub.github.io/master/lds1.csv')\n",
    "df1"
   ]
  },
  {
   "cell_type": "code",
   "execution_count": null,
   "metadata": {},
   "outputs": [],
   "source": [
    "df1"
   ]
  },
  {
   "cell_type": "code",
   "execution_count": null,
   "metadata": {},
   "outputs": [],
   "source": [
    "df1.head(3)"
   ]
  },
  {
   "cell_type": "code",
   "execution_count": null,
   "metadata": {},
   "outputs": [],
   "source": [
    "df1.tail()"
   ]
  },
  {
   "cell_type": "code",
   "execution_count": null,
   "metadata": {},
   "outputs": [],
   "source": [
    "df1.info()"
   ]
  },
  {
   "cell_type": "code",
   "execution_count": null,
   "metadata": {},
   "outputs": [],
   "source": [
    "df1.describe()"
   ]
  },
  {
   "cell_type": "code",
   "execution_count": null,
   "metadata": {},
   "outputs": [],
   "source": [
    "df1.describe(include='all')"
   ]
  },
  {
   "cell_type": "code",
   "execution_count": null,
   "metadata": {},
   "outputs": [],
   "source": [
    "print(type(np.NaN))"
   ]
  },
  {
   "cell_type": "markdown",
   "metadata": {},
   "source": [
    "# df Access"
   ]
  },
  {
   "cell_type": "code",
   "execution_count": null,
   "metadata": {},
   "outputs": [],
   "source": [
    "#Direct Access\n",
    "# iloc based Access  #integer location based access\n",
    "# loc based Access   # label based access"
   ]
  },
  {
   "cell_type": "markdown",
   "metadata": {},
   "source": [
    "Direct Access"
   ]
  },
  {
   "cell_type": "code",
   "execution_count": null,
   "metadata": {},
   "outputs": [],
   "source": [
    "df1"
   ]
  },
  {
   "cell_type": "code",
   "execution_count": null,
   "metadata": {},
   "outputs": [],
   "source": [
    "c = df1['HQ']\n",
    "print(c)\n",
    "print(type(c))"
   ]
  },
  {
   "cell_type": "code",
   "execution_count": null,
   "metadata": {},
   "outputs": [],
   "source": [
    "c.value_counts()"
   ]
  },
  {
   "cell_type": "code",
   "execution_count": null,
   "metadata": {},
   "outputs": [],
   "source": [
    "df1['HQ'].value_counts()"
   ]
  },
  {
   "cell_type": "code",
   "execution_count": null,
   "metadata": {},
   "outputs": [],
   "source": [
    "x = df1['Catg'].value_counts()\n",
    "print(x)\n",
    "print(type(x))"
   ]
  },
  {
   "cell_type": "code",
   "execution_count": null,
   "metadata": {},
   "outputs": [],
   "source": [
    "df1"
   ]
  },
  {
   "cell_type": "code",
   "execution_count": null,
   "metadata": {},
   "outputs": [],
   "source": [
    "df1['Bombay_Sporting']"
   ]
  },
  {
   "cell_type": "code",
   "execution_count": null,
   "metadata": {},
   "outputs": [],
   "source": []
  },
  {
   "cell_type": "code",
   "execution_count": null,
   "metadata": {},
   "outputs": [],
   "source": [
    "df1"
   ]
  },
  {
   "cell_type": "code",
   "execution_count": null,
   "metadata": {},
   "outputs": [],
   "source": [
    "x = df1[   ['Vol', 'HQ', 'Catg']]\n",
    "print(x)\n",
    "print(type(x))"
   ]
  },
  {
   "cell_type": "code",
   "execution_count": null,
   "metadata": {},
   "outputs": [],
   "source": []
  },
  {
   "cell_type": "code",
   "execution_count": null,
   "metadata": {},
   "outputs": [],
   "source": [
    "df1"
   ]
  },
  {
   "cell_type": "code",
   "execution_count": null,
   "metadata": {},
   "outputs": [],
   "source": [
    "df1['Bombay_Sporting':'Bangalore_Breweries']"
   ]
  },
  {
   "cell_type": "code",
   "execution_count": null,
   "metadata": {},
   "outputs": [],
   "source": [
    "df1['Kolkata_FMCG':'Kolkata_FMCG']"
   ]
  },
  {
   "cell_type": "code",
   "execution_count": null,
   "metadata": {},
   "outputs": [],
   "source": [
    "df1['Bangalore_Breweries':'Kolkata_FMCG':-1]"
   ]
  },
  {
   "cell_type": "raw",
   "metadata": {},
   "source": [
    "#  Direct Indexing Access Grammer\n",
    "#df1[<col_label>]\n",
    "#df1[  [Vector of col labels] ]\n",
    "###df1[row_index_start : row_index_end]"
   ]
  },
  {
   "cell_type": "code",
   "execution_count": null,
   "metadata": {},
   "outputs": [],
   "source": [
    "df1"
   ]
  },
  {
   "cell_type": "code",
   "execution_count": null,
   "metadata": {},
   "outputs": [],
   "source": [
    "df1['Rev']"
   ]
  },
  {
   "cell_type": "code",
   "execution_count": null,
   "metadata": {},
   "outputs": [],
   "source": [
    "df1.Rev"
   ]
  },
  {
   "cell_type": "code",
   "execution_count": null,
   "metadata": {},
   "outputs": [],
   "source": [
    "dir(df1)"
   ]
  },
  {
   "cell_type": "code",
   "execution_count": null,
   "metadata": {},
   "outputs": [],
   "source": [
    "df1"
   ]
  },
  {
   "cell_type": "code",
   "execution_count": null,
   "metadata": {},
   "outputs": [],
   "source": [
    "df1['Kolkata_FMCG':'Kolkata_FMCG']['Catg'].values[0]"
   ]
  },
  {
   "cell_type": "code",
   "execution_count": null,
   "metadata": {},
   "outputs": [],
   "source": []
  },
  {
   "cell_type": "markdown",
   "metadata": {},
   "source": [
    "# iLOC based Access"
   ]
  },
  {
   "cell_type": "code",
   "execution_count": null,
   "metadata": {},
   "outputs": [],
   "source": [
    "df1"
   ]
  },
  {
   "cell_type": "code",
   "execution_count": null,
   "metadata": {},
   "outputs": [],
   "source": [
    "df1.iloc[0]"
   ]
  },
  {
   "cell_type": "code",
   "execution_count": null,
   "metadata": {},
   "outputs": [],
   "source": [
    "df1.iloc[0,0]"
   ]
  },
  {
   "cell_type": "code",
   "execution_count": null,
   "metadata": {},
   "outputs": [],
   "source": [
    "df1.iloc[-1,-1]"
   ]
  },
  {
   "cell_type": "code",
   "execution_count": null,
   "metadata": {},
   "outputs": [],
   "source": [
    "df1.index"
   ]
  },
  {
   "cell_type": "code",
   "execution_count": null,
   "metadata": {},
   "outputs": [],
   "source": [
    "df1.columns"
   ]
  },
  {
   "cell_type": "code",
   "execution_count": null,
   "metadata": {},
   "outputs": [],
   "source": []
  },
  {
   "cell_type": "code",
   "execution_count": null,
   "metadata": {},
   "outputs": [],
   "source": [
    "print(type(df1.iloc))"
   ]
  },
  {
   "cell_type": "code",
   "execution_count": null,
   "metadata": {},
   "outputs": [],
   "source": [
    "df1"
   ]
  },
  {
   "cell_type": "code",
   "execution_count": null,
   "metadata": {},
   "outputs": [],
   "source": [
    "df1.iloc[0:3]"
   ]
  },
  {
   "cell_type": "code",
   "execution_count": null,
   "metadata": {},
   "outputs": [],
   "source": [
    "x = df1.iloc[3:6, 2:5]\n",
    "print(x)\n",
    "print(type(x))"
   ]
  },
  {
   "cell_type": "code",
   "execution_count": null,
   "metadata": {},
   "outputs": [],
   "source": [
    "df1"
   ]
  },
  {
   "cell_type": "code",
   "execution_count": null,
   "metadata": {},
   "outputs": [],
   "source": [
    "x = df1.iloc[3:4, 3:5]\n",
    "print(x)\n",
    "print(type(x))"
   ]
  },
  {
   "cell_type": "code",
   "execution_count": null,
   "metadata": {},
   "outputs": [],
   "source": [
    "df1.iloc[3:5]"
   ]
  },
  {
   "cell_type": "code",
   "execution_count": null,
   "metadata": {},
   "outputs": [],
   "source": [
    "df1"
   ]
  },
  {
   "cell_type": "code",
   "execution_count": null,
   "metadata": {},
   "outputs": [],
   "source": [
    "df1.iloc[ [0,-1,2,3] ]"
   ]
  },
  {
   "cell_type": "code",
   "execution_count": null,
   "metadata": {},
   "outputs": [],
   "source": [
    "df1.iloc[ [0,-1,2,3],  [0,-1,-2] ]"
   ]
  },
  {
   "cell_type": "raw",
   "metadata": {},
   "source": [
    "# iloc Grammer\n",
    "\n",
    "# df1.iloc[row_n_index, col_n_index]\n",
    "# df1.iloc[  row_n_slice,   col_n_slice]\n",
    "# df1.iloc[ [row_n_vector],  [col_n_vector]]\n",
    "# combo of all of them"
   ]
  },
  {
   "cell_type": "code",
   "execution_count": null,
   "metadata": {},
   "outputs": [],
   "source": [
    "df1"
   ]
  },
  {
   "cell_type": "code",
   "execution_count": null,
   "metadata": {},
   "outputs": [],
   "source": [
    "r_mask = df1['Vol'] > 931\n",
    "print(r_mask)"
   ]
  },
  {
   "cell_type": "code",
   "execution_count": null,
   "metadata": {},
   "outputs": [],
   "source": [
    "df1[r_mask]"
   ]
  },
  {
   "cell_type": "code",
   "execution_count": null,
   "metadata": {},
   "outputs": [],
   "source": [
    "df1[df1.Vol>931]"
   ]
  },
  {
   "cell_type": "code",
   "execution_count": null,
   "metadata": {},
   "outputs": [],
   "source": [
    "df1[df1.Catg=='Pub']"
   ]
  },
  {
   "cell_type": "code",
   "execution_count": null,
   "metadata": {},
   "outputs": [],
   "source": [
    "df1"
   ]
  },
  {
   "cell_type": "code",
   "execution_count": null,
   "metadata": {},
   "outputs": [],
   "source": [
    "df1[df1.Catg=='Pub']"
   ]
  },
  {
   "cell_type": "code",
   "execution_count": null,
   "metadata": {},
   "outputs": [],
   "source": [
    "df1[(df1.Catg=='Pub') & (df1.Vol > 940)]"
   ]
  },
  {
   "cell_type": "code",
   "execution_count": null,
   "metadata": {},
   "outputs": [],
   "source": [
    "df1.Catg.str.upper()"
   ]
  },
  {
   "cell_type": "markdown",
   "metadata": {},
   "source": [
    "# LOC Based Access"
   ]
  },
  {
   "cell_type": "code",
   "execution_count": null,
   "metadata": {},
   "outputs": [],
   "source": [
    "df1"
   ]
  },
  {
   "cell_type": "code",
   "execution_count": null,
   "metadata": {},
   "outputs": [],
   "source": [
    "df1.loc['Bombay_Finance']"
   ]
  },
  {
   "cell_type": "code",
   "execution_count": null,
   "metadata": {},
   "outputs": [],
   "source": [
    "df1.loc['Bombay_Finance','Catg']"
   ]
  },
  {
   "cell_type": "code",
   "execution_count": null,
   "metadata": {},
   "outputs": [],
   "source": [
    "df1.loc['NCR_Leagles': 'Bangalore_Breweries']"
   ]
  },
  {
   "cell_type": "code",
   "execution_count": null,
   "metadata": {},
   "outputs": [],
   "source": [
    "df1.loc['NCR_Leagles': 'Bangalore_Breweries',  'Rev': 'EmpCnt']"
   ]
  },
  {
   "cell_type": "code",
   "execution_count": null,
   "metadata": {},
   "outputs": [],
   "source": [
    "df1"
   ]
  },
  {
   "cell_type": "code",
   "execution_count": null,
   "metadata": {},
   "outputs": [],
   "source": [
    "df1.loc[  ['NCR_Leagles', 'Indi_Services', 'Bangalore_Breweries']  ]"
   ]
  },
  {
   "cell_type": "code",
   "execution_count": null,
   "metadata": {},
   "outputs": [],
   "source": [
    "df1.loc[  ['NCR_Leagles', 'Indi_Services', 'Bangalore_Breweries'] ,  ['EmpCnt','Rev','HQ', 'Catg'] ]"
   ]
  },
  {
   "cell_type": "code",
   "execution_count": null,
   "metadata": {},
   "outputs": [],
   "source": [
    "# loc Grammer\n",
    "\n",
    "# df1.iloc[row_l_index, col_l_index]\n",
    "# df1.iloc[  row_l_slice,   col_l_slice]\n",
    "# df1.iloc[ [row_l_vector],  [col_l_vector]]\n",
    "# combo of all of them"
   ]
  },
  {
   "cell_type": "code",
   "execution_count": null,
   "metadata": {},
   "outputs": [],
   "source": [
    "df1"
   ]
  },
  {
   "cell_type": "code",
   "execution_count": null,
   "metadata": {},
   "outputs": [],
   "source": [
    "df1.loc['Bombay_Finance': 'Chennai_Shipping',  'Vol': 'Catg']\n"
   ]
  },
  {
   "cell_type": "code",
   "execution_count": null,
   "metadata": {},
   "outputs": [],
   "source": [
    "df1.columns"
   ]
  },
  {
   "cell_type": "code",
   "execution_count": null,
   "metadata": {},
   "outputs": [],
   "source": [
    "df1.columns[2]"
   ]
  },
  {
   "cell_type": "code",
   "execution_count": null,
   "metadata": {},
   "outputs": [],
   "source": [
    "df1.loc[:, df1.columns[2]]"
   ]
  },
  {
   "cell_type": "code",
   "execution_count": null,
   "metadata": {},
   "outputs": [],
   "source": [
    "df1.columns"
   ]
  },
  {
   "cell_type": "code",
   "execution_count": null,
   "metadata": {},
   "outputs": [],
   "source": [
    "df1.columns.get_loc('Exp')"
   ]
  },
  {
   "cell_type": "markdown",
   "metadata": {},
   "source": [
    "# Sorting"
   ]
  },
  {
   "cell_type": "code",
   "execution_count": null,
   "metadata": {},
   "outputs": [],
   "source": [
    "df1 = pd.read_csv('https://raw.githubusercontent.com/vcsgithub/vcsgithub.github.io/master/lds1.csv')\n",
    "df1"
   ]
  },
  {
   "cell_type": "code",
   "execution_count": null,
   "metadata": {},
   "outputs": [],
   "source": [
    "df1.sort_index()"
   ]
  },
  {
   "cell_type": "code",
   "execution_count": null,
   "metadata": {},
   "outputs": [],
   "source": [
    "df2 = df1.sort_index(axis=1, inplace=True, ascending=False)\n",
    "print(df2)\n",
    "print()\n",
    "print(df1)"
   ]
  },
  {
   "cell_type": "code",
   "execution_count": null,
   "metadata": {},
   "outputs": [],
   "source": [
    "df1"
   ]
  },
  {
   "cell_type": "code",
   "execution_count": null,
   "metadata": {},
   "outputs": [],
   "source": [
    "df1.sort_values(by='Vol',ascending=False)"
   ]
  },
  {
   "cell_type": "code",
   "execution_count": null,
   "metadata": {},
   "outputs": [],
   "source": [
    "df1.sort_values(by=['Vol','Rev'],ascending=[False,True], inplace=True, axis=0)"
   ]
  },
  {
   "cell_type": "code",
   "execution_count": null,
   "metadata": {},
   "outputs": [],
   "source": [
    "df1"
   ]
  },
  {
   "cell_type": "code",
   "execution_count": null,
   "metadata": {},
   "outputs": [],
   "source": [
    "df1.sort_values(by='Bangalore_Breweries',ascending=True,axis=1)"
   ]
  },
  {
   "cell_type": "code",
   "execution_count": null,
   "metadata": {},
   "outputs": [],
   "source": [
    "1 > 'hello'"
   ]
  },
  {
   "cell_type": "code",
   "execution_count": null,
   "metadata": {},
   "outputs": [],
   "source": [
    "df1 = pd.read_csv('https://raw.githubusercontent.com/vcsgithub/vcsgithub.github.io/master/lds1.csv')\n",
    "print(df1)\n",
    "df2 = df1.sort_index(axis=1)\n",
    "print(df2)"
   ]
  },
  {
   "cell_type": "code",
   "execution_count": null,
   "metadata": {},
   "outputs": [],
   "source": [
    "df1.describe(include='all')"
   ]
  },
  {
   "cell_type": "code",
   "execution_count": null,
   "metadata": {},
   "outputs": [],
   "source": [
    "df1.Catg.value_counts()"
   ]
  },
  {
   "cell_type": "code",
   "execution_count": null,
   "metadata": {},
   "outputs": [],
   "source": [
    "df1.HQ.value_counts()"
   ]
  },
  {
   "cell_type": "code",
   "execution_count": null,
   "metadata": {},
   "outputs": [],
   "source": [
    "df1 = pd.read_csv('https://raw.githubusercontent.com/vcsgithub/vcsgithub.github.io/master/lds1.csv')\n",
    "print(df1)"
   ]
  },
  {
   "cell_type": "markdown",
   "metadata": {},
   "source": [
    "# 13/Dec/2020"
   ]
  },
  {
   "cell_type": "markdown",
   "metadata": {},
   "source": [
    "# Ranking"
   ]
  },
  {
   "cell_type": "code",
   "execution_count": null,
   "metadata": {},
   "outputs": [],
   "source": [
    "df1 = pd.read_csv('https://raw.githubusercontent.com/vcsgithub/vcsgithub.github.io/master/lds1.csv')\n",
    "print(df1)"
   ]
  },
  {
   "cell_type": "code",
   "execution_count": null,
   "metadata": {},
   "outputs": [],
   "source": [
    "df1.Vol.rank(ascending=False, method='average')"
   ]
  },
  {
   "cell_type": "code",
   "execution_count": null,
   "metadata": {},
   "outputs": [],
   "source": [
    "df1['VolRank']=df1.Vol.rank(ascending=False, method='dense')"
   ]
  },
  {
   "cell_type": "code",
   "execution_count": null,
   "metadata": {},
   "outputs": [],
   "source": [
    "df1['ExpRank']=df1.Exp.rank(ascending=True, method='first')"
   ]
  },
  {
   "cell_type": "code",
   "execution_count": null,
   "metadata": {},
   "outputs": [],
   "source": [
    "df1.sort_values(by='ExpRank')"
   ]
  },
  {
   "cell_type": "code",
   "execution_count": null,
   "metadata": {},
   "outputs": [],
   "source": [
    "df1.rank(axis=0)"
   ]
  },
  {
   "cell_type": "code",
   "execution_count": null,
   "metadata": {},
   "outputs": [],
   "source": [
    "df1['VolRev'] = df1.Vol * df1.Rev"
   ]
  },
  {
   "cell_type": "code",
   "execution_count": null,
   "metadata": {},
   "outputs": [],
   "source": [
    "df1"
   ]
  },
  {
   "cell_type": "markdown",
   "metadata": {},
   "source": [
    "# Concatenation"
   ]
  },
  {
   "cell_type": "code",
   "execution_count": null,
   "metadata": {},
   "outputs": [],
   "source": [
    "df11 = pd.read_csv('https://raw.githubusercontent.com/vcsgithub/vcsgithub.github.io/master/lds11.csv')\n",
    "print(df11)\n",
    "\n",
    "df12 = pd.read_csv('https://raw.githubusercontent.com/vcsgithub/vcsgithub.github.io/master/lds12.csv')\n",
    "print(df12)"
   ]
  },
  {
   "cell_type": "code",
   "execution_count": null,
   "metadata": {},
   "outputs": [],
   "source": [
    "dfc = pd.concat(objs=(df11,df12), axis=0, join='outer')\n",
    "dfc"
   ]
  },
  {
   "cell_type": "code",
   "execution_count": null,
   "metadata": {},
   "outputs": [],
   "source": [
    "dfc.info()"
   ]
  },
  {
   "cell_type": "code",
   "execution_count": null,
   "metadata": {},
   "outputs": [],
   "source": [
    "dfc = pd.concat(objs=(df11,df12), axis=0, join='outer')\n",
    "print(dfc)\n",
    "pd.unique(dfc.index)"
   ]
  },
  {
   "cell_type": "code",
   "execution_count": null,
   "metadata": {},
   "outputs": [],
   "source": [
    "dfc.drop_duplicates()"
   ]
  },
  {
   "cell_type": "code",
   "execution_count": null,
   "metadata": {},
   "outputs": [],
   "source": [
    "pd.merge(df11, df12,how='outer')"
   ]
  },
  {
   "cell_type": "code",
   "execution_count": null,
   "metadata": {},
   "outputs": [],
   "source": [
    "dfc = pd.concat(objs=(df11,df12), axis=1, join='outer')\n",
    "dfc"
   ]
  },
  {
   "cell_type": "code",
   "execution_count": null,
   "metadata": {},
   "outputs": [],
   "source": [
    "dfc = pd.concat(objs=(df11,df12), axis=1, join='inner')\n",
    "dfc"
   ]
  },
  {
   "cell_type": "code",
   "execution_count": null,
   "metadata": {},
   "outputs": [],
   "source": [
    "dfc = pd.concat(objs=(df11,df12), axis=0, join='outer', keys=['d11','d12'])\n",
    "dfc"
   ]
  },
  {
   "cell_type": "code",
   "execution_count": null,
   "metadata": {},
   "outputs": [],
   "source": [
    "dfc.index"
   ]
  },
  {
   "cell_type": "code",
   "execution_count": null,
   "metadata": {},
   "outputs": [],
   "source": [
    "dfc.columns"
   ]
  },
  {
   "cell_type": "code",
   "execution_count": null,
   "metadata": {},
   "outputs": [],
   "source": [
    "dfc.loc[('d11',     'Bombay_Sporting'), 'Vol']"
   ]
  },
  {
   "cell_type": "code",
   "execution_count": null,
   "metadata": {},
   "outputs": [],
   "source": [
    "dfc.loc[('d12',     'Bombay_Sporting'), 'Vol']"
   ]
  },
  {
   "cell_type": "code",
   "execution_count": null,
   "metadata": {},
   "outputs": [],
   "source": [
    "dfc.loc['d11', 'Vol']"
   ]
  },
  {
   "cell_type": "code",
   "execution_count": null,
   "metadata": {},
   "outputs": [],
   "source": [
    "dfc = pd.concat(objs=(df11,df12), axis=1, join='outer', keys=['d11','d12'])\n",
    "dfc"
   ]
  },
  {
   "cell_type": "code",
   "execution_count": null,
   "metadata": {},
   "outputs": [],
   "source": [
    "dfc.loc['Bombay_Sporting',  ('d12','Expn')]"
   ]
  },
  {
   "cell_type": "code",
   "execution_count": null,
   "metadata": {},
   "outputs": [],
   "source": [
    "dfc.loc['Bombay_Sporting',  'd12']"
   ]
  },
  {
   "cell_type": "code",
   "execution_count": null,
   "metadata": {},
   "outputs": [],
   "source": [
    "dfc.columns"
   ]
  },
  {
   "cell_type": "code",
   "execution_count": null,
   "metadata": {},
   "outputs": [],
   "source": [
    "dfc.index"
   ]
  },
  {
   "cell_type": "code",
   "execution_count": null,
   "metadata": {},
   "outputs": [],
   "source": [
    "dfc.shape"
   ]
  },
  {
   "cell_type": "markdown",
   "metadata": {},
   "source": [
    "# Merge-- SQL Style"
   ]
  },
  {
   "cell_type": "code",
   "execution_count": 3,
   "metadata": {},
   "outputs": [
    {
     "name": "stdout",
     "output_type": "stream",
     "text": [
      "                company stock_name  high  low  \n",
      "0        infi_systems13       INFS  1200    600\n",
      "1  kernel_associates123       KRAS  1100    800\n",
      "2      porto_shipping23       POSH  1200    300\n",
      "3     appo_automobiles3       APTP  2000    800\n",
      "                company  vol  rev  exp stock_ticker   HQ\n",
      "0  kernel_associates123  350  450  550         KRAS  Mum\n",
      "1      vv_automobiles12  450  550  500         VVAU  Blr\n",
      "2      porto_shipping23  550  650  700         POSH  Che\n",
      "3          time_makers2  400  300  200         HMTW  Kol\n",
      "4        charmi_studios  500  250  150         CSTD  HYD\n",
      "                company   HQ Catg  empcnt\n",
      "0        infi_systems13  Blr  Pub   20000\n",
      "1      tree_consulting1  NCR  Pub   10000\n",
      "2  kernel_associates123  Mum  Pvt    5000\n",
      "3      vv_automobiles12  Blr  Pvt   30000\n"
     ]
    }
   ],
   "source": [
    "df21 = pd.read_csv('https://raw.githubusercontent.com/vcsgithub/vcsgithub.github.io/master/lds21.csv')\n",
    "print(df21)\n",
    "\n",
    "df22 = pd.read_csv('https://raw.githubusercontent.com/vcsgithub/vcsgithub.github.io/master/lds22.csv')\n",
    "print(df22)\n",
    "\n",
    "df23 = pd.read_csv('https://raw.githubusercontent.com/vcsgithub/vcsgithub.github.io/master/lds23.csv')\n",
    "print(df23)"
   ]
  },
  {
   "cell_type": "code",
   "execution_count": 4,
   "metadata": {},
   "outputs": [
    {
     "data": {
      "text/html": [
       "<div>\n",
       "<style scoped>\n",
       "    .dataframe tbody tr th:only-of-type {\n",
       "        vertical-align: middle;\n",
       "    }\n",
       "\n",
       "    .dataframe tbody tr th {\n",
       "        vertical-align: top;\n",
       "    }\n",
       "\n",
       "    .dataframe thead th {\n",
       "        text-align: right;\n",
       "    }\n",
       "</style>\n",
       "<table border=\"1\" class=\"dataframe\">\n",
       "  <thead>\n",
       "    <tr style=\"text-align: right;\">\n",
       "      <th></th>\n",
       "      <th>company</th>\n",
       "      <th>stock_name</th>\n",
       "      <th>high</th>\n",
       "      <th>low</th>\n",
       "      <th>vol</th>\n",
       "      <th>rev</th>\n",
       "      <th>exp</th>\n",
       "      <th>stock_ticker</th>\n",
       "      <th>HQ</th>\n",
       "    </tr>\n",
       "  </thead>\n",
       "  <tbody>\n",
       "    <tr>\n",
       "      <th>0</th>\n",
       "      <td>kernel_associates123</td>\n",
       "      <td>KRAS</td>\n",
       "      <td>1100</td>\n",
       "      <td>800</td>\n",
       "      <td>350</td>\n",
       "      <td>450</td>\n",
       "      <td>550</td>\n",
       "      <td>KRAS</td>\n",
       "      <td>Mum</td>\n",
       "    </tr>\n",
       "    <tr>\n",
       "      <th>1</th>\n",
       "      <td>porto_shipping23</td>\n",
       "      <td>POSH</td>\n",
       "      <td>1200</td>\n",
       "      <td>300</td>\n",
       "      <td>550</td>\n",
       "      <td>650</td>\n",
       "      <td>700</td>\n",
       "      <td>POSH</td>\n",
       "      <td>Che</td>\n",
       "    </tr>\n",
       "  </tbody>\n",
       "</table>\n",
       "</div>"
      ],
      "text/plain": [
       "                company stock_name  high  low    vol  rev  exp stock_ticker  \\\n",
       "0  kernel_associates123       KRAS  1100    800  350  450  550         KRAS   \n",
       "1      porto_shipping23       POSH  1200    300  550  650  700         POSH   \n",
       "\n",
       "    HQ  \n",
       "0  Mum  \n",
       "1  Che  "
      ]
     },
     "execution_count": 4,
     "metadata": {},
     "output_type": "execute_result"
    }
   ],
   "source": [
    "pd.merge(left=df21, right=df22,how='inner', on='company')"
   ]
  },
  {
   "cell_type": "code",
   "execution_count": null,
   "metadata": {},
   "outputs": [],
   "source": [
    "pd.merge(left=df21, right=df22,how='outer', on='company')"
   ]
  },
  {
   "cell_type": "code",
   "execution_count": null,
   "metadata": {},
   "outputs": [],
   "source": [
    "pd.merge(left=df21, right=df22,how='left', on='company')"
   ]
  },
  {
   "cell_type": "code",
   "execution_count": null,
   "metadata": {},
   "outputs": [],
   "source": [
    "pd.merge(left=df21, right=df22,how='right', on='company')"
   ]
  },
  {
   "cell_type": "code",
   "execution_count": null,
   "metadata": {},
   "outputs": [],
   "source": [
    "pd.merge(df21,df22, how='outer',left_on='stock_name', right_on='stock_ticker')"
   ]
  },
  {
   "cell_type": "code",
   "execution_count": null,
   "metadata": {},
   "outputs": [],
   "source": [
    "pd.merge(df21,df22, how='inner',left_on='stock_name', right_on='stock_ticker', suffixes=['_left', '_right'])"
   ]
  },
  {
   "cell_type": "code",
   "execution_count": null,
   "metadata": {},
   "outputs": [],
   "source": [
    "pd.merge(df22,df23, how='inner', on=['company','HQ'])"
   ]
  },
  {
   "cell_type": "raw",
   "metadata": {},
   "source": [
    "pd.merge(left=df21,right=df22,how=\"inner\", left_on = ['stock_name','company'], right_on = ['stock_ticker','company'], suffixes = ['_left','_right'])"
   ]
  },
  {
   "cell_type": "code",
   "execution_count": null,
   "metadata": {},
   "outputs": [],
   "source": [
    "pd.merge(df22,df23, how='inner', on='HQ')  # 1 to many example.. cross join..."
   ]
  },
  {
   "cell_type": "code",
   "execution_count": null,
   "metadata": {},
   "outputs": [],
   "source": [
    "df22"
   ]
  },
  {
   "cell_type": "code",
   "execution_count": null,
   "metadata": {},
   "outputs": [],
   "source": [
    "df23"
   ]
  },
  {
   "cell_type": "markdown",
   "metadata": {},
   "source": [
    "# Pivot Table"
   ]
  },
  {
   "cell_type": "code",
   "execution_count": 5,
   "metadata": {},
   "outputs": [
    {
     "name": "stdout",
     "output_type": "stream",
     "text": [
      "                     Vol    Rev  Exp Catg  EmpCnt   HQ\n",
      "Kolkata_FMCG         900  874.4  676  Pub    1379  Kol\n",
      "NCR_Leagles          931  863.5  605  Pub    1935  NCR\n",
      "Bombay_Sporting      925  839.8  615  Pvt     154  Mum\n",
      "Bombay_Finance       899  917.0  674  Pub    1443  Mum\n",
      "Bangalore_Systems    931  881.6  650  Gov    1361  Blr\n",
      "Chennai_Shipping     992  821.0  665  Pub    1154  Che\n",
      "Bangalore_Breweries  966  805.0  895  Pvt     119  Blr\n",
      "Chennai_Chemicals    966  863.2  608  Pub    1656  Che\n",
      "Indi_Services        954  733.0  609  Gov   13023  NCR\n"
     ]
    }
   ],
   "source": [
    "df1 = pd.read_csv('https://raw.githubusercontent.com/vcsgithub/vcsgithub.github.io/master/lds1.csv')\n",
    "print(df1)"
   ]
  },
  {
   "cell_type": "code",
   "execution_count": null,
   "metadata": {},
   "outputs": [],
   "source": [
    "df2 = pd.pivot_table(df1, index='Catg', aggfunc='mean')\n",
    "df2"
   ]
  },
  {
   "cell_type": "code",
   "execution_count": null,
   "metadata": {},
   "outputs": [],
   "source": [
    "df2 = pd.pivot_table(df1, index='Catg', aggfunc='max')\n",
    "df2"
   ]
  },
  {
   "cell_type": "code",
   "execution_count": null,
   "metadata": {},
   "outputs": [],
   "source": [
    "df2 = pd.pivot_table(df1, index='Catg', aggfunc=np.min)\n",
    "df2"
   ]
  },
  {
   "cell_type": "code",
   "execution_count": null,
   "metadata": {},
   "outputs": [],
   "source": [
    "df2 = pd.pivot_table(df1, index='Catg', aggfunc=[np.min,np.max, np.mean])\n",
    "df2"
   ]
  },
  {
   "cell_type": "code",
   "execution_count": null,
   "metadata": {},
   "outputs": [],
   "source": [
    "df2 = pd.pivot_table(df1, index='Catg', values=['Exp','Rev'], aggfunc=np.min)\n",
    "df2"
   ]
  },
  {
   "cell_type": "code",
   "execution_count": null,
   "metadata": {},
   "outputs": [],
   "source": [
    "df2 = pd.pivot_table(df1, index='Catg', values=['Exp','Rev'], aggfunc=[np.min,np.max, np.mean])\n",
    "df2"
   ]
  },
  {
   "cell_type": "code",
   "execution_count": null,
   "metadata": {},
   "outputs": [],
   "source": [
    "df2 = pd.pivot_table(df1, index='Catg', columns=['HQ'],values=['Exp','Rev'], aggfunc=[np.min,np.max])\n",
    "df2"
   ]
  },
  {
   "cell_type": "code",
   "execution_count": null,
   "metadata": {},
   "outputs": [],
   "source": [
    "df2 = pd.pivot_table(df1, index='Catg', columns=['HQ'],values=['Exp','Rev'], aggfunc=[np.min,np.max, np.mean])\n",
    "print(df2)\n",
    "print(df2.columns)"
   ]
  },
  {
   "cell_type": "code",
   "execution_count": null,
   "metadata": {},
   "outputs": [],
   "source": [
    "df2 = pd.pivot_table(df1, index='Catg', values='Vol', aggfunc=[np.min,np.max, lambda c:c.max()-c.min()])\n",
    "df2"
   ]
  },
  {
   "cell_type": "code",
   "execution_count": null,
   "metadata": {},
   "outputs": [],
   "source": [
    "def cdiff(c):\n",
    "    return c.max()-c.min()"
   ]
  },
  {
   "cell_type": "code",
   "execution_count": null,
   "metadata": {},
   "outputs": [],
   "source": [
    "df2 = pd.pivot_table(df1, index='Catg', values='Vol', aggfunc=[np.min,np.max, cdiff])\n",
    "df2"
   ]
  },
  {
   "cell_type": "code",
   "execution_count": null,
   "metadata": {},
   "outputs": [],
   "source": [
    "type(df2)"
   ]
  },
  {
   "cell_type": "code",
   "execution_count": null,
   "metadata": {},
   "outputs": [],
   "source": [
    "df2.index"
   ]
  },
  {
   "cell_type": "code",
   "execution_count": null,
   "metadata": {},
   "outputs": [],
   "source": [
    "df1.EmpCnt.mean()"
   ]
  },
  {
   "cell_type": "code",
   "execution_count": null,
   "metadata": {},
   "outputs": [],
   "source": [
    "df1.loc[df1.Catg=='Pub', 'EmpCnt'].mean()"
   ]
  },
  {
   "cell_type": "markdown",
   "metadata": {},
   "source": [
    "# Groupby"
   ]
  },
  {
   "cell_type": "code",
   "execution_count": null,
   "metadata": {},
   "outputs": [],
   "source": [
    "#split, apply, combine"
   ]
  },
  {
   "cell_type": "code",
   "execution_count": 6,
   "metadata": {},
   "outputs": [
    {
     "name": "stdout",
     "output_type": "stream",
     "text": [
      "                     Vol    Rev  Exp Catg  EmpCnt   HQ\n",
      "Kolkata_FMCG         900  874.4  676  Pub    1379  Kol\n",
      "NCR_Leagles          931  863.5  605  Pub    1935  NCR\n",
      "Bombay_Sporting      925  839.8  615  Pvt     154  Mum\n",
      "Bombay_Finance       899  917.0  674  Pub    1443  Mum\n",
      "Bangalore_Systems    931  881.6  650  Gov    1361  Blr\n",
      "Chennai_Shipping     992  821.0  665  Pub    1154  Che\n",
      "Bangalore_Breweries  966  805.0  895  Pvt     119  Blr\n",
      "Chennai_Chemicals    966  863.2  608  Pub    1656  Che\n",
      "Indi_Services        954  733.0  609  Gov   13023  NCR\n"
     ]
    }
   ],
   "source": [
    "df1 = pd.read_csv('https://raw.githubusercontent.com/vcsgithub/vcsgithub.github.io/master/lds1.csv')\n",
    "print(df1)"
   ]
  },
  {
   "cell_type": "code",
   "execution_count": 7,
   "metadata": {},
   "outputs": [],
   "source": [
    "dfg = df1.groupby(by='Catg')"
   ]
  },
  {
   "cell_type": "code",
   "execution_count": 8,
   "metadata": {},
   "outputs": [
    {
     "name": "stdout",
     "output_type": "stream",
     "text": [
      "<pandas.core.groupby.generic.DataFrameGroupBy object at 0x7f93586d5b80>\n"
     ]
    }
   ],
   "source": [
    "print(dfg)"
   ]
  },
  {
   "cell_type": "code",
   "execution_count": null,
   "metadata": {},
   "outputs": [],
   "source": [
    "print(type(dfg))"
   ]
  },
  {
   "cell_type": "code",
   "execution_count": null,
   "metadata": {},
   "outputs": [],
   "source": [
    "dfg.groups"
   ]
  },
  {
   "cell_type": "code",
   "execution_count": 9,
   "metadata": {},
   "outputs": [
    {
     "name": "stdout",
     "output_type": "stream",
     "text": [
      "                   Vol    Rev  Exp Catg  EmpCnt   HQ\n",
      "Bangalore_Systems  931  881.6  650  Gov    1361  Blr\n",
      "Indi_Services      954  733.0  609  Gov   13023  NCR\n",
      "<class 'pandas.core.frame.DataFrame'>\n"
     ]
    }
   ],
   "source": [
    "x = dfg.get_group('Gov')\n",
    "print(x)\n",
    "print(type(x))"
   ]
  },
  {
   "cell_type": "code",
   "execution_count": null,
   "metadata": {},
   "outputs": [],
   "source": [
    "dfglist = list(dfg)\n",
    "print(dfglist)"
   ]
  },
  {
   "cell_type": "code",
   "execution_count": null,
   "metadata": {},
   "outputs": [],
   "source": [
    "for item in dfglist:\n",
    "    #print(item)\n",
    "    print(type(item))\n",
    "    for element in item:\n",
    "        print(type(element))\n",
    "        print(element)\n",
    "    print()"
   ]
  },
  {
   "cell_type": "code",
   "execution_count": null,
   "metadata": {},
   "outputs": [],
   "source": [
    "dfg = df1.groupby(by='Catg')"
   ]
  },
  {
   "cell_type": "code",
   "execution_count": null,
   "metadata": {},
   "outputs": [],
   "source": [
    "dfg.Vol.count()"
   ]
  },
  {
   "cell_type": "code",
   "execution_count": null,
   "metadata": {},
   "outputs": [],
   "source": [
    "dfg.Vol.max()"
   ]
  },
  {
   "cell_type": "code",
   "execution_count": null,
   "metadata": {},
   "outputs": [],
   "source": [
    "df1.groupby(by='Catg')['Vol'].max()"
   ]
  },
  {
   "cell_type": "code",
   "execution_count": null,
   "metadata": {},
   "outputs": [],
   "source": [
    "df1.groupby(by='Catg')['Vol'].mean()"
   ]
  },
  {
   "cell_type": "code",
   "execution_count": null,
   "metadata": {},
   "outputs": [],
   "source": [
    "df1.groupby(by='Catg')['Vol'].mean()"
   ]
  },
  {
   "cell_type": "code",
   "execution_count": null,
   "metadata": {},
   "outputs": [],
   "source": [
    "df1.groupby(by='Catg').mean()['Vol']"
   ]
  },
  {
   "cell_type": "code",
   "execution_count": 10,
   "metadata": {},
   "outputs": [
    {
     "data": {
      "text/plain": [
       "Catg  HQ \n",
       "Gov   Blr    931\n",
       "      NCR    954\n",
       "Pub   Che    979\n",
       "      Kol    900\n",
       "      Mum    899\n",
       "      NCR    931\n",
       "Pvt   Blr    966\n",
       "      Mum    925\n",
       "Name: Vol, dtype: int64"
      ]
     },
     "execution_count": 10,
     "metadata": {},
     "output_type": "execute_result"
    }
   ],
   "source": [
    "df2 = df1.groupby(by=['Catg','HQ'])['Vol'].mean()\n",
    "df2"
   ]
  },
  {
   "cell_type": "code",
   "execution_count": null,
   "metadata": {},
   "outputs": [],
   "source": [
    "df2.index"
   ]
  },
  {
   "cell_type": "code",
   "execution_count": null,
   "metadata": {},
   "outputs": [],
   "source": [
    "type(df2)"
   ]
  },
  {
   "cell_type": "code",
   "execution_count": null,
   "metadata": {},
   "outputs": [],
   "source": [
    "df2 = df1.groupby(by=['Catg','HQ']).mean()\n",
    "df2"
   ]
  },
  {
   "cell_type": "code",
   "execution_count": null,
   "metadata": {},
   "outputs": [],
   "source": [
    "df2 = df1.groupby(by=['Catg']).agg(['min','max'])\n",
    "df2"
   ]
  },
  {
   "cell_type": "code",
   "execution_count": null,
   "metadata": {},
   "outputs": [],
   "source": [
    "df1.agg()"
   ]
  },
  {
   "cell_type": "code",
   "execution_count": null,
   "metadata": {},
   "outputs": [],
   "source": [
    "df2 = df1.groupby(by=['Catg']).agg(['min','max', lambda c: c.max()-c.min()])\n",
    "df2"
   ]
  },
  {
   "cell_type": "code",
   "execution_count": null,
   "metadata": {},
   "outputs": [],
   "source": [
    "mxmn = lambda c: c.max()-c.min()\n",
    "mxmn.__name__ = 'hello'\n",
    "\n",
    "\n",
    "df2 = df1.groupby(by=['Catg']).agg(['min',np.max, mxmn])\n",
    "df2"
   ]
  },
  {
   "cell_type": "code",
   "execution_count": null,
   "metadata": {},
   "outputs": [],
   "source": [
    "np.max.__name__"
   ]
  },
  {
   "cell_type": "code",
   "execution_count": null,
   "metadata": {},
   "outputs": [],
   "source": [
    "df1[df1[\"Catg\"]==\"Gov\"]\n"
   ]
  },
  {
   "cell_type": "code",
   "execution_count": null,
   "metadata": {},
   "outputs": [],
   "source": [
    "mask = df1[\"Catg\"]==\"Gov\"\n",
    "print(mask)"
   ]
  },
  {
   "cell_type": "code",
   "execution_count": null,
   "metadata": {},
   "outputs": [],
   "source": [
    "df1[mask]"
   ]
  },
  {
   "cell_type": "code",
   "execution_count": null,
   "metadata": {},
   "outputs": [],
   "source": [
    "df1"
   ]
  },
  {
   "cell_type": "code",
   "execution_count": null,
   "metadata": {},
   "outputs": [],
   "source": [
    "mylist = [True,False,True] * 3\n",
    "print(mylist)\n",
    "df1[mylist]"
   ]
  },
  {
   "cell_type": "markdown",
   "metadata": {},
   "source": [
    "# Stack,Unstack"
   ]
  },
  {
   "cell_type": "raw",
   "metadata": {},
   "source": [
    "        2018      2018    2018  2018  2019      2019    2019  2019\n",
    "         q1        q1     q2     q2   q1        q1     q2     q2\n",
    "         fmcg      tech   f      t    fmcg      tech   f      t\n",
    "Tata\n",
    "Birla\n",
    "Wipro\n",
    "ITC"
   ]
  },
  {
   "cell_type": "code",
   "execution_count": null,
   "metadata": {},
   "outputs": [],
   "source": [
    "n48 = np.random.randint(10,100,size=(4,8))\n",
    "print(n48)"
   ]
  },
  {
   "cell_type": "code",
   "execution_count": null,
   "metadata": {},
   "outputs": [],
   "source": [
    "indexlist = ['Tata', 'Birla', 'Wipro', 'ITC']"
   ]
  },
  {
   "cell_type": "code",
   "execution_count": null,
   "metadata": {},
   "outputs": [],
   "source": [
    "print(indexlist)"
   ]
  },
  {
   "cell_type": "code",
   "execution_count": null,
   "metadata": {},
   "outputs": [],
   "source": [
    "level0_col_labels = [2018,2019]\n",
    "level1_col_labels = ['Q1','Q2']\n",
    "level2_col_labels = ['FMCG','Tech']"
   ]
  },
  {
   "cell_type": "code",
   "execution_count": null,
   "metadata": {},
   "outputs": [],
   "source": [
    "clist = pd.MultiIndex.from_product([level0_col_labels,level1_col_labels,level2_col_labels])"
   ]
  },
  {
   "cell_type": "code",
   "execution_count": null,
   "metadata": {},
   "outputs": [],
   "source": [
    "print(clist)"
   ]
  },
  {
   "cell_type": "code",
   "execution_count": null,
   "metadata": {},
   "outputs": [],
   "source": [
    "df1 = pd.DataFrame(n48, index=indexlist, columns=clist)\n",
    "df1"
   ]
  },
  {
   "cell_type": "code",
   "execution_count": null,
   "metadata": {},
   "outputs": [],
   "source": [
    "df1"
   ]
  },
  {
   "cell_type": "code",
   "execution_count": null,
   "metadata": {},
   "outputs": [],
   "source": [
    "df2 = df1.stack(1)\n",
    "df2"
   ]
  },
  {
   "cell_type": "code",
   "execution_count": null,
   "metadata": {},
   "outputs": [],
   "source": [
    "df2.index"
   ]
  },
  {
   "cell_type": "code",
   "execution_count": null,
   "metadata": {},
   "outputs": [],
   "source": [
    "df2.columns"
   ]
  },
  {
   "cell_type": "code",
   "execution_count": null,
   "metadata": {},
   "outputs": [],
   "source": [
    "df2"
   ]
  },
  {
   "cell_type": "code",
   "execution_count": null,
   "metadata": {},
   "outputs": [],
   "source": [
    "df2.loc[('Birla','Q2')  , (2019,'FMCG') ]"
   ]
  },
  {
   "cell_type": "code",
   "execution_count": null,
   "metadata": {},
   "outputs": [],
   "source": [
    "df2"
   ]
  },
  {
   "cell_type": "code",
   "execution_count": null,
   "metadata": {},
   "outputs": [],
   "source": [
    "df2.unstack()"
   ]
  },
  {
   "cell_type": "code",
   "execution_count": null,
   "metadata": {},
   "outputs": [],
   "source": [
    "df3 = df2.stack(0)\n",
    "df3"
   ]
  },
  {
   "cell_type": "code",
   "execution_count": null,
   "metadata": {},
   "outputs": [],
   "source": [
    "df3.unstack(0)"
   ]
  },
  {
   "cell_type": "markdown",
   "metadata": {},
   "source": [
    "# Map"
   ]
  },
  {
   "cell_type": "code",
   "execution_count": null,
   "metadata": {},
   "outputs": [],
   "source": [
    "df1 = pd.read_csv('https://raw.githubusercontent.com/vcsgithub/vcsgithub.github.io/master/lds1.csv')\n",
    "print(df1)"
   ]
  },
  {
   "cell_type": "code",
   "execution_count": null,
   "metadata": {},
   "outputs": [],
   "source": [
    "c2z = {'Mum':'WZ', 'Kol':'EZ', 'Blr':'SZ', 'Che':'SZ', 'NCR':'NZ'}"
   ]
  },
  {
   "cell_type": "code",
   "execution_count": null,
   "metadata": {},
   "outputs": [],
   "source": [
    "df1['Zone'] = df1['HQ'].map(c2z)"
   ]
  },
  {
   "cell_type": "code",
   "execution_count": null,
   "metadata": {},
   "outputs": [],
   "source": [
    "df1"
   ]
  },
  {
   "cell_type": "code",
   "execution_count": null,
   "metadata": {},
   "outputs": [],
   "source": [
    "def salesclassifier(sale_value):\n",
    "    if sale_value > 950:\n",
    "        return 'Excellent_Sales'\n",
    "    elif sale_value < 930:\n",
    "        return 'Average_Sales'\n",
    "    else:\n",
    "        return 'Good_Sales'"
   ]
  },
  {
   "cell_type": "code",
   "execution_count": null,
   "metadata": {},
   "outputs": [],
   "source": [
    "df1['Vol_Class'] = df1['Vol'].map(salesclassifier)\n",
    "df1"
   ]
  },
  {
   "cell_type": "markdown",
   "metadata": {},
   "source": [
    "# Drops"
   ]
  },
  {
   "cell_type": "code",
   "execution_count": null,
   "metadata": {},
   "outputs": [],
   "source": [
    "df1 = pd.read_csv('https://raw.githubusercontent.com/vcsgithub/vcsgithub.github.io/master/lds1.csv')\n",
    "print(df1)"
   ]
  },
  {
   "cell_type": "code",
   "execution_count": null,
   "metadata": {},
   "outputs": [],
   "source": [
    "df1.drop('Rev', axis=1)"
   ]
  },
  {
   "cell_type": "code",
   "execution_count": null,
   "metadata": {},
   "outputs": [],
   "source": [
    "df1"
   ]
  },
  {
   "cell_type": "code",
   "execution_count": null,
   "metadata": {},
   "outputs": [],
   "source": [
    "df1.drop('NCR_Leagles', axis=0)\n"
   ]
  },
  {
   "cell_type": "code",
   "execution_count": null,
   "metadata": {},
   "outputs": [],
   "source": [
    "df1"
   ]
  },
  {
   "cell_type": "code",
   "execution_count": null,
   "metadata": {},
   "outputs": [],
   "source": [
    "df1.drop(index=['Bangalore_Systems', 'Bangalore_Breweries'], columns=['Exp','Catg'])"
   ]
  },
  {
   "cell_type": "markdown",
   "metadata": {},
   "source": [
    "# NaN Handling"
   ]
  },
  {
   "cell_type": "code",
   "execution_count": 263,
   "metadata": {},
   "outputs": [],
   "source": [
    "df0 = pd.read_csv('https://raw.githubusercontent.com/vcsgithub/vcsgithub.github.io/master/lds0.csv')"
   ]
  },
  {
   "cell_type": "code",
   "execution_count": null,
   "metadata": {},
   "outputs": [],
   "source": [
    "df0.info()"
   ]
  },
  {
   "cell_type": "code",
   "execution_count": 264,
   "metadata": {},
   "outputs": [
    {
     "data": {
      "text/html": [
       "<div>\n",
       "<style scoped>\n",
       "    .dataframe tbody tr th:only-of-type {\n",
       "        vertical-align: middle;\n",
       "    }\n",
       "\n",
       "    .dataframe tbody tr th {\n",
       "        vertical-align: top;\n",
       "    }\n",
       "\n",
       "    .dataframe thead th {\n",
       "        text-align: right;\n",
       "    }\n",
       "</style>\n",
       "<table border=\"1\" class=\"dataframe\">\n",
       "  <thead>\n",
       "    <tr style=\"text-align: right;\">\n",
       "      <th></th>\n",
       "      <th>Vol</th>\n",
       "      <th>Rev</th>\n",
       "      <th>Exp</th>\n",
       "      <th>Catg</th>\n",
       "      <th>EmpCnt</th>\n",
       "      <th>HQ</th>\n",
       "    </tr>\n",
       "  </thead>\n",
       "  <tbody>\n",
       "    <tr>\n",
       "      <th>Bombay_Finance</th>\n",
       "      <td>899</td>\n",
       "      <td>917.0</td>\n",
       "      <td>674</td>\n",
       "      <td>Pub</td>\n",
       "      <td>1443.0</td>\n",
       "      <td>Mum</td>\n",
       "    </tr>\n",
       "    <tr>\n",
       "      <th>Bombay_Sporting</th>\n",
       "      <td>925</td>\n",
       "      <td>839.8</td>\n",
       "      <td>615</td>\n",
       "      <td>Pvt</td>\n",
       "      <td>154.0</td>\n",
       "      <td>Mum</td>\n",
       "    </tr>\n",
       "    <tr>\n",
       "      <th>Kolkata_FMCG</th>\n",
       "      <td>900</td>\n",
       "      <td>NaN</td>\n",
       "      <td>676</td>\n",
       "      <td>Pub</td>\n",
       "      <td>NaN</td>\n",
       "      <td>Kol</td>\n",
       "    </tr>\n",
       "    <tr>\n",
       "      <th>NCR_Leagles</th>\n",
       "      <td>931</td>\n",
       "      <td>863.5</td>\n",
       "      <td>605</td>\n",
       "      <td>Pub</td>\n",
       "      <td>1935.0</td>\n",
       "      <td>NCR</td>\n",
       "    </tr>\n",
       "    <tr>\n",
       "      <th>Chennai_Shipping</th>\n",
       "      <td>992</td>\n",
       "      <td>821.0</td>\n",
       "      <td>665</td>\n",
       "      <td>Pub</td>\n",
       "      <td>1154.0</td>\n",
       "      <td>Che</td>\n",
       "    </tr>\n",
       "    <tr>\n",
       "      <th>Bangalore_Systems</th>\n",
       "      <td>931</td>\n",
       "      <td>NaN</td>\n",
       "      <td>650</td>\n",
       "      <td>Gov</td>\n",
       "      <td>1361.0</td>\n",
       "      <td>Blr</td>\n",
       "    </tr>\n",
       "    <tr>\n",
       "      <th>Bangalore_Breweries</th>\n",
       "      <td>966</td>\n",
       "      <td>805.0</td>\n",
       "      <td>895</td>\n",
       "      <td>NaN</td>\n",
       "      <td>119.0</td>\n",
       "      <td>Blr</td>\n",
       "    </tr>\n",
       "    <tr>\n",
       "      <th>Chennai_Chemicals</th>\n",
       "      <td>966</td>\n",
       "      <td>863.2</td>\n",
       "      <td>608</td>\n",
       "      <td>Pub</td>\n",
       "      <td>1656.0</td>\n",
       "      <td>Che</td>\n",
       "    </tr>\n",
       "    <tr>\n",
       "      <th>Indi_Services</th>\n",
       "      <td>954</td>\n",
       "      <td>733.0</td>\n",
       "      <td>609</td>\n",
       "      <td>Gov</td>\n",
       "      <td>13023.0</td>\n",
       "      <td>NCR</td>\n",
       "    </tr>\n",
       "  </tbody>\n",
       "</table>\n",
       "</div>"
      ],
      "text/plain": [
       "                     Vol    Rev  Exp Catg   EmpCnt   HQ\n",
       "Bombay_Finance       899  917.0  674  Pub   1443.0  Mum\n",
       "Bombay_Sporting      925  839.8  615  Pvt    154.0  Mum\n",
       "Kolkata_FMCG         900    NaN  676  Pub      NaN  Kol\n",
       "NCR_Leagles          931  863.5  605  Pub   1935.0  NCR\n",
       "Chennai_Shipping     992  821.0  665  Pub   1154.0  Che\n",
       "Bangalore_Systems    931    NaN  650  Gov   1361.0  Blr\n",
       "Bangalore_Breweries  966  805.0  895  NaN    119.0  Blr\n",
       "Chennai_Chemicals    966  863.2  608  Pub   1656.0  Che\n",
       "Indi_Services        954  733.0  609  Gov  13023.0  NCR"
      ]
     },
     "execution_count": 264,
     "metadata": {},
     "output_type": "execute_result"
    }
   ],
   "source": [
    "df0"
   ]
  },
  {
   "cell_type": "code",
   "execution_count": null,
   "metadata": {},
   "outputs": [],
   "source": [
    "df0.dropna()"
   ]
  },
  {
   "cell_type": "code",
   "execution_count": null,
   "metadata": {},
   "outputs": [],
   "source": [
    "df0"
   ]
  },
  {
   "cell_type": "code",
   "execution_count": null,
   "metadata": {},
   "outputs": [],
   "source": [
    "df0.fillna('hello')"
   ]
  },
  {
   "cell_type": "code",
   "execution_count": null,
   "metadata": {},
   "outputs": [],
   "source": [
    "df0"
   ]
  },
  {
   "cell_type": "code",
   "execution_count": null,
   "metadata": {},
   "outputs": [],
   "source": [
    "df0.Rev.mean()"
   ]
  },
  {
   "cell_type": "code",
   "execution_count": null,
   "metadata": {},
   "outputs": [],
   "source": [
    "df0.Rev.fillna(100)"
   ]
  },
  {
   "cell_type": "code",
   "execution_count": null,
   "metadata": {},
   "outputs": [],
   "source": [
    "df0"
   ]
  },
  {
   "cell_type": "code",
   "execution_count": null,
   "metadata": {},
   "outputs": [],
   "source": [
    "df0.Rev.fillna(df0.Rev.mean(), inplace=True)"
   ]
  },
  {
   "cell_type": "code",
   "execution_count": null,
   "metadata": {},
   "outputs": [],
   "source": [
    "df0"
   ]
  },
  {
   "cell_type": "code",
   "execution_count": null,
   "metadata": {},
   "outputs": [],
   "source": [
    "df0.EmpCnt.mean()"
   ]
  },
  {
   "cell_type": "code",
   "execution_count": null,
   "metadata": {},
   "outputs": [],
   "source": [
    "df0.EmpCnt.median()"
   ]
  },
  {
   "cell_type": "code",
   "execution_count": null,
   "metadata": {},
   "outputs": [],
   "source": [
    "df0.EmpCnt.fillna(df0.EmpCnt.median(), inplace=True)"
   ]
  },
  {
   "cell_type": "code",
   "execution_count": null,
   "metadata": {},
   "outputs": [],
   "source": [
    "df0"
   ]
  },
  {
   "cell_type": "code",
   "execution_count": null,
   "metadata": {},
   "outputs": [],
   "source": [
    "df0.EmpCnt[:-1].mean()"
   ]
  },
  {
   "cell_type": "code",
   "execution_count": null,
   "metadata": {},
   "outputs": [],
   "source": [
    "df0.loc['Kolkata_FMCG':'Chennai_Shipping', 'Catg'] = np.NaN"
   ]
  },
  {
   "cell_type": "code",
   "execution_count": null,
   "metadata": {},
   "outputs": [],
   "source": [
    "df0"
   ]
  },
  {
   "cell_type": "code",
   "execution_count": null,
   "metadata": {},
   "outputs": [],
   "source": [
    "df0.Catg.fillna(method='ffill')"
   ]
  },
  {
   "cell_type": "code",
   "execution_count": null,
   "metadata": {},
   "outputs": [],
   "source": [
    "df0.Catg.fillna(method='bfill')"
   ]
  },
  {
   "cell_type": "markdown",
   "metadata": {},
   "source": [
    "# Melting"
   ]
  },
  {
   "cell_type": "code",
   "execution_count": null,
   "metadata": {},
   "outputs": [],
   "source": [
    "df1 = pd.read_csv('https://raw.githubusercontent.com/vcsgithub/vcsgithub.github.io/master/temp246_a.csv')\n",
    "print(df1)"
   ]
  },
  {
   "cell_type": "code",
   "execution_count": null,
   "metadata": {},
   "outputs": [],
   "source": [
    "pd.melt(df1, id_vars = ['Location', 'Temperature'])"
   ]
  },
  {
   "cell_type": "code",
   "execution_count": null,
   "metadata": {},
   "outputs": [],
   "source": [
    "pd.melt(df1, id_vars = ['Location', 'Temperature'], var_name='melted_col_names')"
   ]
  },
  {
   "cell_type": "code",
   "execution_count": null,
   "metadata": {},
   "outputs": [],
   "source": [
    "pd.melt(df1, id_vars = ['Location', 'Temperature'], var_name='melted_col_names', value_name='melted_col_values')"
   ]
  },
  {
   "cell_type": "markdown",
   "metadata": {},
   "source": [
    "# Replace"
   ]
  },
  {
   "cell_type": "code",
   "execution_count": 266,
   "metadata": {},
   "outputs": [
    {
     "name": "stdout",
     "output_type": "stream",
     "text": [
      "                     Vol    Rev  Exp Catg  EmpCnt   HQ\n",
      "Bombay_Finance       899  917.0  674  Pub    1443  Mum\n",
      "Bombay_Sporting      925  839.8  615  Pvt     154  Mum\n",
      "Kolkata_FMCG         900  874.4  676  Pub    1379  Kol\n",
      "NCR_Leagles          931  863.5  605  Pub    1935  NCR\n",
      "Chennai_Shipping     992  821.0  665  Pub    1154  Che\n",
      "Bangalore_Systems    931  881.6  650  Gov    1361  Blr\n",
      "Bangalore_Breweries  966  805.0  895  Pvt     119  Blr\n",
      "Chennai_Chemicals    966  863.2  608  Pub    1656  Che\n",
      "Indi_Services        954  733.0  609  Gov   13023  NCR\n"
     ]
    }
   ],
   "source": [
    "df1 = pd.read_csv('https://raw.githubusercontent.com/vcsgithub/vcsgithub.github.io/master/lds1.csv')\n",
    "print(df1)"
   ]
  },
  {
   "cell_type": "code",
   "execution_count": 268,
   "metadata": {},
   "outputs": [
    {
     "data": {
      "text/html": [
       "<div>\n",
       "<style scoped>\n",
       "    .dataframe tbody tr th:only-of-type {\n",
       "        vertical-align: middle;\n",
       "    }\n",
       "\n",
       "    .dataframe tbody tr th {\n",
       "        vertical-align: top;\n",
       "    }\n",
       "\n",
       "    .dataframe thead th {\n",
       "        text-align: right;\n",
       "    }\n",
       "</style>\n",
       "<table border=\"1\" class=\"dataframe\">\n",
       "  <thead>\n",
       "    <tr style=\"text-align: right;\">\n",
       "      <th></th>\n",
       "      <th>Vol</th>\n",
       "      <th>Rev</th>\n",
       "      <th>Exp</th>\n",
       "      <th>Catg</th>\n",
       "      <th>EmpCnt</th>\n",
       "      <th>HQ</th>\n",
       "    </tr>\n",
       "  </thead>\n",
       "  <tbody>\n",
       "    <tr>\n",
       "      <th>Bombay_Finance</th>\n",
       "      <td>899</td>\n",
       "      <td>917.0</td>\n",
       "      <td>674</td>\n",
       "      <td>Public</td>\n",
       "      <td>1443</td>\n",
       "      <td>Mum</td>\n",
       "    </tr>\n",
       "    <tr>\n",
       "      <th>Bombay_Sporting</th>\n",
       "      <td>925</td>\n",
       "      <td>839.8</td>\n",
       "      <td>615</td>\n",
       "      <td>Pvt</td>\n",
       "      <td>154</td>\n",
       "      <td>Mum</td>\n",
       "    </tr>\n",
       "    <tr>\n",
       "      <th>Kolkata_FMCG</th>\n",
       "      <td>900</td>\n",
       "      <td>874.4</td>\n",
       "      <td>676</td>\n",
       "      <td>Public</td>\n",
       "      <td>1379</td>\n",
       "      <td>Kol</td>\n",
       "    </tr>\n",
       "    <tr>\n",
       "      <th>NCR_Leagles</th>\n",
       "      <td>931</td>\n",
       "      <td>863.5</td>\n",
       "      <td>605</td>\n",
       "      <td>Public</td>\n",
       "      <td>1935</td>\n",
       "      <td>NCR</td>\n",
       "    </tr>\n",
       "    <tr>\n",
       "      <th>Chennai_Shipping</th>\n",
       "      <td>992</td>\n",
       "      <td>821.0</td>\n",
       "      <td>665</td>\n",
       "      <td>Public</td>\n",
       "      <td>1154</td>\n",
       "      <td>Che</td>\n",
       "    </tr>\n",
       "    <tr>\n",
       "      <th>Bangalore_Systems</th>\n",
       "      <td>931</td>\n",
       "      <td>881.6</td>\n",
       "      <td>650</td>\n",
       "      <td>Gov</td>\n",
       "      <td>1361</td>\n",
       "      <td>Blr</td>\n",
       "    </tr>\n",
       "    <tr>\n",
       "      <th>Bangalore_Breweries</th>\n",
       "      <td>966</td>\n",
       "      <td>805.0</td>\n",
       "      <td>895</td>\n",
       "      <td>Pvt</td>\n",
       "      <td>119</td>\n",
       "      <td>Blr</td>\n",
       "    </tr>\n",
       "    <tr>\n",
       "      <th>Chennai_Chemicals</th>\n",
       "      <td>966</td>\n",
       "      <td>863.2</td>\n",
       "      <td>608</td>\n",
       "      <td>Public</td>\n",
       "      <td>1656</td>\n",
       "      <td>Che</td>\n",
       "    </tr>\n",
       "    <tr>\n",
       "      <th>Indi_Services</th>\n",
       "      <td>954</td>\n",
       "      <td>733.0</td>\n",
       "      <td>609</td>\n",
       "      <td>Gov</td>\n",
       "      <td>13023</td>\n",
       "      <td>NCR</td>\n",
       "    </tr>\n",
       "  </tbody>\n",
       "</table>\n",
       "</div>"
      ],
      "text/plain": [
       "                     Vol    Rev  Exp    Catg  EmpCnt   HQ\n",
       "Bombay_Finance       899  917.0  674  Public    1443  Mum\n",
       "Bombay_Sporting      925  839.8  615     Pvt     154  Mum\n",
       "Kolkata_FMCG         900  874.4  676  Public    1379  Kol\n",
       "NCR_Leagles          931  863.5  605  Public    1935  NCR\n",
       "Chennai_Shipping     992  821.0  665  Public    1154  Che\n",
       "Bangalore_Systems    931  881.6  650     Gov    1361  Blr\n",
       "Bangalore_Breweries  966  805.0  895     Pvt     119  Blr\n",
       "Chennai_Chemicals    966  863.2  608  Public    1656  Che\n",
       "Indi_Services        954  733.0  609     Gov   13023  NCR"
      ]
     },
     "execution_count": 268,
     "metadata": {},
     "output_type": "execute_result"
    }
   ],
   "source": [
    "df1['Catg'].replace('Pub', 'Public', inplace=True)\n",
    "df1"
   ]
  },
  {
   "cell_type": "code",
   "execution_count": 269,
   "metadata": {},
   "outputs": [
    {
     "data": {
      "text/html": [
       "<div>\n",
       "<style scoped>\n",
       "    .dataframe tbody tr th:only-of-type {\n",
       "        vertical-align: middle;\n",
       "    }\n",
       "\n",
       "    .dataframe tbody tr th {\n",
       "        vertical-align: top;\n",
       "    }\n",
       "\n",
       "    .dataframe thead th {\n",
       "        text-align: right;\n",
       "    }\n",
       "</style>\n",
       "<table border=\"1\" class=\"dataframe\">\n",
       "  <thead>\n",
       "    <tr style=\"text-align: right;\">\n",
       "      <th></th>\n",
       "      <th>Vol</th>\n",
       "      <th>Rev</th>\n",
       "      <th>Exp</th>\n",
       "      <th>Catg</th>\n",
       "      <th>EmpCnt</th>\n",
       "      <th>HQ</th>\n",
       "    </tr>\n",
       "  </thead>\n",
       "  <tbody>\n",
       "    <tr>\n",
       "      <th>Bombay_Finance</th>\n",
       "      <td>899</td>\n",
       "      <td>917.0</td>\n",
       "      <td>674</td>\n",
       "      <td>Public</td>\n",
       "      <td>1443</td>\n",
       "      <td>WZ</td>\n",
       "    </tr>\n",
       "    <tr>\n",
       "      <th>Bombay_Sporting</th>\n",
       "      <td>925</td>\n",
       "      <td>839.8</td>\n",
       "      <td>615</td>\n",
       "      <td>Pvt</td>\n",
       "      <td>154</td>\n",
       "      <td>WZ</td>\n",
       "    </tr>\n",
       "    <tr>\n",
       "      <th>Kolkata_FMCG</th>\n",
       "      <td>900</td>\n",
       "      <td>874.4</td>\n",
       "      <td>676</td>\n",
       "      <td>Public</td>\n",
       "      <td>1379</td>\n",
       "      <td>EZ</td>\n",
       "    </tr>\n",
       "    <tr>\n",
       "      <th>NCR_Leagles</th>\n",
       "      <td>931</td>\n",
       "      <td>863.5</td>\n",
       "      <td>605</td>\n",
       "      <td>Public</td>\n",
       "      <td>1935</td>\n",
       "      <td>NZ</td>\n",
       "    </tr>\n",
       "    <tr>\n",
       "      <th>Chennai_Shipping</th>\n",
       "      <td>992</td>\n",
       "      <td>821.0</td>\n",
       "      <td>665</td>\n",
       "      <td>Public</td>\n",
       "      <td>1154</td>\n",
       "      <td>SZ</td>\n",
       "    </tr>\n",
       "    <tr>\n",
       "      <th>Bangalore_Systems</th>\n",
       "      <td>931</td>\n",
       "      <td>881.6</td>\n",
       "      <td>650</td>\n",
       "      <td>Gov</td>\n",
       "      <td>1361</td>\n",
       "      <td>SZ</td>\n",
       "    </tr>\n",
       "    <tr>\n",
       "      <th>Bangalore_Breweries</th>\n",
       "      <td>966</td>\n",
       "      <td>805.0</td>\n",
       "      <td>895</td>\n",
       "      <td>Pvt</td>\n",
       "      <td>119</td>\n",
       "      <td>SZ</td>\n",
       "    </tr>\n",
       "    <tr>\n",
       "      <th>Chennai_Chemicals</th>\n",
       "      <td>966</td>\n",
       "      <td>863.2</td>\n",
       "      <td>608</td>\n",
       "      <td>Public</td>\n",
       "      <td>1656</td>\n",
       "      <td>SZ</td>\n",
       "    </tr>\n",
       "    <tr>\n",
       "      <th>Indi_Services</th>\n",
       "      <td>954</td>\n",
       "      <td>733.0</td>\n",
       "      <td>609</td>\n",
       "      <td>Gov</td>\n",
       "      <td>13023</td>\n",
       "      <td>NZ</td>\n",
       "    </tr>\n",
       "  </tbody>\n",
       "</table>\n",
       "</div>"
      ],
      "text/plain": [
       "                     Vol    Rev  Exp    Catg  EmpCnt  HQ\n",
       "Bombay_Finance       899  917.0  674  Public    1443  WZ\n",
       "Bombay_Sporting      925  839.8  615     Pvt     154  WZ\n",
       "Kolkata_FMCG         900  874.4  676  Public    1379  EZ\n",
       "NCR_Leagles          931  863.5  605  Public    1935  NZ\n",
       "Chennai_Shipping     992  821.0  665  Public    1154  SZ\n",
       "Bangalore_Systems    931  881.6  650     Gov    1361  SZ\n",
       "Bangalore_Breweries  966  805.0  895     Pvt     119  SZ\n",
       "Chennai_Chemicals    966  863.2  608  Public    1656  SZ\n",
       "Indi_Services        954  733.0  609     Gov   13023  NZ"
      ]
     },
     "execution_count": 269,
     "metadata": {},
     "output_type": "execute_result"
    }
   ],
   "source": [
    "df1['HQ'].replace(c2z,inplace=True)\n",
    "df1"
   ]
  },
  {
   "cell_type": "markdown",
   "metadata": {},
   "source": [
    "# Rename"
   ]
  },
  {
   "cell_type": "code",
   "execution_count": 270,
   "metadata": {},
   "outputs": [
    {
     "name": "stdout",
     "output_type": "stream",
     "text": [
      "                     Vol    Rev  Exp Catg  EmpCnt   HQ\n",
      "Bombay_Finance       899  917.0  674  Pub    1443  Mum\n",
      "Bombay_Sporting      925  839.8  615  Pvt     154  Mum\n",
      "Kolkata_FMCG         900  874.4  676  Pub    1379  Kol\n",
      "NCR_Leagles          931  863.5  605  Pub    1935  NCR\n",
      "Chennai_Shipping     992  821.0  665  Pub    1154  Che\n",
      "Bangalore_Systems    931  881.6  650  Gov    1361  Blr\n",
      "Bangalore_Breweries  966  805.0  895  Pvt     119  Blr\n",
      "Chennai_Chemicals    966  863.2  608  Pub    1656  Che\n",
      "Indi_Services        954  733.0  609  Gov   13023  NCR\n"
     ]
    }
   ],
   "source": [
    "df1 = pd.read_csv('https://raw.githubusercontent.com/vcsgithub/vcsgithub.github.io/master/lds1.csv')\n",
    "print(df1)"
   ]
  },
  {
   "cell_type": "code",
   "execution_count": 272,
   "metadata": {},
   "outputs": [
    {
     "data": {
      "text/html": [
       "<div>\n",
       "<style scoped>\n",
       "    .dataframe tbody tr th:only-of-type {\n",
       "        vertical-align: middle;\n",
       "    }\n",
       "\n",
       "    .dataframe tbody tr th {\n",
       "        vertical-align: top;\n",
       "    }\n",
       "\n",
       "    .dataframe thead th {\n",
       "        text-align: right;\n",
       "    }\n",
       "</style>\n",
       "<table border=\"1\" class=\"dataframe\">\n",
       "  <thead>\n",
       "    <tr style=\"text-align: right;\">\n",
       "      <th></th>\n",
       "      <th>Volume</th>\n",
       "      <th>Rev</th>\n",
       "      <th>Exp</th>\n",
       "      <th>Catg</th>\n",
       "      <th>EmpCnt</th>\n",
       "      <th>HQ</th>\n",
       "    </tr>\n",
       "  </thead>\n",
       "  <tbody>\n",
       "    <tr>\n",
       "      <th>Bombay_Finance</th>\n",
       "      <td>899</td>\n",
       "      <td>917.0</td>\n",
       "      <td>674</td>\n",
       "      <td>Pub</td>\n",
       "      <td>1443</td>\n",
       "      <td>Mum</td>\n",
       "    </tr>\n",
       "    <tr>\n",
       "      <th>Bombay_Sporting</th>\n",
       "      <td>925</td>\n",
       "      <td>839.8</td>\n",
       "      <td>615</td>\n",
       "      <td>Pvt</td>\n",
       "      <td>154</td>\n",
       "      <td>Mum</td>\n",
       "    </tr>\n",
       "    <tr>\n",
       "      <th>Kolkata_FMCG</th>\n",
       "      <td>900</td>\n",
       "      <td>874.4</td>\n",
       "      <td>676</td>\n",
       "      <td>Pub</td>\n",
       "      <td>1379</td>\n",
       "      <td>Kol</td>\n",
       "    </tr>\n",
       "    <tr>\n",
       "      <th>NCR_Leagles</th>\n",
       "      <td>931</td>\n",
       "      <td>863.5</td>\n",
       "      <td>605</td>\n",
       "      <td>Pub</td>\n",
       "      <td>1935</td>\n",
       "      <td>NCR</td>\n",
       "    </tr>\n",
       "    <tr>\n",
       "      <th>Chennai_Shipping</th>\n",
       "      <td>992</td>\n",
       "      <td>821.0</td>\n",
       "      <td>665</td>\n",
       "      <td>Pub</td>\n",
       "      <td>1154</td>\n",
       "      <td>Che</td>\n",
       "    </tr>\n",
       "    <tr>\n",
       "      <th>Bangalore_Systems</th>\n",
       "      <td>931</td>\n",
       "      <td>881.6</td>\n",
       "      <td>650</td>\n",
       "      <td>Gov</td>\n",
       "      <td>1361</td>\n",
       "      <td>Blr</td>\n",
       "    </tr>\n",
       "    <tr>\n",
       "      <th>Bangalore_Breweries</th>\n",
       "      <td>966</td>\n",
       "      <td>805.0</td>\n",
       "      <td>895</td>\n",
       "      <td>Pvt</td>\n",
       "      <td>119</td>\n",
       "      <td>Blr</td>\n",
       "    </tr>\n",
       "    <tr>\n",
       "      <th>Chennai_Chemicals</th>\n",
       "      <td>966</td>\n",
       "      <td>863.2</td>\n",
       "      <td>608</td>\n",
       "      <td>Pub</td>\n",
       "      <td>1656</td>\n",
       "      <td>Che</td>\n",
       "    </tr>\n",
       "    <tr>\n",
       "      <th>Indian_Railways</th>\n",
       "      <td>954</td>\n",
       "      <td>733.0</td>\n",
       "      <td>609</td>\n",
       "      <td>Gov</td>\n",
       "      <td>13023</td>\n",
       "      <td>NCR</td>\n",
       "    </tr>\n",
       "  </tbody>\n",
       "</table>\n",
       "</div>"
      ],
      "text/plain": [
       "                     Volume    Rev  Exp Catg  EmpCnt   HQ\n",
       "Bombay_Finance          899  917.0  674  Pub    1443  Mum\n",
       "Bombay_Sporting         925  839.8  615  Pvt     154  Mum\n",
       "Kolkata_FMCG            900  874.4  676  Pub    1379  Kol\n",
       "NCR_Leagles             931  863.5  605  Pub    1935  NCR\n",
       "Chennai_Shipping        992  821.0  665  Pub    1154  Che\n",
       "Bangalore_Systems       931  881.6  650  Gov    1361  Blr\n",
       "Bangalore_Breweries     966  805.0  895  Pvt     119  Blr\n",
       "Chennai_Chemicals       966  863.2  608  Pub    1656  Che\n",
       "Indian_Railways         954  733.0  609  Gov   13023  NCR"
      ]
     },
     "execution_count": 272,
     "metadata": {},
     "output_type": "execute_result"
    }
   ],
   "source": [
    "df1.rename(columns={'Vol':'Volume'}, index={'Indi_Services': 'Indian_Railways'})"
   ]
  },
  {
   "cell_type": "markdown",
   "metadata": {},
   "source": [
    "# Duplicate Handling"
   ]
  },
  {
   "cell_type": "code",
   "execution_count": 273,
   "metadata": {},
   "outputs": [
    {
     "name": "stdout",
     "output_type": "stream",
     "text": [
      "        Date    City  Temperature  Humidity\n",
      "0  15/1/2019  Shimla           11        67\n",
      "1  15/2/2019  Shimla           12        65\n",
      "2  15/3/2019  Shimla           16        57\n",
      "3  15/1/2019  Shimla           11        67\n",
      "4  15/1/2019    Pune           29        34\n",
      "5  15/2/2019    Pune           32        26\n",
      "6  15/1/2020    Pune           29        21\n",
      "7  15/1/2019  Mysore           28        49\n",
      "8  15/2/2019  Mysore           31        47\n",
      "9  15/1/2020  Mysore           33        49\n"
     ]
    }
   ],
   "source": [
    "df1 = pd.read_csv('https://raw.githubusercontent.com/vcsgithub/vcsgithub.github.io/master/hum357_a.csv')\n",
    "print(df1)"
   ]
  },
  {
   "cell_type": "code",
   "execution_count": 274,
   "metadata": {},
   "outputs": [
    {
     "data": {
      "text/plain": [
       "0    False\n",
       "1    False\n",
       "2    False\n",
       "3     True\n",
       "4    False\n",
       "5    False\n",
       "6    False\n",
       "7    False\n",
       "8    False\n",
       "9    False\n",
       "dtype: bool"
      ]
     },
     "execution_count": 274,
     "metadata": {},
     "output_type": "execute_result"
    }
   ],
   "source": [
    "df1.duplicated()"
   ]
  },
  {
   "cell_type": "code",
   "execution_count": 275,
   "metadata": {},
   "outputs": [
    {
     "data": {
      "text/html": [
       "<div>\n",
       "<style scoped>\n",
       "    .dataframe tbody tr th:only-of-type {\n",
       "        vertical-align: middle;\n",
       "    }\n",
       "\n",
       "    .dataframe tbody tr th {\n",
       "        vertical-align: top;\n",
       "    }\n",
       "\n",
       "    .dataframe thead th {\n",
       "        text-align: right;\n",
       "    }\n",
       "</style>\n",
       "<table border=\"1\" class=\"dataframe\">\n",
       "  <thead>\n",
       "    <tr style=\"text-align: right;\">\n",
       "      <th></th>\n",
       "      <th>Date</th>\n",
       "      <th>City</th>\n",
       "      <th>Temperature</th>\n",
       "      <th>Humidity</th>\n",
       "    </tr>\n",
       "  </thead>\n",
       "  <tbody>\n",
       "    <tr>\n",
       "      <th>3</th>\n",
       "      <td>15/1/2019</td>\n",
       "      <td>Shimla</td>\n",
       "      <td>11</td>\n",
       "      <td>67</td>\n",
       "    </tr>\n",
       "  </tbody>\n",
       "</table>\n",
       "</div>"
      ],
      "text/plain": [
       "        Date    City  Temperature  Humidity\n",
       "3  15/1/2019  Shimla           11        67"
      ]
     },
     "execution_count": 275,
     "metadata": {},
     "output_type": "execute_result"
    }
   ],
   "source": [
    "df1[df1.duplicated()]"
   ]
  },
  {
   "cell_type": "code",
   "execution_count": 277,
   "metadata": {},
   "outputs": [
    {
     "data": {
      "text/plain": [
       "0    False\n",
       "1    False\n",
       "2    False\n",
       "3     True\n",
       "4     True\n",
       "5     True\n",
       "6    False\n",
       "7     True\n",
       "8     True\n",
       "9     True\n",
       "dtype: bool"
      ]
     },
     "execution_count": 277,
     "metadata": {},
     "output_type": "execute_result"
    }
   ],
   "source": [
    "df1.duplicated(subset=['Date'])"
   ]
  },
  {
   "cell_type": "code",
   "execution_count": 279,
   "metadata": {},
   "outputs": [
    {
     "data": {
      "text/plain": [
       "0    False\n",
       "1    False\n",
       "2    False\n",
       "3     True\n",
       "4    False\n",
       "5    False\n",
       "6    False\n",
       "7    False\n",
       "8    False\n",
       "9    False\n",
       "dtype: bool"
      ]
     },
     "execution_count": 279,
     "metadata": {},
     "output_type": "execute_result"
    }
   ],
   "source": [
    "df1.duplicated(subset=['Date', 'City'], keep='first')"
   ]
  },
  {
   "cell_type": "code",
   "execution_count": 280,
   "metadata": {},
   "outputs": [
    {
     "data": {
      "text/plain": [
       "0     True\n",
       "1    False\n",
       "2    False\n",
       "3    False\n",
       "4    False\n",
       "5    False\n",
       "6    False\n",
       "7    False\n",
       "8    False\n",
       "9    False\n",
       "dtype: bool"
      ]
     },
     "execution_count": 280,
     "metadata": {},
     "output_type": "execute_result"
    }
   ],
   "source": [
    "df1.duplicated(subset=['Date', 'City'], keep='last')"
   ]
  },
  {
   "cell_type": "code",
   "execution_count": 281,
   "metadata": {},
   "outputs": [
    {
     "data": {
      "text/html": [
       "<div>\n",
       "<style scoped>\n",
       "    .dataframe tbody tr th:only-of-type {\n",
       "        vertical-align: middle;\n",
       "    }\n",
       "\n",
       "    .dataframe tbody tr th {\n",
       "        vertical-align: top;\n",
       "    }\n",
       "\n",
       "    .dataframe thead th {\n",
       "        text-align: right;\n",
       "    }\n",
       "</style>\n",
       "<table border=\"1\" class=\"dataframe\">\n",
       "  <thead>\n",
       "    <tr style=\"text-align: right;\">\n",
       "      <th></th>\n",
       "      <th>Date</th>\n",
       "      <th>City</th>\n",
       "      <th>Temperature</th>\n",
       "      <th>Humidity</th>\n",
       "    </tr>\n",
       "  </thead>\n",
       "  <tbody>\n",
       "    <tr>\n",
       "      <th>0</th>\n",
       "      <td>15/1/2019</td>\n",
       "      <td>Shimla</td>\n",
       "      <td>11</td>\n",
       "      <td>67</td>\n",
       "    </tr>\n",
       "    <tr>\n",
       "      <th>1</th>\n",
       "      <td>15/2/2019</td>\n",
       "      <td>Shimla</td>\n",
       "      <td>12</td>\n",
       "      <td>65</td>\n",
       "    </tr>\n",
       "    <tr>\n",
       "      <th>2</th>\n",
       "      <td>15/3/2019</td>\n",
       "      <td>Shimla</td>\n",
       "      <td>16</td>\n",
       "      <td>57</td>\n",
       "    </tr>\n",
       "    <tr>\n",
       "      <th>4</th>\n",
       "      <td>15/1/2019</td>\n",
       "      <td>Pune</td>\n",
       "      <td>29</td>\n",
       "      <td>34</td>\n",
       "    </tr>\n",
       "    <tr>\n",
       "      <th>5</th>\n",
       "      <td>15/2/2019</td>\n",
       "      <td>Pune</td>\n",
       "      <td>32</td>\n",
       "      <td>26</td>\n",
       "    </tr>\n",
       "    <tr>\n",
       "      <th>6</th>\n",
       "      <td>15/1/2020</td>\n",
       "      <td>Pune</td>\n",
       "      <td>29</td>\n",
       "      <td>21</td>\n",
       "    </tr>\n",
       "    <tr>\n",
       "      <th>7</th>\n",
       "      <td>15/1/2019</td>\n",
       "      <td>Mysore</td>\n",
       "      <td>28</td>\n",
       "      <td>49</td>\n",
       "    </tr>\n",
       "    <tr>\n",
       "      <th>8</th>\n",
       "      <td>15/2/2019</td>\n",
       "      <td>Mysore</td>\n",
       "      <td>31</td>\n",
       "      <td>47</td>\n",
       "    </tr>\n",
       "    <tr>\n",
       "      <th>9</th>\n",
       "      <td>15/1/2020</td>\n",
       "      <td>Mysore</td>\n",
       "      <td>33</td>\n",
       "      <td>49</td>\n",
       "    </tr>\n",
       "  </tbody>\n",
       "</table>\n",
       "</div>"
      ],
      "text/plain": [
       "        Date    City  Temperature  Humidity\n",
       "0  15/1/2019  Shimla           11        67\n",
       "1  15/2/2019  Shimla           12        65\n",
       "2  15/3/2019  Shimla           16        57\n",
       "4  15/1/2019    Pune           29        34\n",
       "5  15/2/2019    Pune           32        26\n",
       "6  15/1/2020    Pune           29        21\n",
       "7  15/1/2019  Mysore           28        49\n",
       "8  15/2/2019  Mysore           31        47\n",
       "9  15/1/2020  Mysore           33        49"
      ]
     },
     "execution_count": 281,
     "metadata": {},
     "output_type": "execute_result"
    }
   ],
   "source": [
    "df1.drop_duplicates()"
   ]
  },
  {
   "cell_type": "code",
   "execution_count": 283,
   "metadata": {},
   "outputs": [
    {
     "data": {
      "text/html": [
       "<div>\n",
       "<style scoped>\n",
       "    .dataframe tbody tr th:only-of-type {\n",
       "        vertical-align: middle;\n",
       "    }\n",
       "\n",
       "    .dataframe tbody tr th {\n",
       "        vertical-align: top;\n",
       "    }\n",
       "\n",
       "    .dataframe thead th {\n",
       "        text-align: right;\n",
       "    }\n",
       "</style>\n",
       "<table border=\"1\" class=\"dataframe\">\n",
       "  <thead>\n",
       "    <tr style=\"text-align: right;\">\n",
       "      <th></th>\n",
       "      <th>Date</th>\n",
       "      <th>City</th>\n",
       "      <th>Temperature</th>\n",
       "      <th>Humidity</th>\n",
       "    </tr>\n",
       "  </thead>\n",
       "  <tbody>\n",
       "    <tr>\n",
       "      <th>0</th>\n",
       "      <td>15/1/2019</td>\n",
       "      <td>Shimla</td>\n",
       "      <td>11</td>\n",
       "      <td>67</td>\n",
       "    </tr>\n",
       "    <tr>\n",
       "      <th>1</th>\n",
       "      <td>15/2/2019</td>\n",
       "      <td>Shimla</td>\n",
       "      <td>12</td>\n",
       "      <td>65</td>\n",
       "    </tr>\n",
       "    <tr>\n",
       "      <th>2</th>\n",
       "      <td>15/3/2019</td>\n",
       "      <td>Shimla</td>\n",
       "      <td>16</td>\n",
       "      <td>57</td>\n",
       "    </tr>\n",
       "    <tr>\n",
       "      <th>6</th>\n",
       "      <td>15/1/2020</td>\n",
       "      <td>Pune</td>\n",
       "      <td>29</td>\n",
       "      <td>21</td>\n",
       "    </tr>\n",
       "  </tbody>\n",
       "</table>\n",
       "</div>"
      ],
      "text/plain": [
       "        Date    City  Temperature  Humidity\n",
       "0  15/1/2019  Shimla           11        67\n",
       "1  15/2/2019  Shimla           12        65\n",
       "2  15/3/2019  Shimla           16        57\n",
       "6  15/1/2020    Pune           29        21"
      ]
     },
     "execution_count": 283,
     "metadata": {},
     "output_type": "execute_result"
    }
   ],
   "source": [
    "df1.drop_duplicates(subset=['Date'])"
   ]
  },
  {
   "cell_type": "code",
   "execution_count": 286,
   "metadata": {},
   "outputs": [
    {
     "data": {
      "text/html": [
       "<div>\n",
       "<style scoped>\n",
       "    .dataframe tbody tr th:only-of-type {\n",
       "        vertical-align: middle;\n",
       "    }\n",
       "\n",
       "    .dataframe tbody tr th {\n",
       "        vertical-align: top;\n",
       "    }\n",
       "\n",
       "    .dataframe thead th {\n",
       "        text-align: right;\n",
       "    }\n",
       "</style>\n",
       "<table border=\"1\" class=\"dataframe\">\n",
       "  <thead>\n",
       "    <tr style=\"text-align: right;\">\n",
       "      <th></th>\n",
       "      <th>Date</th>\n",
       "      <th>City</th>\n",
       "      <th>Temperature</th>\n",
       "      <th>Humidity</th>\n",
       "    </tr>\n",
       "  </thead>\n",
       "  <tbody>\n",
       "    <tr>\n",
       "      <th>0</th>\n",
       "      <td>15/1/2019</td>\n",
       "      <td>Shimla</td>\n",
       "      <td>11</td>\n",
       "      <td>67</td>\n",
       "    </tr>\n",
       "    <tr>\n",
       "      <th>4</th>\n",
       "      <td>15/1/2019</td>\n",
       "      <td>Pune</td>\n",
       "      <td>29</td>\n",
       "      <td>34</td>\n",
       "    </tr>\n",
       "    <tr>\n",
       "      <th>7</th>\n",
       "      <td>15/1/2019</td>\n",
       "      <td>Mysore</td>\n",
       "      <td>28</td>\n",
       "      <td>49</td>\n",
       "    </tr>\n",
       "  </tbody>\n",
       "</table>\n",
       "</div>"
      ],
      "text/plain": [
       "        Date    City  Temperature  Humidity\n",
       "0  15/1/2019  Shimla           11        67\n",
       "4  15/1/2019    Pune           29        34\n",
       "7  15/1/2019  Mysore           28        49"
      ]
     },
     "execution_count": 286,
     "metadata": {},
     "output_type": "execute_result"
    }
   ],
   "source": [
    "df1.drop_duplicates(subset=['City'], keep='first')"
   ]
  },
  {
   "cell_type": "code",
   "execution_count": 287,
   "metadata": {},
   "outputs": [
    {
     "data": {
      "text/html": [
       "<div>\n",
       "<style scoped>\n",
       "    .dataframe tbody tr th:only-of-type {\n",
       "        vertical-align: middle;\n",
       "    }\n",
       "\n",
       "    .dataframe tbody tr th {\n",
       "        vertical-align: top;\n",
       "    }\n",
       "\n",
       "    .dataframe thead th {\n",
       "        text-align: right;\n",
       "    }\n",
       "</style>\n",
       "<table border=\"1\" class=\"dataframe\">\n",
       "  <thead>\n",
       "    <tr style=\"text-align: right;\">\n",
       "      <th></th>\n",
       "      <th>Date</th>\n",
       "      <th>City</th>\n",
       "      <th>Temperature</th>\n",
       "      <th>Humidity</th>\n",
       "    </tr>\n",
       "  </thead>\n",
       "  <tbody>\n",
       "    <tr>\n",
       "      <th>3</th>\n",
       "      <td>15/1/2019</td>\n",
       "      <td>Shimla</td>\n",
       "      <td>11</td>\n",
       "      <td>67</td>\n",
       "    </tr>\n",
       "    <tr>\n",
       "      <th>6</th>\n",
       "      <td>15/1/2020</td>\n",
       "      <td>Pune</td>\n",
       "      <td>29</td>\n",
       "      <td>21</td>\n",
       "    </tr>\n",
       "    <tr>\n",
       "      <th>9</th>\n",
       "      <td>15/1/2020</td>\n",
       "      <td>Mysore</td>\n",
       "      <td>33</td>\n",
       "      <td>49</td>\n",
       "    </tr>\n",
       "  </tbody>\n",
       "</table>\n",
       "</div>"
      ],
      "text/plain": [
       "        Date    City  Temperature  Humidity\n",
       "3  15/1/2019  Shimla           11        67\n",
       "6  15/1/2020    Pune           29        21\n",
       "9  15/1/2020  Mysore           33        49"
      ]
     },
     "execution_count": 287,
     "metadata": {},
     "output_type": "execute_result"
    }
   ],
   "source": [
    "df1.drop_duplicates(subset=['City'], keep='last')"
   ]
  },
  {
   "cell_type": "markdown",
   "metadata": {},
   "source": [
    "# Skew , Kurtoises"
   ]
  },
  {
   "cell_type": "code",
   "execution_count": 288,
   "metadata": {},
   "outputs": [
    {
     "name": "stdout",
     "output_type": "stream",
     "text": [
      "                     Vol    Rev  Exp Catg  EmpCnt   HQ\n",
      "Bombay_Finance       899  917.0  674  Pub    1443  Mum\n",
      "Bombay_Sporting      925  839.8  615  Pvt     154  Mum\n",
      "Kolkata_FMCG         900  874.4  676  Pub    1379  Kol\n",
      "NCR_Leagles          931  863.5  605  Pub    1935  NCR\n",
      "Chennai_Shipping     992  821.0  665  Pub    1154  Che\n",
      "Bangalore_Systems    931  881.6  650  Gov    1361  Blr\n",
      "Bangalore_Breweries  966  805.0  895  Pvt     119  Blr\n",
      "Chennai_Chemicals    966  863.2  608  Pub    1656  Che\n",
      "Indi_Services        954  733.0  609  Gov   13023  NCR\n"
     ]
    }
   ],
   "source": [
    "df1 = pd.read_csv('https://raw.githubusercontent.com/vcsgithub/vcsgithub.github.io/master/lds1.csv')\n",
    "print(df1)"
   ]
  },
  {
   "cell_type": "code",
   "execution_count": 289,
   "metadata": {},
   "outputs": [
    {
     "data": {
      "text/plain": [
       "Vol       0.155824\n",
       "Rev      -1.027983\n",
       "Exp       2.413427\n",
       "EmpCnt    2.857354\n",
       "dtype: float64"
      ]
     },
     "execution_count": 289,
     "metadata": {},
     "output_type": "execute_result"
    }
   ],
   "source": [
    "df1.skew()"
   ]
  },
  {
   "cell_type": "code",
   "execution_count": 291,
   "metadata": {},
   "outputs": [
    {
     "data": {
      "text/plain": [
       "Vol      -0.839148\n",
       "Rev       1.593378\n",
       "Exp       6.427762\n",
       "EmpCnt    8.394832\n",
       "dtype: float64"
      ]
     },
     "execution_count": 291,
     "metadata": {},
     "output_type": "execute_result"
    }
   ],
   "source": [
    "df1.kurt()"
   ]
  },
  {
   "cell_type": "code",
   "execution_count": 294,
   "metadata": {},
   "outputs": [
    {
     "data": {
      "text/plain": [
       "-1.0279828673607518"
      ]
     },
     "execution_count": 294,
     "metadata": {},
     "output_type": "execute_result"
    }
   ],
   "source": [
    "df1.Rev.skew()"
   ]
  },
  {
   "cell_type": "code",
   "execution_count": 295,
   "metadata": {},
   "outputs": [
    {
     "name": "stdout",
     "output_type": "stream",
     "text": [
      "-1.0279828673607518\n",
      "844.2777777777778\n",
      "863.2\n"
     ]
    }
   ],
   "source": [
    "print(df1.Rev.skew())\n",
    "print(df1.Rev.mean())\n",
    "print(df1.Rev.median())"
   ]
  },
  {
   "cell_type": "code",
   "execution_count": 298,
   "metadata": {},
   "outputs": [
    {
     "name": "stdout",
     "output_type": "stream",
     "text": [
      "0.15582379564051124\n",
      "940.4444444444445\n",
      "931.0\n"
     ]
    }
   ],
   "source": [
    "print(df1.Vol.skew())\n",
    "print(df1.Vol.mean())\n",
    "print(df1.Vol.median())"
   ]
  },
  {
   "cell_type": "code",
   "execution_count": 302,
   "metadata": {},
   "outputs": [
    {
     "data": {
      "text/plain": [
       "-0.8391481445185045"
      ]
     },
     "execution_count": 302,
     "metadata": {},
     "output_type": "execute_result"
    }
   ],
   "source": [
    "df1.Vol.kurt()"
   ]
  },
  {
   "cell_type": "code",
   "execution_count": 303,
   "metadata": {},
   "outputs": [
    {
     "name": "stdout",
     "output_type": "stream",
     "text": [
      "-0.8391481445185045\n",
      "940.4444444444445\n",
      "931.0\n"
     ]
    }
   ],
   "source": [
    "print(df1.Vol.kurt())\n",
    "print(df1.Vol.mean())\n",
    "print(df1.Vol.median())"
   ]
  },
  {
   "cell_type": "code",
   "execution_count": 304,
   "metadata": {},
   "outputs": [
    {
     "name": "stdout",
     "output_type": "stream",
     "text": [
      "1.5933779931987493\n",
      "844.2777777777778\n",
      "863.2\n"
     ]
    }
   ],
   "source": [
    "print(df1.Rev.kurt())\n",
    "print(df1.Rev.mean())\n",
    "print(df1.Rev.median())"
   ]
  },
  {
   "cell_type": "code",
   "execution_count": null,
   "metadata": {},
   "outputs": [],
   "source": []
  }
 ],
 "metadata": {
  "kernelspec": {
   "display_name": "Python 3",
   "language": "python",
   "name": "python3"
  },
  "language_info": {
   "codemirror_mode": {
    "name": "ipython",
    "version": 3
   },
   "file_extension": ".py",
   "mimetype": "text/x-python",
   "name": "python",
   "nbconvert_exporter": "python",
   "pygments_lexer": "ipython3",
   "version": "3.8.5"
  }
 },
 "nbformat": 4,
 "nbformat_minor": 4
}
