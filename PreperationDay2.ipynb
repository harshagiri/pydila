{
 "cells": [
  {
   "cell_type": "code",
   "execution_count": null,
   "metadata": {},
   "outputs": [],
   "source": [
    "#Container has 5 numbers\n",
    "a = [1,2,3,4,5]\n",
    "#For each element container\n",
    "for index in range(len(a)):\n",
    "    #Multiply the number by itself to calculate square of it and print\n",
    "    print('Square is :', a[index]*a[index])\n",
    "print('Length of container is :', len(a))"
   ]
  },
  {
   "cell_type": "code",
   "execution_count": null,
   "metadata": {},
   "outputs": [],
   "source": [
    "#read num from keyboard and store in varaiable maxeln\n",
    "maxlen = input('Input the container size\\n')\n",
    "\n",
    "index = 0;\n",
    "a = [];\n",
    "while index < int(maxlen):\n",
    "    readValue = input('enter the value to insert')\n",
    "    a.append(int(readValue))\n",
    "    index = index+1\n",
    "    \n",
    "print(a)\n",
    "\n",
    "newindex = 0;\n",
    "b = [];\n",
    "while newindex < len(a):\n",
    "    if newindex % 2 == 0:\n",
    "       b.append(a[newindex]);\n",
    "    newindex = newindex+1;\n",
    "    \n",
    "print(b)\n",
    "    "
   ]
  },
  {
   "cell_type": "code",
   "execution_count": null,
   "metadata": {},
   "outputs": [],
   "source": [
    "#read num from keyboard and store in varaiable maxeln\n",
    "maxlen = input('Input the container size\\n')\n",
    "\n",
    "#initialise the indexer to zero\n",
    "index = 0;\n",
    "#create an empty container\n",
    "a = [];\n",
    "while index < int(maxlen):\n",
    "    #Read the value from keyboard\n",
    "    readValue = input('enter the value to insert')\n",
    "    #apend value to end of the exisiting container\n",
    "    a.append(int(readValue))\n",
    "    # increment the index to go to point to next location\n",
    "    index = index+1\n",
    "\n",
    "#For each element container\n",
    "for index in range(len(a)):\n",
    "    #Multiply the number by itself to calculate square of it and print\n",
    "    print('Square is :', a[index]*a[index])"
   ]
  },
  {
   "cell_type": "code",
   "execution_count": null,
   "metadata": {},
   "outputs": [],
   "source": [
    "#Create emtpy container\n",
    "inputArray=[]\n",
    "\n",
    "#Read value from keyboard for container size\n",
    "rangeNumber = int(input(\"How many elements are in list : \"))\n",
    "\n",
    "for index in range(rangeNumber):\n",
    "    #For each loop instance read value from user\n",
    "    inputValue = int(input())\n",
    "    #apend read value to container\n",
    "    inputArray.append(inputValue) \n",
    "    #pring the input value\n",
    "    print('Input Value is:', inputValue)\n",
    "    \n",
    "#Print the entire container\n",
    "print('Printing container:', inputArray) "
   ]
  },
  {
   "cell_type": "code",
   "execution_count": null,
   "metadata": {},
   "outputs": [],
   "source": [
    "#Multiplication method created as a resuable function\n",
    "def multiplicationTable (inputNumber):\n",
    "    multiplier = 1\n",
    "    #For 10 times starting from 1 till 10\n",
    "    while multiplier <= 10:\n",
    "        \n",
    "        #Extract the integer type from number\n",
    "        number = int(inputNumber)\n",
    "        \n",
    "        #number is multiplied by index to give the result\n",
    "        print(number, \"*\", multiplier, \"=\", number*multiplier);\n",
    "        \n",
    "        multiplier = multiplier + 1\n",
    "    return\n",
    "\n",
    "#Enter number to pring mulptiplication table from 1 to 10\n",
    "inputNumber = input(\"Enter number to create multiplication table:\\n\")\n",
    "\n",
    "#call the function by passing value read from keyboard\n",
    "multiplicationTable(inputNumber);"
   ]
  },
  {
   "cell_type": "code",
   "execution_count": 14,
   "metadata": {},
   "outputs": [
    {
     "name": "stdin",
     "output_type": "stream",
     "text": [
      "Enter the time for parrot to talk\n",
      " 15\n",
      "Enter if parrot should talk or not by giving True or False True\n"
     ]
    },
    {
     "name": "stdout",
     "output_type": "stream",
     "text": [
      "Time is  3  pm\n"
     ]
    }
   ],
   "source": [
    "#create function to handle parrot's behavior\n",
    "def talkingParrot (inputTime, talking):\n",
    "    if(int(inputTime) < 0 or int(inputTime) > 23):\n",
    "        print('Invalid Time')\n",
    "        return\n",
    "    \n",
    "    if int(inputTime) > 12:\n",
    "        print('Time is ', int(inputTime)%12,\" pm\")\n",
    "    else:\n",
    "        print('Time is ', int(inputTime)%12,\" am\")\n",
    "            \n",
    "    #check if the time is greater than 8AM or before 8 PM, which is not troubling time\n",
    "    if bool(talking) == True:\n",
    "        if int(inputTime) <= 8 and int(inputTime) >= 20 :\n",
    "            print('In trouble')\n",
    "            print('True')\n",
    "    #else print that we are in trouble\n",
    "    else:\n",
    "        print('Not in trouble')\n",
    "        print('False')\n",
    "        \n",
    "    return\n",
    "    \n",
    "#Read hour input from user\n",
    "inputTime = input('Enter the time for parrot to talk\\n')\n",
    "talking = input('Enter if parrot should talk or not by giving True or False')\n",
    "talkingParrot(inputTime, talking)"
   ]
  },
  {
   "cell_type": "code",
   "execution_count": null,
   "metadata": {},
   "outputs": [],
   "source": [
    "def calculateTemperature(inputTemperature):\n",
    "    if (int(inputTemperature) < 60):\n",
    "        print('cold')\n",
    "    elif (int(inputTemperature) > 60 and int(inputTemperature) < 99):\n",
    "        print('It is just right')\n",
    "    else:\n",
    "        print('It is hot')\n",
    "    return\n",
    "\n",
    "#Enter the temperature\n",
    "inputTemperature = input('Provide temperature\\n');\n",
    "calculateTemperature(inputTemperature)"
   ]
  },
  {
   "cell_type": "code",
   "execution_count": null,
   "metadata": {},
   "outputs": [],
   "source": [
    "#approach - 1\n",
    "actualOrder=[1,2,3,4,5];\n",
    "reverseOrder=[];\n",
    "\n",
    "def reverseContainer(actualOrder, reverseOrder):\n",
    "    index = len(actualOrder)\n",
    "    while index > 0:\n",
    "        reverseOrder.append(actualOrder[index - 1]);\n",
    "        index = index - 1;\n",
    "    return\n",
    "\n",
    "print('Before conversion');\n",
    "print(actualOrder);\n",
    "print(reverseOrder);\n",
    "\n",
    "reverseContainer(actualOrder, reverseOrder);\n",
    "\n",
    "print('After conversion');\n",
    "print(actualOrder);\n",
    "print(reverseOrder);\n",
    "\n",
    "#approach - 2\n",
    "\n",
    "#Other approaches using Python's plus points\n",
    "reverseOrder = actualOrder[::-1] #reversing using list slicing\n",
    "\n",
    "#approach - 3\n",
    "\n",
    "#The original array\n",
    "arr = [11, 22, 33, 44, 55]\n",
    "print(\"Before reversal Array is :\",arr)\n",
    " \n",
    "arr.reverse() #reversing using reverse()\n",
    "print(\"After reversing Array:\",arr)\n",
    "\n",
    "#approach - 4\n",
    "\n",
    "#The original array\n",
    "arr = [12, 34, 56, 78]\n",
    "print(\"Original Array is :\",arr)\n",
    "#reversing using reversed()\n",
    "result=list(reversed(arr))\n",
    "print(\"Resultant new reversed Array:\",result)"
   ]
  },
  {
   "cell_type": "code",
   "execution_count": null,
   "metadata": {},
   "outputs": [],
   "source": [
    "#write a pseudocode to check if a given number is prime number\n",
    "number = input('Please enter a number');\n",
    "\n",
    "i = 2;\n",
    "primeFlag = 0;\n",
    "\n",
    "while i < int(number):\n",
    "    if ((int(number)%i) == 0):\n",
    "        primeFlag = 1;\n",
    "        print (\"Your number is NOT a prime number!\");\n",
    "    i = i + 1;\n",
    "        \n",
    "if primeFlag == 0:\n",
    "    print (\"Your number is a prime number!\");"
   ]
  },
  {
   "cell_type": "code",
   "execution_count": null,
   "metadata": {},
   "outputs": [],
   "source": [
    "#Write a pseudocode function to print odd numbers from num1 to num2 and return count\n",
    "num1 = int(input('Enter number1\\n'));\n",
    "num2 = int(input('Enter number2\\n'));\n",
    "\n",
    "def printOddNumbersAndCount(num1, num2):\n",
    "    count = 0;\n",
    "    for num in range(num1, num2):\n",
    "        if(num % 2 != 0):\n",
    "            count = count + num;\n",
    "            print('Odd number is: ', num);\n",
    "    return count;\n",
    "                  \n",
    "print('Sum of all odd numbers is ', printOddNumbersAndCount(num1, num2));"
   ]
  },
  {
   "cell_type": "code",
   "execution_count": 23,
   "metadata": {},
   "outputs": [
    {
     "name": "stdin",
     "output_type": "stream",
     "text": [
      "Enter the number of numbers to be computed in Fibonacci series 3\n"
     ]
    },
    {
     "name": "stdout",
     "output_type": "stream",
     "text": [
      "[1, 1, 2]\n"
     ]
    }
   ],
   "source": [
    "#Write a logic to get the first N (N>2) numbers in fibonacci series\n",
    "\n",
    "#create a container to hold the fibonacci series\n",
    "fseries = []\n",
    "\n",
    "#pass first 2 operands and the number expected to be in series as parameters to method\n",
    "def fibonacci(number1, number2, numbers_in_series):\n",
    "    #If numbers in series is not zero, only then proceed calculating the next number in fibonacci series\n",
    "    if( numbers_in_series != 0):\n",
    "        #calcualte the next number and add it to the container\n",
    "        fseries.append(number1+number2);\n",
    "        #decrement the numbers to be filled in the seires\n",
    "        numbers_in_series = numbers_in_series - 1\n",
    "        #call the method again with updated arguments\n",
    "        fibonacci(number2, number1+number2, numbers_in_series)\n",
    "    return\n",
    "\n",
    "#Add first 2 numbers in Fionacci series explicitly\n",
    "fseries.append(1)\n",
    "fseries.append(1)\n",
    "\n",
    "#Read the number of values to be there in the fibonacci seires from the end user via keyboard\n",
    "numbers_in_series = int(input('Enter the number of numbers to be computed in Fibonacci series'))\n",
    "\n",
    "#if number in series less than 2 then print error else continue buidling the series\n",
    "if( numbers_in_series < 2):\n",
    "    print('Number cannot be less than 2')\n",
    "else:\n",
    "    fibonacci(1, 1, numbers_in_series - 2)\n",
    "    print(fseries)"
   ]
  },
  {
   "cell_type": "code",
   "execution_count": null,
   "metadata": {},
   "outputs": [],
   "source": []
  }
 ],
 "metadata": {
  "kernelspec": {
   "display_name": "Python 3",
   "language": "python",
   "name": "python3"
  },
  "language_info": {
   "codemirror_mode": {
    "name": "ipython",
    "version": 3
   },
   "file_extension": ".py",
   "mimetype": "text/x-python",
   "name": "python",
   "nbconvert_exporter": "python",
   "pygments_lexer": "ipython3",
   "version": "3.8.3"
  }
 },
 "nbformat": 4,
 "nbformat_minor": 4
}
