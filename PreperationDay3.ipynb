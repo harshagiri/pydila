{
 "cells": [
  {
   "cell_type": "code",
   "execution_count": 2,
   "metadata": {},
   "outputs": [
    {
     "data": {
      "text/plain": [
       "'\\nCreate a program which will ask for your recent exam score out of 100.\\n\\na) The program should print what grade you got and how many more marks you woudl have needed to get hte next possible\\n    higher grade\\nb) Grad boundaries\\n    ## >=70 \"Distinction\"\\n    ## >=60 <70 \"First Class\"\\n    ## >=50 <60 \"Second Class\"\\n    ## >=35 <50 \"Pass Class\"\\n    ## >35 \"Fail\"\\nc) Test the program for all possible conditiosn at least once\\n'"
      ]
     },
     "execution_count": 2,
     "metadata": {},
     "output_type": "execute_result"
    }
   ],
   "source": [
    "\"\"\"\n",
    "Create a program which will ask for your recent exam score out of 100.\n",
    "\n",
    "a) The program should print what grade you got and how many more marks you woudl have needed to get hte next possible\n",
    "    higher grade\n",
    "b) Grad boundaries\n",
    "    ## >=70 \"Distinction\"\n",
    "    ## >=60 <70 \"First Class\"\n",
    "    ## >=50 <60 \"Second Class\"\n",
    "    ## >=35 <50 \"Pass Class\"\n",
    "    ## >35 \"Fail\"\n",
    "c) Test the program for all possible conditiosn at least once\n",
    "\"\"\""
   ]
  },
  {
   "cell_type": "code",
   "execution_count": 9,
   "metadata": {},
   "outputs": [
    {
     "name": "stdin",
     "output_type": "stream",
     "text": [
      "enter the score:\n",
      " 80\n"
     ]
    },
    {
     "name": "stdout",
     "output_type": "stream",
     "text": [
      "Grade: Distinction\n"
     ]
    }
   ],
   "source": [
    "def gradeCalculator(score):\n",
    "    if score >= 70:\n",
    "        print(\"Grade: Distinction\")\n",
    "    elif score >=60 and score<70:\n",
    "        print(\"Grade: First Class\")\n",
    "        print(\"Needed\", 70-score , \" for next grade\")\n",
    "    elif score>= 50 and score<60:\n",
    "        print(\"Grade: Second Class\")\n",
    "        print(\"Needed\", 60-score , \" for next grade\")\n",
    "    elif score>=35 and score<50:\n",
    "        print(\"Grade: Pass Class\")\n",
    "        print(\"Needed\", 50-score , \" for next grade\")\n",
    "    else:\n",
    "        print(\"Grade: Fail\")\n",
    "        print(\"Needed\", 35-score , \" to pass\")\n",
    "    return\n",
    "\n",
    "score = int(input(\"enter the score:\\n\"))\n",
    "gradeCalculator(score)"
   ]
  },
  {
   "cell_type": "code",
   "execution_count": null,
   "metadata": {},
   "outputs": [],
   "source": [
    "#Create a program that will allow the user to enter a line/quote, output this quote in uppercase, lowercase, capitalize and title formats\n",
    "\n"
   ]
  }
 ],
 "metadata": {
  "kernelspec": {
   "display_name": "Python 3",
   "language": "python",
   "name": "python3"
  },
  "language_info": {
   "codemirror_mode": {
    "name": "ipython",
    "version": 3
   },
   "file_extension": ".py",
   "mimetype": "text/x-python",
   "name": "python",
   "nbconvert_exporter": "python",
   "pygments_lexer": "ipython3",
   "version": "3.8.3"
  }
 },
 "nbformat": 4,
 "nbformat_minor": 4
}
