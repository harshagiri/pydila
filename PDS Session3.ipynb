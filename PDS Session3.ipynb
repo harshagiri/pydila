{
 "cells": [
  {
   "cell_type": "markdown",
   "metadata": {},
   "source": [
    "Comprehensions"
   ]
  },
  {
   "cell_type": "markdown",
   "metadata": {},
   "source": [
    "There are only set, list, dictionary and generator comprehensions"
   ]
  },
  {
   "cell_type": "code",
   "execution_count": null,
   "metadata": {},
   "outputs": [],
   "source": [
    "#List comprehensions\n",
    "#Give me list of values from 2^0 to 2^10\n",
    "\n",
    "#signature1: final_list = [ <2.expression> <1. for loop> ]\n",
    "#signature2: final_list = [ <3.expression> <1. for loop> <2.Gating condition>]\n",
    "#signature3: final_list = [ <2.expression if-else based > <1. for loop> ]\n",
    "#signature4: final_list = [ <3.expression if-else based > <1. for loop> <2.Gating condition>]\n",
    "\n",
    "list2power = []\n",
    "for num in range(10):\n",
    "    val = 2 ** num;\n",
    "    list2power.append(val)\n",
    "print(\"Regular way wihtout comprehension \",list2power)\n",
    "\n",
    "#Comprehensive way to calculate 2 to the power from 0 to 10\n",
    "list2p = [ 2** num for num in range(10) ]\n",
    "print(\"Using comprehension \",list2p)\n",
    "\n",
    "#Calculate square of number in range\n",
    "numsquare = [ num**2 for num in range(10, 20) ]\n",
    "print(\"Using comprehension for square of numbers\",list2psquar)\n",
    "\n",
    "#Calculate square of number if it is ev\n",
    "numsquareeven = [ num**2 for num in range(10, 31, 2) ]\n",
    "print(\"Using comprehension for square of even numbers\",numsquareeven)\n",
    "\n",
    "#Calculate square of number if it is even\n",
    "numsquareeven2 = [ num**2 for num in range(10, 31) if num % 2 == 0 ]\n",
    "print(\"Using comprehension for square of even numbers extended\",numsquareeven2) \n",
    "\n",
    "#Calculate square of a number if it odd else calculate cube if it even\n",
    "oddevenlist = [ num**2 if num % 2 == 0 else num ** 3 for num in range(10,31) ]\n",
    "print(\"Oddevent list \",oddevenlist)\n",
    "\n",
    "#Ternary operator in Python\n",
    "num = 5\n",
    "nump = num ** 2 if num % 2 == 0 else num ** 3\n",
    "print(num, nump)\n",
    "\n",
    "marks = 68\n",
    "grade = 'Distinction' if marks > 70 else \"First Class\" if marks > 60 else \"2nd class\" if marks >50 else \"not end class\"\n",
    "print(grade)"
   ]
  },
  {
   "cell_type": "code",
   "execution_count": null,
   "metadata": {},
   "outputs": [],
   "source": [
    "def isprime(num):\n",
    "    if num <= 1:\n",
    "        return False\n",
    "    \n",
    "    for divisor in range(2,num):\n",
    "        if num % divisor == 0:\n",
    "            return False\n",
    "        \n",
    "    return True\n",
    "\n",
    "plist = [ num for num in range(10,100) if isprime(num)]\n",
    "print(plist)"
   ]
  },
  {
   "cell_type": "code",
   "execution_count": null,
   "metadata": {},
   "outputs": [],
   "source": [
    "plist1 = [ (num,isprime(num)) for num in range(10,100) ]\n",
    "print(plist1)"
   ]
  },
  {
   "cell_type": "code",
   "execution_count": null,
   "metadata": {},
   "outputs": [],
   "source": [
    "#Calculate square of a number if it odd else calculate cube if it even and if number is divisible by 3\n",
    "oddevenlist1 = [ num**2 if num % 2 == 0 else num ** 3 for num in range(10,31) if num % 3 == 0]\n",
    "print(\"Oddevent list multiple of 3\",oddevenlist1)"
   ]
  },
  {
   "cell_type": "code",
   "execution_count": null,
   "metadata": {},
   "outputs": [],
   "source": [
    "ulist = ['u1','u2','u3']\n",
    "plist = ['p1','p2','p3']\n",
    "\n",
    "#uplist = [(u1,p1),(u1,p2),(u1,p3),...]\n",
    "uplist = [ (u,p) for u in ulist for p in plist ]\n",
    "print(uplist)\n",
    "\n",
    "# calculate list when u2 and p2 is not present in the list\n",
    "uplist1 = [ (u,p) for u in ulist if u != 'u2' for p in plist if p != 'p2']\n",
    "print(uplist1)"
   ]
  },
  {
   "cell_type": "code",
   "execution_count": null,
   "metadata": {},
   "outputs": [],
   "source": [
    "dlist = [num % 3 for num in range(30)]\n",
    "print(dlist)\n",
    "\n",
    "dset = { num % 3 for num in range(30)}\n",
    "print(dset)"
   ]
  },
  {
   "cell_type": "code",
   "execution_count": null,
   "metadata": {},
   "outputs": [],
   "source": [
    "ulist = ['u1','u2','u3']\n",
    "plist = ['p1','p2','p3']\n",
    "\n",
    "upl = [ (u,p) for u in ulist for p in plist]\n",
    "print(upl)\n",
    "print(type(upl))\n",
    "      \n",
    "# Only unique keys can be stored in dicitonary, hence subsequent values will override previous values\n",
    "upd = { u:p  for u in ulist   for p in plist }\n",
    "print(upd)\n",
    "print(type(upd))"
   ]
  },
  {
   "cell_type": "code",
   "execution_count": null,
   "metadata": {},
   "outputs": [],
   "source": [
    "md1 = {'k1':'v1','k2':'v2'}\n",
    "md2 = {'k1':'v1','k3':'v3'}\n",
    "\n",
    "md1.update({ k:md2[k] for k in set(md1).intersection(set(md2))})\n",
    "print(md1)"
   ]
  },
  {
   "cell_type": "markdown",
   "metadata": {},
   "source": [
    "Module Usage"
   ]
  },
  {
   "cell_type": "code",
   "execution_count": null,
   "metadata": {},
   "outputs": [],
   "source": [
    "import sys\n",
    "sys.path"
   ]
  },
  {
   "cell_type": "code",
   "execution_count": null,
   "metadata": {},
   "outputs": [],
   "source": [
    "globals()"
   ]
  },
  {
   "cell_type": "code",
   "execution_count": null,
   "metadata": {},
   "outputs": [],
   "source": [
    "n1 = 20\n",
    "n2 = 30\n",
    "\n",
    "def myfunction1(n3):\n",
    "    print(\"\\ninside function1\")\n",
    "    n1 = 999\n",
    "    n4 = 444\n",
    "    print(1, n1, n2, n3)    \n",
    "    print(2, n1, n2, n3, n4)\n",
    "    print(locals())\n",
    "    print('n4 is present in local','n4' in locals())\n",
    "    print('Exiting function1\\n')\n",
    "    \n",
    "def myfunction2(n3):\n",
    "    print(\"\\ninside function2\")\n",
    "    global n1\n",
    "    n1 = 999\n",
    "    n4 = 444\n",
    "    print(1, n1, n2, n3)    \n",
    "    print(2, n1, n2, n3, n4)\n",
    "    print(locals())\n",
    "    print('n4 is present in local','n4' in locals())\n",
    "    print('Exiting functio2n\\n')\n",
    "    \n",
    "print(0, n1, n2)\n",
    "myfunction1(333)\n",
    "print(3, n1, n2)\n",
    "\n",
    "print(0, n1, n2)\n",
    "myfunction2(333)\n",
    "print(3, n1, n2)\n",
    "\n",
    "print('n1 is present in globals','n1' in globals())"
   ]
  },
  {
   "cell_type": "code",
   "execution_count": null,
   "metadata": {},
   "outputs": [],
   "source": [
    "#Poll quiz 1 \n",
    "\n",
    "x = 7\n",
    "\n",
    "def prod(a, b):\n",
    "    return a*x+b\n",
    "prod(2)\n",
    "print(names[1])"
   ]
  },
  {
   "cell_type": "code",
   "execution_count": null,
   "metadata": {},
   "outputs": [],
   "source": [
    "#Poll quiz 2\n",
    "Result = []\n",
    "\n",
    "A = [1,2,3,4]\n",
    "\n",
    "for i in A:\n",
    "    Result.append( i * str(i))\n",
    "print(Result)"
   ]
  },
  {
   "cell_type": "markdown",
   "metadata": {},
   "source": [
    "## Lambda Applications"
   ]
  },
  {
   "cell_type": "code",
   "execution_count": null,
   "metadata": {},
   "outputs": [],
   "source": [
    "isEven = lambda num : num % 2 == 0\n",
    "result = isEven(21)\n",
    "print(result)\n",
    "print(type(isEven))"
   ]
  },
  {
   "cell_type": "code",
   "execution_count": null,
   "metadata": {},
   "outputs": [],
   "source": [
    "feetlist = [10, 20, 30, 40, 50]\n",
    "inchlist = []\n",
    "\n",
    "#def f2i(f):\n",
    "#    i = f * 12\n",
    "#    return i\n",
    "\n",
    "f2i = lambda f : f * 12\n",
    "\n",
    "for f in feetlist:\n",
    "    inchlist.append(f2i(f))\n",
    "    \n",
    "print(feetlist)\n",
    "print(inchlist)"
   ]
  },
  {
   "cell_type": "code",
   "execution_count": null,
   "metadata": {},
   "outputs": [],
   "source": [
    "#anonymus usage of lambda function object\n",
    "inchlist = list(map(lambda f : f * 12, feetlist))\n",
    "print(inchlist)"
   ]
  },
  {
   "cell_type": "code",
   "execution_count": null,
   "metadata": {},
   "outputs": [],
   "source": [
    "alist = [1,2,3,4,5]\n",
    "blist = [10,20,30,40,50]\n",
    "ilist = list(map(lambda a,b : (a+b), alist, blist))\n",
    "print(ilist)"
   ]
  },
  {
   "cell_type": "code",
   "execution_count": null,
   "metadata": {},
   "outputs": [],
   "source": [
    "alist= [1,2,3]\n",
    "blist=[6,7,8]\n",
    "f = lambda a,b:a+b\n",
    "list(map(f,alist,blist))"
   ]
  },
  {
   "cell_type": "code",
   "execution_count": 108,
   "metadata": {},
   "outputs": [
    {
     "name": "stdout",
     "output_type": "stream",
     "text": [
      "{'b', 'c', 'a'}\n",
      "['b', 'cc', 'aaa']\n"
     ]
    }
   ],
   "source": [
    "alst = {'a','b','c'}\n",
    "blst = [1,2, 3,4, 6]\n",
    "print(alst)\n",
    "ilst = list(map(lambda a,b:a*b, alst, blst))\n",
    "print(ilst)"
   ]
  },
  {
   "cell_type": "code",
   "execution_count": 114,
   "metadata": {},
   "outputs": [
    {
     "name": "stdout",
     "output_type": "stream",
     "text": [
      "[[2, 4, 8, 16, 32, 64, 128, 256, 512, 1024], [2, 4, 8, 16, 32, 64, 128, 256, 512, 1024], [2, 4, 8, 16, 32, 64, 128, 256, 512, 1024], [2, 4, 8, 16, 32, 64, 128, 256, 512, 1024], [2, 4, 8, 16, 32, 64, 128, 256, 512, 1024], [2, 4, 8, 16, 32, 64, 128, 256, 512, 1024], [2, 4, 8, 16, 32, 64, 128, 256, 512, 1024], [2, 4, 8, 16, 32, 64, 128, 256, 512, 1024], [2, 4, 8, 16, 32, 64, 128, 256, 512, 1024], [2, 4, 8, 16, 32, 64, 128, 256, 512, 1024]]\n"
     ]
    }
   ],
   "source": [
    "#trying map+lambda+comprehension\n",
    "numlist = [1,2,3,4,5,6,7,8,9,10]\n",
    "outputlist = list((map(lambda num : [ 2** num for num in numlist ], numlist)))\n",
    "print(outputlist)"
   ]
  },
  {
   "cell_type": "code",
   "execution_count": 119,
   "metadata": {},
   "outputs": [
    {
     "name": "stdout",
     "output_type": "stream",
     "text": [
      "[1, 4, 7, 10, 13, 16, 19, 22, 25, 28, 31, 34, 37, 40, 43, 46, 49, 52, 55, 58]\n",
      "<map object at 0x7fa047c2d850>\n",
      "[False, True, False, True, False, True, False, True, False, True, False, True, False, True, False, True, False, True, False, True]\n",
      "<filter object at 0x7fa047c1cd90>\n",
      "[4, 10, 16, 22, 28, 34, 40, 46, 52, 58]\n"
     ]
    }
   ],
   "source": [
    "nlist = list(range(1, 60, 3))\n",
    "print(nlist)\n",
    "evenlist = map(lambda num: num%2==0, nlist)\n",
    "print(evenlist)\n",
    "print(list(evenlist))\n",
    "evenlist = filter(lambda num: num%2==0, nlist)\n",
    "print(evenlist)\n",
    "print(list(evenlist))"
   ]
  },
  {
   "cell_type": "code",
   "execution_count": 120,
   "metadata": {},
   "outputs": [
    {
     "name": "stdout",
     "output_type": "stream",
     "text": [
      "[7, 13, 19, 31, 37, 43]\n"
     ]
    }
   ],
   "source": [
    "plist = filter(isprime, nlist)\n",
    "print(list(plist))"
   ]
  },
  {
   "cell_type": "code",
   "execution_count": 121,
   "metadata": {},
   "outputs": [
    {
     "name": "stdout",
     "output_type": "stream",
     "text": [
      "<filter object at 0x7fa047c2dd30>\n",
      "[7, 13, 19, 31, 37, 43]\n"
     ]
    }
   ],
   "source": [
    "plist = filter ( lambda num: isprime(num) , nlist)\n",
    "print(plist)\n",
    "print(list(plist))"
   ]
  },
  {
   "cell_type": "code",
   "execution_count": 125,
   "metadata": {},
   "outputs": [
    {
     "name": "stdout",
     "output_type": "stream",
     "text": [
      "15\n"
     ]
    }
   ],
   "source": [
    "list1 = [1,2,3,4,5]\n",
    "from functools import reduce\n",
    "total = reduce(lambda x,y: x+y, list1)\n",
    "print(total)"
   ]
  },
  {
   "cell_type": "code",
   "execution_count": 130,
   "metadata": {},
   "outputs": [
    {
     "name": "stdout",
     "output_type": "stream",
     "text": [
      "120\n"
     ]
    }
   ],
   "source": [
    "list1 = [1,2,3,4,5]\n",
    "from functools import reduce\n",
    "total = reduce(lambda x,y: x*y, list1)\n",
    "print(total)"
   ]
  },
  {
   "cell_type": "code",
   "execution_count": 133,
   "metadata": {},
   "outputs": [
    {
     "name": "stdout",
     "output_type": "stream",
     "text": [
      "[1, 3, 6, 10, 15]\n"
     ]
    }
   ],
   "source": [
    "from itertools import accumulate\n",
    "total = accumulate(list1, lambda x,y : x+y)\n",
    "print(list(total))"
   ]
  },
  {
   "cell_type": "code",
   "execution_count": null,
   "metadata": {},
   "outputs": [],
   "source": []
  }
 ],
 "metadata": {
  "kernelspec": {
   "display_name": "Python 3",
   "language": "python",
   "name": "python3"
  },
  "language_info": {
   "codemirror_mode": {
    "name": "ipython",
    "version": 3
   },
   "file_extension": ".py",
   "mimetype": "text/x-python",
   "name": "python",
   "nbconvert_exporter": "python",
   "pygments_lexer": "ipython3",
   "version": "3.8.3"
  }
 },
 "nbformat": 4,
 "nbformat_minor": 4
}
