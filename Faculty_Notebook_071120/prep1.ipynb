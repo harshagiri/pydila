{
 "cells": [
  {
   "cell_type": "markdown",
   "metadata": {},
   "source": [
    "# Pseudo-Code"
   ]
  },
  {
   "cell_type": "raw",
   "metadata": {},
   "source": [
    "Read from input device or from a container/Array at a certain [index]\n",
    "\n",
    "Store a value in a variable or into a container at a certain [index]\n",
    "    Append <into Array/Container>\n",
    "    \n",
    "Print a Value, a Variable or an Array to output device.\n",
    "\n",
    "Compute : used to compute a equation\n",
    "\n",
    "If <condition1 is true>  perform logic1, ELIf <condition2 is true>  perform logic2,  Else perform logic3.\n",
    "\n",
    "While (condition is True) keep performing a certain logic\n",
    "\n",
    "Function   <name_of_function(parameters)>\n",
    "\n",
    "Return value from within function.\n",
    "\n",
    "returnVariable = Call <Function(…)>\n",
    "\n",
    "Operators  =  +  -    *   //    /   **   %  and   or    sqrt    [index]  len(container/array)\n",
    "\n",
    "[ Read, Store, Append, Print, Compute,  If/Elif/Else, While, Function, Return, Call]"
   ]
  },
  {
   "cell_type": "markdown",
   "metadata": {},
   "source": [
    "# Write logic in english format, to swap two variables"
   ]
  },
  {
   "cell_type": "raw",
   "metadata": {},
   "source": [
    "Read data from keyboard and store it to A\n",
    "Ready data from keyborad and store it to B\n",
    "Print A and B\n",
    "Assign value of A and store it to variable C\n",
    "Assign value of A and store it to B\n",
    "Assign value of B and store it to C\n",
    "Print A and B\n"
   ]
  },
  {
   "cell_type": "raw",
   "metadata": {},
   "source": [
    "Read a number from the keyboard and store in the variable V1\n",
    "Read a number from the Keyboard and store in Variable V2\n",
    "Store V1 in V3\n",
    "Store V2 in V1\n",
    "Store V3 in V2\n"
   ]
  },
  {
   "cell_type": "raw",
   "metadata": {},
   "source": [
    "Read 1st number and store in var1\n",
    "Read 2nd number and store in var2\n",
    "temp = var1;\n",
    "var2 = var1;\n",
    "var1 = temp\n",
    "Print var1 var 2\n"
   ]
  },
  {
   "cell_type": "markdown",
   "metadata": {},
   "source": [
    "# Convert  user input Fahrenheit value to Centigrade. C = (F-32) * (5/9)"
   ]
  },
  {
   "cell_type": "raw",
   "metadata": {},
   "source": [
    "Read Fahrenheit from Keyboard and store in Fh\n",
    "Compute Cg = (F-32)* (5/9)\n",
    "Print Cg\n"
   ]
  },
  {
   "cell_type": "raw",
   "metadata": {},
   "source": [
    "read the temperature in Fahrenheit \n",
    "store as variable F1\n",
    "compute celsius = (F1 -32)*5/9\n",
    "store celsius\n",
    "print celsius"
   ]
  },
  {
   "cell_type": "markdown",
   "metadata": {},
   "source": [
    "# Get an input from the keyboard , and based on that use keywords like if and else to determine if the given input is equal to “DataScience” and print appropriate messages."
   ]
  },
  {
   "cell_type": "raw",
   "metadata": {},
   "source": [
    "Read from keyboard and store in var X;\n",
    "If X==\"DataScience\" then \n",
    "    print \"Yes\" \n",
    "Else \n",
    "    Print \"No\";\n"
   ]
  },
  {
   "cell_type": "raw",
   "metadata": {},
   "source": [
    "read one value from the user and store in V1 string variable\n",
    "if V1 equals \"DataScience\"\n",
    "   print \"TRUE\"\n",
    "else\n",
    "   print \"false\"\n"
   ]
  },
  {
   "cell_type": "markdown",
   "metadata": {},
   "source": [
    "# Determine if the person is eligible to vote. Print appropriate messages."
   ]
  },
  {
   "cell_type": "raw",
   "metadata": {},
   "source": [
    "Read the Age from the user as input and store it in A,\n",
    "if A is greater than 18\n",
    " print \"eligible to vote\"\n",
    "else \n",
    " print \"Not eligible\""
   ]
  },
  {
   "cell_type": "raw",
   "metadata": {},
   "source": [
    "Read Age from Keyboard\n",
    "If Age >= \"18\"\n",
    "    Print(\"Eligible to Vote\")\n",
    "ELSE \n",
    "    Print(\"Not Eligible\")\n"
   ]
  },
  {
   "cell_type": "markdown",
   "metadata": {},
   "source": [
    "# Check if a given input number is EVEN or not, and print appropriate messages."
   ]
  },
  {
   "cell_type": "code",
   "execution_count": null,
   "metadata": {},
   "outputs": [],
   "source": [
    "Read a number from user and store in num integer variable\n",
    "compute (num % 2) and store in d\n",
    "if d is greater than 0\n",
    "    print \"ODD\"\n",
    "else\n",
    "    print \"EVEN\"\n"
   ]
  },
  {
   "cell_type": "raw",
   "metadata": {},
   "source": [
    "Read number from keyboard and store in variable N;\n",
    "if N%2==0 then\n",
    "  print \"It is an even number\"\n",
    "else\n",
    "  print \"It is an odd number\"\n"
   ]
  },
  {
   "cell_type": "code",
   "execution_count": null,
   "metadata": {},
   "outputs": [],
   "source": [
    "Assume container of numbers as array\n",
    "Compute len(array) and store in length\n",
    "print(length)\n",
    "\n",
    "index = 0\n",
    "while index < length\n",
    "    print(array[index]**2)\n",
    "    index = index + 1"
   ]
  },
  {
   "cell_type": "code",
   "execution_count": null,
   "metadata": {},
   "outputs": [],
   "source": [
    "#Get 10 numbers from user and print\n",
    "\n",
    "Store NULL in a container of numbers called , consolidated_list\n",
    "\n",
    "#Define a counter.\n",
    "read num from keyboard and store it in total_count\n",
    "\n",
    "while total_count > 0:\n",
    "    get the number from user and store it in num\n",
    "    print(num)\n",
    "\n",
    "    #Append to the pre-defined list\n",
    "    append num into consolidated_list\n",
    "    \n",
    "    ##decrement the counter\n",
    "    total_count = total_count - 1\n",
    "    \n",
    "print(consolidated_list)\n"
   ]
  },
  {
   "cell_type": "code",
   "execution_count": null,
   "metadata": {},
   "outputs": [],
   "source": [
    "store NULL in array a;\n",
    "Num = 0;\n",
    "While num < 10;\n",
    "     read number from user and store it in array at index num  a[num]\n",
    "     Print (a[num])\n",
    "     num++;\n",
    "Print (a);\n"
   ]
  },
  {
   "cell_type": "code",
   "execution_count": null,
   "metadata": {},
   "outputs": [],
   "source": [
    "#Multiplication method created as a resuable function\n",
    "Function multiplicationTable (inputNumber):\n",
    "    \n",
    "    #For 10 times starting from 1 till 10\n",
    "    multiplier = 1\n",
    "    while multiplier <= 10\n",
    "        \n",
    "        #number is multiplied by index to give the result\n",
    "        print(inputNumber, \"*\", multiplier, \"=\", inputNumber*multiplier);\n",
    "        multiplier = multiplier + 1\n",
    "        \n",
    "\n",
    "#Enter number to pring mulptiplication table from 1 to 10\n",
    "inputNumber = input(\"Enter number to create multiplication table:\\n\")\n",
    "\n",
    "#call the function by passing value read from keyboard\n",
    "call multiplicationTable(inputNumber);\n",
    "call multiplicationTable(9);\n"
   ]
  },
  {
   "cell_type": "code",
   "execution_count": null,
   "metadata": {},
   "outputs": [],
   "source": [
    "Read from keyboard and store  Talking status,  True or False\n",
    "Read num from keyboard and store in hour.  0..23\n",
    "\n",
    "Function TalkingParrot (Talking,Hour)\n",
    "    if Talking == True\n",
    "       if hour >= 20 or hour <= 7\n",
    "            return True\n",
    "        \n",
    "    return False\n",
    "\n",
    " \n",
    "Call Function Talking-parrot (Talking, hour)\n"
   ]
  },
  {
   "cell_type": "code",
   "execution_count": null,
   "metadata": {},
   "outputs": [],
   "source": [
    "Function Tempcheck (Temp)\n",
    "    If (Temp > 99)\n",
    "          Print “Too Hot”;\n",
    "    ElseIf (Temp < 60)\n",
    "         Print “Too Cold”\n",
    "    Else \n",
    "       Print “Just Right”\n",
    "\n",
    "call Tempcheck(99)        \n",
    "call Tempcheck(98)        \n",
    "call Tempcheck(100)\n",
    "\n",
    "call Tempcheck(60)\n",
    "call Tempcheck(59)\n",
    "call Tempcheck(61)\n",
    "\n",
    "call Tempcheck(75)"
   ]
  },
  {
   "cell_type": "code",
   "execution_count": null,
   "metadata": {},
   "outputs": [],
   "source": [
    "function fun_rev(ConEle)   \n",
    "    store len(ConEle) in clen\n",
    "    store null in a new container  ConRev\n",
    "    index = clen-1\n",
    "       \n",
    "    while index >= 0:\n",
    "        append ConEle[index]  into ConRev  #ConRev.append(ConEle[index])\n",
    "        index = index - 1\n",
    "        \n",
    "    return ConRev\n",
    "\n",
    "Store 'p','y','t','h','o','n'  in Con\n",
    "rev = fun_rev(Con)\n",
    "print(Con)\n",
    "print(rev)"
   ]
  },
  {
   "cell_type": "code",
   "execution_count": null,
   "metadata": {},
   "outputs": [],
   "source": [
    "function CheckPrime(num)\n",
    "    count=0\n",
    "    divisor = 1\n",
    "    while divisor <= num\n",
    "        if num % divisor == 0\n",
    "            count = count + 1\n",
    "        divisor = divisor + 1\n",
    "    if count == 2\n",
    "        Print 'Prime'\n",
    "        return True\n",
    "    else\n",
    "        Print Not Prime\n",
    "        return False\n",
    "  \n",
    "primeStatus = CheckPrime(3)             \n",
    "print(primeStatus, 3)"
   ]
  }
 ],
 "metadata": {
  "kernelspec": {
   "display_name": "Python 3",
   "language": "python",
   "name": "python3"
  },
  "language_info": {
   "codemirror_mode": {
    "name": "ipython",
    "version": 3
   },
   "file_extension": ".py",
   "mimetype": "text/x-python",
   "name": "python",
   "nbconvert_exporter": "python",
   "pygments_lexer": "ipython3",
   "version": "3.8.3"
  }
 },
 "nbformat": 4,
 "nbformat_minor": 4
}
