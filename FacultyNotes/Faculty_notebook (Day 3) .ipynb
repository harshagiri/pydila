{
 "cells": [
  {
   "cell_type": "markdown",
   "metadata": {},
   "source": [
    "<table align=\"left\" width=100%>\n",
    "    <tr>\n",
    "        <td width=\"20%\">\n",
    "            <img src=\"faculty.png\">\n",
    "        </td>\n",
    "        <td>\n",
    "            <div align=\"center\">\n",
    "                <font color=\"#21618C\" size=8px>\n",
    "                  <b> Faculty Notebook <br> (Day 3) </b>\n",
    "                </font>\n",
    "            </div>\n",
    "        </td>\n",
    "    </tr>\n",
    "</table>"
   ]
  },
  {
   "cell_type": "markdown",
   "metadata": {
    "collapsed": true
   },
   "source": [
    "## Table of Content\n",
    "\n",
    "1. **[Conditional Statements and Loops](#loops)**\n",
    "    - 1.1 - [if statement](#if_statement)\n",
    "    - 1.2 - [if else statement](#if_else)\n",
    "    - 1.3 - [if elif else](#if_elif_else)\n",
    "    - 1.4 - [nested if and if else statement](#nested_if)\n",
    "    - 1.5 - [for loop](#forloop)\n",
    "    - 1.6 - [while loop](#whileloop)\n",
    "    - 1.7 - [break statement](#break_statement)\n",
    "    - 1.8 - [continue statement](#continue_statement)\n",
    "2. **[ Examples of Conditional Statement and Loops](#examples)**\n",
    "    - 2.1 - [if statement](#if_statement)\n",
    "    - 2.2 - [if else statement](#if_else)\n",
    "    - 2.3 - [nested conditions](#if_elif_else)\n",
    "    - 2.4 - [for loop and nested for loop](#for_and_nested)\n",
    "    - 2.5 - [while loop](#while_loop)\n",
    "3. **[ What are List Comprehensions](#List_Comprehensions)**\n",
    "    - 3.1 - [for loop](#for_loop_list)\n",
    "    - 3.2 - [nested for loop](#nested_for_loop_list)\n",
    "    - 3.3 - [if statement](#if_list)\n",
    "    - 3.4 - [nested condition](#nested_condition) "
   ]
  },
  {
   "cell_type": "markdown",
   "metadata": {},
   "source": [
    "<a id=\"loops\"> </a>\n",
    "## 1. Conditional Statements and Loops"
   ]
  },
  {
   "cell_type": "markdown",
   "metadata": {},
   "source": [
    "<a id=\"if_statement\"> </a>\n",
    "## 1.1 if statement\n",
    "<table align=\"left\">\n",
    "    <tr>\n",
    "        <td width=\"15%\">\n",
    "            <img src=\"note.png\">\n",
    "        </td>\n",
    "        <td>\n",
    "            <div align=\"left\", style=\"font-size:120%\">\n",
    "                <font color=\"#21618C\">\n",
    "                    <b>\n",
    "                    It decides whether given statements needs to be executed or not.<br>\n",
    "                    It checks for a given condition, if the condition is true, then the code present inside the if block will be executed.<br>\n",
    "                    </b>\n",
    "                </font>\n",
    "            </div>\n",
    "        </td>\n",
    "    </tr>\n",
    "</table>"
   ]
  },
  {
   "cell_type": "markdown",
   "metadata": {},
   "source": [
    "### Important things about if statements:\n",
    "<em>\n",
    "<table align=\"left\">\n",
    "    <tr>\n",
    "        <td>\n",
    "            <div align=\"left\", style=\"font-size:125%\">\n",
    "                <font color=\"#21618C\">\n",
    "                    <b>1. The colon (:) is significant and required. It separates the header of the compound statement from the body<br>\n",
    "                    2. The line after the colon should be indented. Use four spaces for indenting<br>                </font>\n",
    "            </div>\n",
    "        </td>\n",
    "    </tr>\n",
    "</table>\n",
    "\n",
    "</em>\n"
   ]
  },
  {
   "cell_type": "markdown",
   "metadata": {},
   "source": [
    "**syntax:**<br><br>\n",
    "if BOOLEAN EXPRESSION:<br>\n",
    "&nbsp;&nbsp;    STATEMENTS"
   ]
  },
  {
   "cell_type": "markdown",
   "metadata": {},
   "source": [
    "**Take a look at the flow chart:**\n",
    "            <img src=\"flowchart_if.png\">\n"
   ]
  },
  {
   "cell_type": "markdown",
   "metadata": {},
   "source": [
    "Now, we will see some examples on if statements"
   ]
  },
  {
   "cell_type": "code",
   "execution_count": 78,
   "metadata": {},
   "outputs": [
    {
     "name": "stdout",
     "output_type": "stream",
     "text": [
      "Python Tutorial\n"
     ]
    }
   ],
   "source": [
    "# create a string\n",
    "my_string = 'Python'\n",
    "\n",
    "# create a list\n",
    "my_list = ['Data Science', 'Machine Learning', 'Artificial Intelligence', 'Python']\n",
    "\n",
    "if my_string in my_list:\n",
    "    print(my_string + ' Tutorial')"
   ]
  },
  {
   "cell_type": "markdown",
   "metadata": {},
   "source": [
    "Check whether the item is a member of a list or not"
   ]
  },
  {
   "cell_type": "code",
   "execution_count": 79,
   "metadata": {},
   "outputs": [
    {
     "name": "stdout",
     "output_type": "stream",
     "text": [
      "right\n"
     ]
    }
   ],
   "source": [
    "languages = ['java', 'python' ,'perl', 'ruby', 'c#']\n",
    "if 'python' in languages:\n",
    "    print('right')"
   ]
  },
  {
   "cell_type": "markdown",
   "metadata": {},
   "source": [
    "<a id=\"if_else\"> </a>\n",
    "## 1.2 if else statement\n",
    "<table align=\"left\">\n",
    "    <tr>\n",
    "        <td width=\"15%\">\n",
    "            <img src=\"note.png\">\n",
    "        </td>\n",
    "        <td>\n",
    "            <div align=\"left\", style=\"font-size:120%\">\n",
    "                <font color=\"#21618C\">\n",
    "                    <b>The if..else statement evaluates test expression and will execute the body of if only when test condition is True.<br><br>\n",
    "                    'If' decides whether certain statements need to be executed or not.<br><br>\n",
    "                    In case, the condition is false,the body of 'else' is executed.<br>\n",
    "                    </b>\n",
    "                </font>\n",
    "            </div>\n",
    "        </td>\n",
    "    </tr>\n",
    "</table>"
   ]
  },
  {
   "cell_type": "markdown",
   "metadata": {},
   "source": [
    "**Syntax of if...else**<br><br>\n",
    "if BOOLEAN EXPRESSION:<br>\n",
    "&nbsp;&nbsp;    STATEMENTS_1<br>\n",
    "else:<br>\n",
    "&nbsp;&nbsp;    STATEMENTS_2"
   ]
  },
  {
   "cell_type": "markdown",
   "metadata": {},
   "source": [
    "**Flow chart of a if else statement:**\n",
    "            <img src=\"flowchart_if_else.png\">\n"
   ]
  },
  {
   "cell_type": "markdown",
   "metadata": {},
   "source": [
    "Let’s see an example on the if…else statement."
   ]
  },
  {
   "cell_type": "code",
   "execution_count": 80,
   "metadata": {},
   "outputs": [
    {
     "name": "stdout",
     "output_type": "stream",
     "text": [
      "200\n",
      "the value of x is not equal to 500\n"
     ]
    }
   ],
   "source": [
    "# create a integer\n",
    "x = 200\n",
    "print(x)\n",
    "\n",
    "# use if else statement\n",
    "if not x == 500:\n",
    "    print('the value of x is not equal to 500')\n",
    "else:\n",
    "    print('the value of x is equal to 500')"
   ]
  },
  {
   "cell_type": "code",
   "execution_count": 81,
   "metadata": {},
   "outputs": [
    {
     "name": "stdout",
     "output_type": "stream",
     "text": [
      "150\n",
      "18.75\n"
     ]
    }
   ],
   "source": [
    "# create a integer\n",
    "n = 150\n",
    "print(n)\n",
    "\n",
    "# If number is greater than 400, n is multiplied by 8, otherwise n is divided by 8\n",
    "result = n * 8 if n > 400 else n / 8\n",
    "print(result)"
   ]
  },
  {
   "cell_type": "markdown",
   "metadata": {},
   "source": [
    "Check whether the two numbers are equal or not"
   ]
  },
  {
   "cell_type": "code",
   "execution_count": 9,
   "metadata": {},
   "outputs": [
    {
     "name": "stdout",
     "output_type": "stream",
     "text": [
      "A & B are Equal\n"
     ]
    }
   ],
   "source": [
    "a = 3; b=3\n",
    "if (a == b):  ## indent is very important\n",
    "    print(\"A & B are Equal\")\n",
    "else:\n",
    "    print(\"A & B are not Equal\")"
   ]
  },
  {
   "cell_type": "code",
   "execution_count": 10,
   "metadata": {},
   "outputs": [
    {
     "name": "stdout",
     "output_type": "stream",
     "text": [
      "Enter your userid xyz\n",
      "Enter your password xyz123\n",
      "Successfully logged in!!\n"
     ]
    }
   ],
   "source": [
    "string1 = input(\"Enter your userid \")\n",
    "string2 = input(\"Enter your password \")\n",
    "\n",
    "if (string1 == \"xyz\" and string2 == \"xyz123\"):\n",
    "    print(\"Successfully logged in!!\")\n",
    "else :\n",
    "    print(\"Please check your userid and password\")"
   ]
  },
  {
   "cell_type": "markdown",
   "metadata": {},
   "source": [
    "<a id=\"if_elif_else\"> </a>\n",
    "## 1.3 if-elif-else\n",
    "<table align=\"left\">\n",
    "    <tr>\n",
    "        <td width=\"15%\">\n",
    "            <img src=\"note.png\">\n",
    "        </td>\n",
    "        <td>\n",
    "            <div align=\"left\", style=\"font-size:120%\">\n",
    "                <font color=\"#21618C\">\n",
    "                    <b>The elif is short for else-if. It checks for multiple expressions.<br>\n",
    "                    &nbsp;If the condition for 'if' is False, it checks the condition for the next elif statement.<br>\n",
    "                    &nbsp;If all the conditions are False, the else statement is executed.<br>\n",
    "                   The if statement can have only one else block. But it can have multiple elif blocks.<br>\n",
    "                    </b>\n",
    "                </font>\n",
    "            </div>\n",
    "        </td>\n",
    "    </tr>\n",
    "</table>"
   ]
  },
  {
   "cell_type": "markdown",
   "metadata": {},
   "source": [
    "**Syntax of if elif else:**<br>\n",
    "if x < y:<br>\n",
    "&nbsp;&nbsp;    STATEMENTS_A<br>\n",
    "elif x > y:<br>\n",
    "&nbsp;&nbsp    STATEMENTS_B<br>\n",
    "else:<br>\n",
    "&nbsp;&nbsp;    STATEMENTS_C"
   ]
  },
  {
   "cell_type": "markdown",
   "metadata": {},
   "source": [
    "**Here is the flow chart of if elif else:**\n",
    "            <img src=\"flowchart_if_elif.png\">\n"
   ]
  },
  {
   "cell_type": "markdown",
   "metadata": {},
   "source": [
    "Find the type of given variable"
   ]
  },
  {
   "cell_type": "code",
   "execution_count": 84,
   "metadata": {},
   "outputs": [
    {
     "name": "stdout",
     "output_type": "stream",
     "text": [
      "Type of the variable is Complex\n"
     ]
    }
   ],
   "source": [
    "var = 1+3j\n",
    "if (type(var) == int):\n",
    "    print(\"Type of the variable is Integer\")\n",
    "elif (type(var) == float):\n",
    "    print(\"Type of the variable is Float\")\n",
    "elif (type(var) == complex):\n",
    "    print(\"Type of the variable is Complex\")\n",
    "elif (type(var) == bool):\n",
    "    print(\"Type of the variable is Bool\")\n",
    "elif (type(var) == str):\n",
    "    print(\"Type of the variable is String\")\n",
    "elif (type(var) == tuple):\n",
    "    print(\"Type of the variable is Tuple\")\n",
    "elif (type(var) == dict):\n",
    "    print(\"Type of the variable is Dictionaries\")\n",
    "elif (type(var) == list):\n",
    "    print(\"Type of the variable is List\")\n",
    "else:\n",
    "    print(\"Type of the variable is Unknown\")"
   ]
  },
  {
   "cell_type": "markdown",
   "metadata": {},
   "source": [
    "Check whether the given number is greater than 50 or not"
   ]
  },
  {
   "cell_type": "code",
   "execution_count": 85,
   "metadata": {},
   "outputs": [
    {
     "name": "stdout",
     "output_type": "stream",
     "text": [
      "Number is greater than 50\n"
     ]
    }
   ],
   "source": [
    "num = 100\n",
    "if (num == 0):\n",
    "    print(\"Number is Zero\")\n",
    "elif (num > 5):\n",
    "    print(\"Number is greater than 50\")\n",
    "else:\n",
    "    print(\"Number is smaller than 50\")\n"
   ]
  },
  {
   "cell_type": "markdown",
   "metadata": {},
   "source": [
    "<a id=\"nested_if\"> </a>\n",
    "## 1.4 nested if and if else statement\n",
    "<table align=\"left\">\n",
    "    <tr>\n",
    "        <td width=\"15%\">\n",
    "            <img src=\"note.png\">\n",
    "        </td>\n",
    "        <td>\n",
    "            <div align=\"left\", style=\"font-size:120%\">\n",
    "                <font color=\"#21618C\">\n",
    "                <b>Nested statements are used to execute different piece of code when we have more than two options to handle.<br>\n",
    "                    <b>Nested statements mean that an if statement or if-else statement is present inside another if or if-else block.<br>\n",
    "                    </b>\n",
    "                </font>\n",
    "            </div>\n",
    "        </td>\n",
    "    </tr>\n",
    "</table>"
   ]
  },
  {
   "cell_type": "code",
   "execution_count": 86,
   "metadata": {},
   "outputs": [
    {
     "name": "stdout",
     "output_type": "stream",
     "text": [
      "Enter a number: 34\n",
      "Positive number\n"
     ]
    }
   ],
   "source": [
    "num = float(input(\"Enter a number: \"))\n",
    "if num >= 0:\n",
    "    if num == 0:\n",
    "        print(\"Zero\")\n",
    "    else:\n",
    "        print(\"Positive number\")\n",
    "else:\n",
    "    print(\"Negative number\")"
   ]
  },
  {
   "cell_type": "code",
   "execution_count": 12,
   "metadata": {},
   "outputs": [
    {
     "name": "stdout",
     "output_type": "stream",
     "text": [
      "Enter your score: 78\n",
      "B Grade\n"
     ]
    }
   ],
   "source": [
    "# nested if else in python\n",
    "\n",
    "score = int(input(\"Enter your score: \"))\n",
    "\n",
    "if(score <=100 and score >= 90): \n",
    "    print(\"distinction\")\n",
    "elif(score < 90 and score >= 80):\n",
    "    print(\"A Grade\")\n",
    "elif(score < 80 and score >= 70):\n",
    "    print(\"B Grade\")\n",
    "elif(score < 70 and score >= 60):\n",
    "    print(\"C Grade\")\n",
    "elif(score < 60 and score > 50):\n",
    "    print(\"D Grade\")\n",
    "elif(score == 50):\n",
    "    print(\"E Grade\")\n",
    "elif(score < 50 and score >= 0):\n",
    "    print(\"U Grade\")\n",
    "else:\n",
    "    print(\"Enter a valid score between 0 and 100\")"
   ]
  },
  {
   "cell_type": "markdown",
   "metadata": {},
   "source": [
    "<a id=\"forloop\"> </a>\n",
    "## 1.5 for loop\n",
    "<table align=\"left\">\n",
    "    <tr>\n",
    "        <td width=\"15%\">\n",
    "            <img src=\"note.png\">\n",
    "        </td>\n",
    "        <td>\n",
    "            <div align=\"left\", style=\"font-size:120%\">\n",
    "                <font color=\"#21618C\">\n",
    "                <b>The 'for' loop in python is used to execute a block of statements or code several times until the given condition becomes false.<br>\n",
    "                <b>It is used to iterate over a sequence (list, tuple, string) or other iterable objects.\n",
    "                    </b>\n",
    "                </font>\n",
    "            </div>\n",
    "        </td>\n",
    "    </tr>\n",
    "</table>"
   ]
  },
  {
   "cell_type": "markdown",
   "metadata": {},
   "source": [
    "**Syntax of for loop:**<br>\n",
    "for val in sequence:<br>\n",
    "&nbsp;&nbsp;\tBody of for"
   ]
  },
  {
   "cell_type": "markdown",
   "metadata": {},
   "source": [
    "**Here is the flow chart of for loop:**\n",
    "            <img src=\"forloop.jpg\">\n"
   ]
  },
  {
   "cell_type": "code",
   "execution_count": 88,
   "metadata": {},
   "outputs": [
    {
     "name": "stdout",
     "output_type": "stream",
     "text": [
      "The sum is 2068\n"
     ]
    }
   ],
   "source": [
    "# find the sum of all numbers in a given list\n",
    "\n",
    "# given list\n",
    "num_list = [66, 545, 223, 438, 224, 122, 125, 214, 111]\n",
    "\n",
    "# variable to store the sum\n",
    "total = 0\n",
    "\n",
    "# iterate over the list\n",
    "for val in num_list:\n",
    "    total = total+val\n",
    "\n",
    "# Output: The sum is 2068\n",
    "print(\"The sum is\", total)"
   ]
  },
  {
   "cell_type": "code",
   "execution_count": 89,
   "metadata": {},
   "outputs": [
    {
     "name": "stdout",
     "output_type": "stream",
     "text": [
      "0\n",
      "1\n",
      "2\n",
      "3\n",
      "4\n",
      "5\n"
     ]
    }
   ],
   "source": [
    "# Print the numbers 0,1,2,3,4,5\n",
    "for x in range(6):\n",
    "    print(x)"
   ]
  },
  {
   "cell_type": "code",
   "execution_count": 90,
   "metadata": {},
   "outputs": [
    {
     "name": "stdout",
     "output_type": "stream",
     "text": [
      "Sum = 1698\n",
      "Avg = 283.0\n"
     ]
    }
   ],
   "source": [
    "int_list = [134, 222, 113, 234, 375, 620]\n",
    "sum = 0\n",
    "for iter in int_list:\n",
    "    sum += iter\n",
    "\n",
    "print(\"Sum =\", sum)\n",
    "print(\"Avg =\", sum/len(int_list))"
   ]
  },
  {
   "cell_type": "markdown",
   "metadata": {},
   "source": [
    "<a id=\"whileloop\"> </a>\n",
    "## 1.6 while loop\n",
    "<table align=\"left\">\n",
    "    <tr>\n",
    "        <td width=\"15%\">\n",
    "            <img src=\"note.png\">\n",
    "        </td>\n",
    "        <td>\n",
    "            <div align=\"left\", style=\"font-size:120%\">\n",
    "                <font color=\"#21618C\">\n",
    "                <b>While loop executes the same procedure by checking a given condition until the condition is false<br> \n",
    "                The condition is given before the loop and is checked before each execution of the loop.<br> \n",
    "                    </b>\n",
    "                </font>\n",
    "            </div>\n",
    "        </td>\n",
    "    </tr>\n",
    "</table>"
   ]
  },
  {
   "cell_type": "markdown",
   "metadata": {},
   "source": [
    "**Syntax of for loop:**<br>\n",
    "while (expression):<br>\n",
    "&nbsp;&nbsp;     statement_1<br>\n",
    "&nbsp;&nbsp;     statement_2<br>\n",
    "    ...."
   ]
  },
  {
   "cell_type": "code",
   "execution_count": 91,
   "metadata": {},
   "outputs": [
    {
     "name": "stdout",
     "output_type": "stream",
     "text": [
      "0\n",
      "1\n",
      "2\n",
      "3\n",
      "4\n"
     ]
    }
   ],
   "source": [
    "# print the digit 0 to 4\n",
    "x = 0;\n",
    "while (x < 5):\n",
    "     print(x)\n",
    "     x += 1"
   ]
  },
  {
   "cell_type": "markdown",
   "metadata": {},
   "source": [
    "Calculate the sum of the integers from 0 to 9"
   ]
  },
  {
   "cell_type": "code",
   "execution_count": 92,
   "metadata": {},
   "outputs": [
    {
     "name": "stdout",
     "output_type": "stream",
     "text": [
      "The sum of first 9 integers :  45\n"
     ]
    }
   ],
   "source": [
    "a = 0;\n",
    "b = 0\n",
    "while (a < 10):\n",
    "     b = b + a\n",
    "     a = a + 1\n",
    "else :\n",
    "     print('The sum of first 9 integers : ',b)   "
   ]
  },
  {
   "cell_type": "code",
   "execution_count": 93,
   "metadata": {},
   "outputs": [
    {
     "name": "stdout",
     "output_type": "stream",
     "text": [
      "345\n",
      "Length is 3\n"
     ]
    }
   ],
   "source": [
    "# find the length of input\n",
    "n = int(input())\n",
    "length = 0\n",
    "while True:\n",
    "    length += 1\n",
    "    n //= 10\n",
    "    if n == 0:\n",
    "        break\n",
    "print('Length is', length)"
   ]
  },
  {
   "cell_type": "markdown",
   "metadata": {},
   "source": [
    "<a id=\"break_statement\"> </a>\n",
    "## 1.7 break statement\n",
    "<table align=\"left\">\n",
    "    <tr>\n",
    "        <td width=\"15%\">\n",
    "            <img src=\"note.png\">\n",
    "        </td>\n",
    "        <td>\n",
    "            <div align=\"left\", style=\"font-size:120%\">\n",
    "                <font color=\"#21618C\">\n",
    "                <b>The break statement is used to stop the loop when a particular condition is true.<br><br>\n",
    "                It is generally used inside a loop along with an if statement so that when a particular condition returns true, the break statement terminates the loop.<br>\n",
    "                    </b>\n",
    "                </font>\n",
    "            </div>\n",
    "        </td>\n",
    "    </tr>\n",
    "</table>"
   ]
  },
  {
   "cell_type": "code",
   "execution_count": 94,
   "metadata": {},
   "outputs": [
    {
     "name": "stdout",
     "output_type": "stream",
     "text": [
      "131\n",
      "92\n",
      "838\n",
      "The number 838 is found\n",
      "Terminating the loop\n"
     ]
    }
   ],
   "source": [
    "# display all the number before 838\n",
    "for num in [131, 92, 838, 120, 920, 233,321, 119]:\n",
    "   print(num)\n",
    "   if(num==838):\n",
    "        print(\"The number 838 is found\")\n",
    "        print(\"Terminating the loop\")\n",
    "        break"
   ]
  },
  {
   "cell_type": "markdown",
   "metadata": {},
   "source": [
    "Check whether a number given by the user is negative or not."
   ]
  },
  {
   "cell_type": "code",
   "execution_count": 95,
   "metadata": {},
   "outputs": [
    {
     "name": "stdout",
     "output_type": "stream",
     "text": [
      "56\n",
      "67\n",
      "-78\n",
      "Met a negative number -78\n"
     ]
    }
   ],
   "source": [
    "for i in range(5):\n",
    "    a = int(input())\n",
    "    if a < 0:\n",
    "        print('Met a negative number', a)\n",
    "        break\n",
    "else:\n",
    "    print('No negative numbers met')"
   ]
  },
  {
   "cell_type": "markdown",
   "metadata": {},
   "source": [
    "### <a id=\"continue_statement\"> </a>\n",
    "## 1.8 continue statement\n",
    "<table align=\"left\">\n",
    "    <tr>\n",
    "        <td width=\"15%\">\n",
    "            <img src=\"note.png\">\n",
    "        </td>\n",
    "        <td>\n",
    "            <div align=\"left\", style=\"font-size:120%\">\n",
    "                <font color=\"#21618C\">\n",
    "                <b>Continue is also a loop control statement similar to the break statement.<br><br>\n",
    "                But unlike the break statement, it executes the next iteration of the loop instead of terminating the loop.<br>\n",
    "                    </b>\n",
    "                </font>\n",
    "            </div>\n",
    "        </td>\n",
    "    </tr>\n",
    "</table>"
   ]
  },
  {
   "cell_type": "code",
   "execution_count": 96,
   "metadata": {},
   "outputs": [
    {
     "name": "stdout",
     "output_type": "stream",
     "text": [
      "Current character:  P\n",
      "Current character:  t\n",
      "Current character:  h\n",
      "Current character:  o\n",
      "Current character:  n\n"
     ]
    }
   ],
   "source": [
    "for char in 'Python':\n",
    "    if (char == 'y'):\n",
    "        continue\n",
    "    print('Current character: ', char)"
   ]
  },
  {
   "cell_type": "code",
   "execution_count": 97,
   "metadata": {},
   "outputs": [
    {
     "name": "stdout",
     "output_type": "stream",
     "text": [
      "1 2 3 4 5 7 8 9 10 "
     ]
    }
   ],
   "source": [
    "# loop from 1 to 10 \n",
    "for i in range(1, 11): \n",
    "    if i == 6: \n",
    "        continue\n",
    "    else: \n",
    "        # otherwise print the value of i \n",
    "        print(i, end = \" \") "
   ]
  },
  {
   "cell_type": "markdown",
   "metadata": {},
   "source": [
    "Use of continue statement in a while loop"
   ]
  },
  {
   "cell_type": "code",
   "execution_count": 98,
   "metadata": {},
   "outputs": [
    {
     "name": "stdout",
     "output_type": "stream",
     "text": [
      "1\n",
      "2\n",
      "4\n",
      "5\n",
      "6\n",
      "7\n",
      "8\n",
      "9\n"
     ]
    }
   ],
   "source": [
    "i = 0\n",
    "while i < 9:\n",
    "    i += 1\n",
    "    if i == 3:\n",
    "        continue\n",
    "    print(i)"
   ]
  },
  {
   "cell_type": "markdown",
   "metadata": {},
   "source": [
    "<a id=\"examples\"> </a>\n",
    "## 2. Examples of Conditional Statement and Loops"
   ]
  },
  {
   "cell_type": "markdown",
   "metadata": {},
   "source": [
    "<a id=\"if_statement\"> </a>\n",
    "## 2.1 if statement"
   ]
  },
  {
   "cell_type": "markdown",
   "metadata": {},
   "source": [
    "Now, we will see some examples on if statements"
   ]
  },
  {
   "cell_type": "markdown",
   "metadata": {},
   "source": [
    "**Check whether the number is smaller than 4738 or not**"
   ]
  },
  {
   "cell_type": "code",
   "execution_count": 1,
   "metadata": {},
   "outputs": [
    {
     "name": "stdout",
     "output_type": "stream",
     "text": [
      "number is smaller than 4738\n"
     ]
    }
   ],
   "source": [
    "# store a number\n",
    "Val = 3636\n",
    "# use if statement\n",
    "if(Val<4738):\n",
    "    print(\"number is smaller than 4738\")"
   ]
  },
  {
   "cell_type": "markdown",
   "metadata": {},
   "source": [
    "In the above example, we have declared a variable called ‘Val’ and assigned it the value 3636. Using the if statement we are checking whether the number is less than 4738 or not. If the condition is true then statements inside the 'if' block will be executed"
   ]
  },
  {
   "cell_type": "markdown",
   "metadata": {},
   "source": [
    "**Check whether the number is positive or not**"
   ]
  },
  {
   "cell_type": "code",
   "execution_count": 2,
   "metadata": {},
   "outputs": [
    {
     "name": "stdout",
     "output_type": "stream",
     "text": [
      "453 is a positive number\n"
     ]
    }
   ],
   "source": [
    "# store a number\n",
    "Val = 453\n",
    "# use if statement\n",
    "if Val > 0:\n",
    "    print(Val, \"is a positive number\")"
   ]
  },
  {
   "cell_type": "markdown",
   "metadata": {},
   "source": [
    "<a id=\"if_else\"> </a>\n",
    "## 2.2 if...else statement"
   ]
  },
  {
   "cell_type": "markdown",
   "metadata": {},
   "source": [
    "Let's see the implementation of the if…else statement with an example"
   ]
  },
  {
   "cell_type": "markdown",
   "metadata": {},
   "source": [
    "**Find out if the given number is non negative**"
   ]
  },
  {
   "cell_type": "code",
   "execution_count": 3,
   "metadata": {},
   "outputs": [
    {
     "name": "stdout",
     "output_type": "stream",
     "text": [
      "The number is negative\n"
     ]
    }
   ],
   "source": [
    "# store a number\n",
    "a = -5\n",
    "# use if else statement\n",
    "if a >= 0:\n",
    "    print(\"The number is zero or positive\")\n",
    "else:\n",
    "    print(\"The number is negative\")"
   ]
  },
  {
   "cell_type": "markdown",
   "metadata": {},
   "source": [
    "**Check whether the number is even or odd**"
   ]
  },
  {
   "cell_type": "code",
   "execution_count": 4,
   "metadata": {},
   "outputs": [
    {
     "name": "stdout",
     "output_type": "stream",
     "text": [
      "The number is even\n"
     ]
    }
   ],
   "source": [
    "# store a number\n",
    "num = 22\n",
    "# use if else statement\n",
    "if num % 2 == 0:\n",
    "    print(\"The number is even\")\n",
    "else:\n",
    "    print(\"The number is odd\")"
   ]
  },
  {
   "cell_type": "markdown",
   "metadata": {},
   "source": [
    "<a id=\"if_elif_else\"> </a>\n",
    "## 2.3 nested conditions"
   ]
  },
  {
   "cell_type": "markdown",
   "metadata": {},
   "source": [
    "**Let’s check whether the given number is odd as well as greater than 20**"
   ]
  },
  {
   "cell_type": "code",
   "execution_count": 5,
   "metadata": {},
   "outputs": [
    {
     "name": "stdout",
     "output_type": "stream",
     "text": [
      "This number is odd and is greater than 20\n"
     ]
    }
   ],
   "source": [
    "# store a number\n",
    "x = 45\n",
    "# use if else in if else (nested condition)\n",
    "if x%2 != 0:\n",
    "    if x > 20:\n",
    "        print(\"This number is odd and is greater than 20\")\n",
    "    else:\n",
    "        print(\"This is number is odd but not greater than 20\")\n",
    "else:\n",
    "    print(\"This number is even\")"
   ]
  },
  {
   "cell_type": "markdown",
   "metadata": {},
   "source": [
    "**Create a simple calculator using if elif condition**"
   ]
  },
  {
   "cell_type": "code",
   "execution_count": 6,
   "metadata": {},
   "outputs": [
    {
     "name": "stdout",
     "output_type": "stream",
     "text": [
      "Enter first number: 34\n",
      "Enter operator: -\n",
      "Enter second number: 43\n",
      "-9.0\n"
     ]
    }
   ],
   "source": [
    "# enter the first input\n",
    "Value1 = float(input(\"Enter first number: \"))\n",
    "# enter the operator\n",
    "op = input(\"Enter operator: \")\n",
    "# enter the second input\n",
    "Value2 = float(input(\"Enter second number: \"))\n",
    "# create a calculator using if elif condition\n",
    "if op == '+':\n",
    "    print(Value1 + Value2)\n",
    "elif op == '-':\n",
    "    print(Value1 - Value2)\n",
    "elif op == '/':\n",
    "    print(Value1 / Value2)\n",
    "elif op == '*':\n",
    "    print(Value1 * Value2)\n",
    "else:\n",
    "    print(\"Invalid Operator\")"
   ]
  },
  {
   "cell_type": "markdown",
   "metadata": {},
   "source": [
    "**Example of nested if else statement**"
   ]
  },
  {
   "cell_type": "code",
   "execution_count": 7,
   "metadata": {},
   "outputs": [
    {
     "name": "stdout",
     "output_type": "stream",
     "text": [
      " Enter your age here:  23\n",
      " You are eligible for the application \n",
      " Please fill in the required details and apply \n"
     ]
    }
   ],
   "source": [
    "# enter the input\n",
    "person_age = int(input(\" Enter your age here:  \"))\n",
    "# use nested if else statement\n",
    "if person_age < 18:\n",
    "    print(\" You are underaged \") \n",
    "else:\n",
    "    if person_age >= 18 and person_age <= 60:\n",
    "        print(\" You are eligible for the application \")\n",
    "        print(\" Please fill in the required details and apply \")\n",
    "    else:\n",
    "        print(\" You are not eligible as per the rule\")"
   ]
  },
  {
   "cell_type": "markdown",
   "metadata": {},
   "source": [
    "In this program, when you enter your age it gets stored in the variable 'person_age'. If the entered age is less than 18, result for that condition gets printed (\"You are underaged\"). If the age is above 18 which implies condition is not true, one more condition is checked (Nested inside outer if block) and if it is true,result for that condition is printed (\"You are eligible for the application\" and statements after that in nested-if block). If the nested condition is not true, the other statement is printed (\"You are not eligible as per the rule\" and statements after that in nested-else block)."
   ]
  },
  {
   "cell_type": "markdown",
   "metadata": {},
   "source": [
    "**Program to display the grade of the student**"
   ]
  },
  {
   "cell_type": "code",
   "execution_count": 8,
   "metadata": {},
   "outputs": [
    {
     "name": "stdout",
     "output_type": "stream",
     "text": [
      " Enter Your Marks Here:  78\n",
      "C grade\n"
     ]
    }
   ],
   "source": [
    "# enter the input\n",
    "Marks = int(input(\" Enter Your Marks Here:  \"))\n",
    "# use if elif else\n",
    "if Marks >= 90:\n",
    "    print(\"A grade\")\n",
    "\n",
    "elif Marks >=80:\n",
    "    print(\"B grade\")\n",
    "\n",
    "elif Marks >=70:\n",
    "    print(\"C grade\")\n",
    "\n",
    "elif Marks >= 65:\n",
    "    print(\"D grade\")\n",
    "\n",
    "else:\n",
    "    print(\"F grade\")"
   ]
  },
  {
   "cell_type": "markdown",
   "metadata": {},
   "source": [
    "Now, there are five possible outputs that can occur once we run the program:<br>\n",
    "1. If the marks are greater than 90, the program will print A grade, if the marks are less than 90, the execution will jump to the next statement<br>\n",
    "2. If the marks are greater than or equal to 80, the program will print B grade, if the marks are less than or equal to 79, the execution will jump to the next statement<br>\n",
    "3. If the marks are greater than or equal to 70, the program will print C grade, if the marks are less than or equal to 69, the execution will jump to the next statement<br>\n",
    "4. If the marks are greater than or equal to 65, the program will print D grade, if the marks are less than or equal to 64, the execution will jump to the next statement<br>\n",
    "5. In case all the above conditions were false the program will print F grade "
   ]
  },
  {
   "cell_type": "markdown",
   "metadata": {
    "collapsed": true
   },
   "source": [
    "**Enter the Selling Price and calculate discount based on the range of Selling Price.The discount rate is:<br> \n",
    "5% if Selling Price is atmost 5000<br>\n",
    "12% if Selling Price is atmost 15000<br>\n",
    "20% if Selling Price is atmost 25000<br>\n",
    "30% if Selling Price is more than 25000<br>**"
   ]
  },
  {
   "cell_type": "code",
   "execution_count": 9,
   "metadata": {},
   "outputs": [
    {
     "name": "stdout",
     "output_type": "stream",
     "text": [
      "Enter Selling Price: 45000\n",
      "Discount :  13500.0\n",
      "Final Amount Due  :  31500.0\n"
     ]
    }
   ],
   "source": [
    "# enter the input\n",
    "amt = int(input(\"Enter Selling Price: \"))\n",
    "# checking conditions and calculating discount\n",
    "if(amt>0):\n",
    "    if amt<=5000:\n",
    "        disc = amt*0.05\n",
    "    elif amt<=15000:\n",
    "        disc=amt*0.12\n",
    "    elif amt<=25000:\n",
    "        disc=0.2 * amt\n",
    "    else:\n",
    "         disc=0.3 * amt\n",
    "    print(\"Discount : \",disc)\n",
    "    print(\"Final Amount Due  : \",amt-disc)\n",
    "else:\n",
    "    print(\"Invalid Amount\")\n"
   ]
  },
  {
   "cell_type": "markdown",
   "metadata": {},
   "source": [
    "**Find largest number among three numbers**"
   ]
  },
  {
   "cell_type": "code",
   "execution_count": 10,
   "metadata": {},
   "outputs": [
    {
     "name": "stdout",
     "output_type": "stream",
     "text": [
      "Enter first number: 12\n",
      "Enter second number: 23\n",
      "Enter third number: 45\n",
      "The largest number is 45.0\n"
     ]
    }
   ],
   "source": [
    "# enter the first input\n",
    "num1 = float(input(\"Enter first number: \"))\n",
    "# enter the second input\n",
    "num2 = float(input(\"Enter second number: \"))\n",
    "# enter the third input\n",
    "num3 = float(input(\"Enter third number: \"))\n",
    "# use if elif else statement \n",
    "if (num1 > num2) and (num1 > num3):\n",
    "    largest = num1\n",
    "    print(\"The largest number is\",largest)\n",
    "elif (num2 > num1) and (num2 > num3):\n",
    "    largest = num2\n",
    "    print(\"The largest number is\",largest)\n",
    "else:\n",
    "    largest = num3\n",
    "    print(\"The largest number is\",largest)\n"
   ]
  },
  {
   "cell_type": "markdown",
   "metadata": {},
   "source": [
    "**Find the sum of natural numbers up to n**"
   ]
  },
  {
   "cell_type": "code",
   "execution_count": 11,
   "metadata": {},
   "outputs": [
    {
     "name": "stdout",
     "output_type": "stream",
     "text": [
      "The sum is 136\n"
     ]
    }
   ],
   "source": [
    "# sum of natural numbers\n",
    "num = 16\n",
    "# use while loop along with if else\n",
    "if num < 0:\n",
    "    print(\"Enter a positive number\")\n",
    "else:\n",
    "    sum = 0\n",
    "    while(num > 0):\n",
    "        sum += num\n",
    "        num -= 1\n",
    "    print(\"The sum is\",sum)"
   ]
  },
  {
   "cell_type": "markdown",
   "metadata": {},
   "source": [
    "<a id=\"for_and_nested\"> </a>\n",
    "## 2.4 for loop and nested for loop"
   ]
  },
  {
   "cell_type": "markdown",
   "metadata": {},
   "source": [
    "**Calculate the square of each element in the list**"
   ]
  },
  {
   "cell_type": "code",
   "execution_count": 12,
   "metadata": {},
   "outputs": [
    {
     "name": "stdout",
     "output_type": "stream",
     "text": [
      "1\n",
      "9\n",
      "169\n",
      "8281\n",
      "10000\n",
      "40000\n"
     ]
    }
   ],
   "source": [
    "# create a list\n",
    "list_1 = [1,3,13,91,100,200]\n",
    "# use for loop to iterate over a list\n",
    "for i in list_1:\n",
    "    print(i*i)"
   ]
  },
  {
   "cell_type": "markdown",
   "metadata": {},
   "source": [
    "**Write a code to print table of given number**"
   ]
  },
  {
   "cell_type": "code",
   "execution_count": 13,
   "metadata": {},
   "outputs": [
    {
     "name": "stdout",
     "output_type": "stream",
     "text": [
      "4\n",
      "4 x 1 = 4\n",
      "4 x 2 = 8\n",
      "4 x 3 = 12\n",
      "4 x 4 = 16\n",
      "4 x 5 = 20\n",
      "4 x 6 = 24\n",
      "4 x 7 = 28\n",
      "4 x 8 = 32\n",
      "4 x 9 = 36\n",
      "4 x 10 = 40\n"
     ]
    }
   ],
   "source": [
    "# enter the input\n",
    "n=int(input())\n",
    "# use for loop to create a table\n",
    "for i in range(1,11):\n",
    "    print(n,\"x\",i,\"=\",n*i)"
   ]
  },
  {
   "cell_type": "markdown",
   "metadata": {},
   "source": [
    "**Let’ see now how to print full pyramid and asterisk(star) patterns in python**"
   ]
  },
  {
   "cell_type": "code",
   "execution_count": 14,
   "metadata": {},
   "outputs": [
    {
     "name": "stdout",
     "output_type": "stream",
     "text": [
      "Print full triangle using stars\n",
      "        *   \n",
      "       *  *   \n",
      "      *  *  *   \n",
      "     *  *  *  *   \n",
      "    *  *  *  *  *   \n"
     ]
    }
   ],
   "source": [
    "print(\"Print full triangle using stars\")\n",
    "size = 5\n",
    "m = (2 * size) - 2\n",
    "for i in range(0, size):\n",
    "    for j in range(0, m):\n",
    "        print(end=\" \")\n",
    "    m = m - 1 # decrementing m after each loop\n",
    "    for j in range(0, i + 1): \n",
    "        # printing full Triangle pyramid using stars\n",
    "        print(\"* \", end=' ')\n",
    "    print(\" \")"
   ]
  },
  {
   "cell_type": "markdown",
   "metadata": {},
   "source": [
    "**Form a lower tringular matrix in ' * ' pattern**"
   ]
  },
  {
   "cell_type": "code",
   "execution_count": 15,
   "metadata": {},
   "outputs": [
    {
     "name": "stdout",
     "output_type": "stream",
     "text": [
      "* \n",
      "* * \n",
      "* * * \n",
      "* * * * \n",
      "* * * * * \n"
     ]
    }
   ],
   "source": [
    "for i in range(0, 5):\n",
    "    for j in range(0, i+1):\n",
    "        print(\"* \",end=\"\")\n",
    "    print()"
   ]
  },
  {
   "cell_type": "markdown",
   "metadata": {},
   "source": [
    "**Write a program to print alphabetical pattern using ascii values**"
   ]
  },
  {
   "cell_type": "code",
   "execution_count": 16,
   "metadata": {},
   "outputs": [
    {
     "name": "stdout",
     "output_type": "stream",
     "text": [
      "A\n",
      "AB\n",
      "ABC\n",
      "ABCD\n",
      "ABCDE\n"
     ]
    }
   ],
   "source": [
    "for i in range (65,70):\n",
    "    # inner loop\n",
    "    for j in range(65,i+1):\n",
    "        print(chr(j),end=\"\")\n",
    "    print()"
   ]
  },
  {
   "cell_type": "markdown",
   "metadata": {},
   "source": [
    "**Access each individual item of the sublists using nested for loop**"
   ]
  },
  {
   "cell_type": "code",
   "execution_count": 17,
   "metadata": {},
   "outputs": [
    {
     "name": "stdout",
     "output_type": "stream",
     "text": [
      "Pune\n",
      "Mumbai\n",
      "Delhi\n",
      "23\n",
      "12\n",
      "32\n",
      "9.29\n",
      "8.28\n",
      "7.27\n"
     ]
    }
   ],
   "source": [
    "list_of_lists = [['Pune', 'Mumbai', 'Delhi'],[23, 12, 32],[9.29, 8.28, 7.27]]\n",
    "\n",
    "for list in list_of_lists:\n",
    "    for item in list:\n",
    "        print(item)"
   ]
  },
  {
   "cell_type": "markdown",
   "metadata": {},
   "source": [
    "**Read a number n and print an identity matrix of the same order**"
   ]
  },
  {
   "cell_type": "code",
   "execution_count": 18,
   "metadata": {},
   "outputs": [
    {
     "name": "stdout",
     "output_type": "stream",
     "text": [
      "Enter a number: 3\n",
      "1 0 0 \n",
      "0 1 0 \n",
      "0 0 1 \n"
     ]
    }
   ],
   "source": [
    "# identity matrix\n",
    "n=int(input(\"Enter a number: \"))\n",
    "for i in range(0,n):\n",
    "    for j in range(0,n):\n",
    "        if(i==j):\n",
    "            print(\"1\",sep=\" \",end=\" \")\n",
    "        else:\n",
    "            print(\"0\",sep=\" \",end=\" \")\n",
    "    print()"
   ]
  },
  {
   "cell_type": "markdown",
   "metadata": {},
   "source": [
    "**Access each individual letter from the given list of words**"
   ]
  },
  {
   "cell_type": "code",
   "execution_count": 19,
   "metadata": {},
   "outputs": [
    {
     "name": "stdout",
     "output_type": "stream",
     "text": [
      "The following lines will print each letters of Apple\n",
      "A\n",
      "p\n",
      "p\n",
      "l\n",
      "e\n",
      "\n",
      "The following lines will print each letters of Banana\n",
      "B\n",
      "a\n",
      "n\n",
      "a\n",
      "n\n",
      "a\n",
      "\n",
      "The following lines will print each letters of Car\n",
      "C\n",
      "a\n",
      "r\n",
      "\n",
      "The following lines will print each letters of Dolphin\n",
      "D\n",
      "o\n",
      "l\n",
      "p\n",
      "h\n",
      "i\n",
      "n\n",
      "\n"
     ]
    }
   ],
   "source": [
    "words= [\"Apple\", \"Banana\", \"Car\", \"Dolphin\" ]\n",
    "for word in words:\n",
    "        #access word from the list\n",
    "        print (\"The following lines will print each letters of \"+word)\n",
    "        for letter in word:\n",
    "                #access letter for the word\n",
    "                print (letter)\n",
    "        print(\"\")"
   ]
  },
  {
   "cell_type": "markdown",
   "metadata": {},
   "source": [
    "**Print a number pattern using a for loop and range function**"
   ]
  },
  {
   "cell_type": "code",
   "execution_count": 20,
   "metadata": {},
   "outputs": [
    {
     "name": "stdout",
     "output_type": "stream",
     "text": [
      "\n",
      "\n",
      "1 \n",
      "\n",
      "2 2 \n",
      "\n",
      "3 3 3 \n",
      "\n",
      "4 4 4 4 \n",
      "\n",
      "5 5 5 5 5 \n",
      "\n",
      "6 6 6 6 6 6 \n",
      "\n",
      "7 7 7 7 7 7 7 \n",
      "\n",
      "8 8 8 8 8 8 8 8 \n",
      "\n",
      "9 9 9 9 9 9 9 9 9 \n",
      "\n",
      "10 10 10 10 10 10 10 10 10 10 \n",
      "\n",
      "11 11 11 11 11 11 11 11 11 11 11 \n",
      "\n",
      "12 12 12 12 12 12 12 12 12 12 12 12 \n",
      "\n",
      "13 13 13 13 13 13 13 13 13 13 13 13 13 \n",
      "\n",
      "14 14 14 14 14 14 14 14 14 14 14 14 14 14 \n",
      "\n"
     ]
    }
   ],
   "source": [
    "# 15 is the total number to print\n",
    "for num in range(15):\n",
    "    for i in range(num):\n",
    "        print (num, end=\" \") #print number\n",
    "    # new line after each row to display pattern correctly\n",
    "    print(\"\\n\")"
   ]
  },
  {
   "cell_type": "markdown",
   "metadata": {},
   "source": [
    "**Find the first 3-digit number that’s divisible by 12**"
   ]
  },
  {
   "cell_type": "code",
   "execution_count": 21,
   "metadata": {},
   "outputs": [
    {
     "name": "stdout",
     "output_type": "stream",
     "text": [
      "108\n"
     ]
    }
   ],
   "source": [
    "for i in range(0, 1000, 12):\n",
    "    if len(str(i)) == 3:\n",
    "        print(i)\n",
    "        break"
   ]
  },
  {
   "cell_type": "markdown",
   "metadata": {},
   "source": [
    "**Display all the odd numbers in a given list.Make use of 'continue'  statement**"
   ]
  },
  {
   "cell_type": "code",
   "execution_count": 22,
   "metadata": {},
   "outputs": [
    {
     "name": "stdout",
     "output_type": "stream",
     "text": [
      "211\n",
      "829\n"
     ]
    }
   ],
   "source": [
    "for num in [230, 211, 932, 626, 234, 829, 424]:\n",
    "    if num%2 == 0:\n",
    "        continue\n",
    "    print(num)"
   ]
  },
  {
   "cell_type": "markdown",
   "metadata": {},
   "source": [
    "<a id=\"while_loop\"> </a>\n",
    "## 2.5 while loop"
   ]
  },
  {
   "cell_type": "code",
   "execution_count": 23,
   "metadata": {},
   "outputs": [
    {
     "name": "stdout",
     "output_type": "stream",
     "text": [
      "6\n",
      "5\n",
      "4\n",
      "3\n"
     ]
    }
   ],
   "source": [
    "# while loop with if else\n",
    "a = 7\n",
    "while a > 0:\n",
    "    a = a - 1\n",
    "    if a == 2:\n",
    "        break\n",
    "    print(a)\n",
    "else:\n",
    "    print(\"Loop is finished\")"
   ]
  },
  {
   "cell_type": "code",
   "execution_count": 24,
   "metadata": {},
   "outputs": [
    {
     "name": "stdout",
     "output_type": "stream",
     "text": [
      "1\n",
      "2\n",
      "3\n"
     ]
    }
   ],
   "source": [
    "# break in while\n",
    "i = 1\n",
    "while i < 6:\n",
    "  print(i)\n",
    "  if i == 3:\n",
    "    break\n",
    "  i += 1"
   ]
  },
  {
   "cell_type": "code",
   "execution_count": 25,
   "metadata": {},
   "outputs": [
    {
     "name": "stdout",
     "output_type": "stream",
     "text": [
      "Please enter 'hello':hello\n"
     ]
    }
   ],
   "source": [
    "# break in while loop\n",
    "while True:\n",
    "    n = input(\"Please enter 'hello':\")\n",
    "    if n.strip() == 'hello':\n",
    "        break"
   ]
  },
  {
   "cell_type": "code",
   "execution_count": 26,
   "metadata": {},
   "outputs": [
    {
     "name": "stdout",
     "output_type": "stream",
     "text": [
      "Sum of first 4 integers is: 6\n"
     ]
    }
   ],
   "source": [
    "# break in while loop\n",
    "num_sum = 0\n",
    "count = 0\n",
    "while(count<10):\n",
    "    num_sum = num_sum + count\n",
    "    count = count + 1 \n",
    "    if count== 4:\n",
    "        break\n",
    "print(\"Sum of first\",count,\"integers is:\", num_sum)"
   ]
  },
  {
   "cell_type": "code",
   "execution_count": 27,
   "metadata": {},
   "outputs": [
    {
     "name": "stdout",
     "output_type": "stream",
     "text": [
      "1\n",
      "2\n",
      "3\n",
      "5\n",
      "6\n",
      "7\n"
     ]
    }
   ],
   "source": [
    "# continue in while loop\n",
    "i = 0\n",
    "while i < 7:\n",
    "  i += 1\n",
    "  if i == 4:\n",
    "    continue\n",
    "  print(i)"
   ]
  },
  {
   "cell_type": "code",
   "execution_count": 28,
   "metadata": {},
   "outputs": [
    {
     "name": "stdout",
     "output_type": "stream",
     "text": [
      "0\n",
      "1\n",
      "2\n",
      "4\n",
      "5\n"
     ]
    }
   ],
   "source": [
    "# continue in while loop\n",
    "for x in range(7):\n",
    "    if (x == 3 or x==6):\n",
    "        continue\n",
    "    print(x)"
   ]
  },
  {
   "cell_type": "markdown",
   "metadata": {},
   "source": [
    "<a id=\"List_Comprehensions\"> </a>\n",
    "## 3. What are List Comprehensions?"
   ]
  },
  {
   "cell_type": "markdown",
   "metadata": {},
   "source": [
    "<table align=\"left\">\n",
    "    <tr>\n",
    "        <td width=\"15%\">\n",
    "            <img src=\"note.png\">\n",
    "        </td>\n",
    "        <td>\n",
    "            <div align=\"left\", style=\"font-size:120%\">\n",
    "                <font color=\"#21618C\">\n",
    "                    <b>List comprehensions are used to create a new list from an existing iterable. While creating the new list, elements from the iterable can be selectively included in the new list (based on conditions) and transformed as required.<br>\n",
    "                        <br>Following are the three Components of list comprehensions:<br>\n",
    "                        . Iterable<br>\n",
    "                        . Output expression<br>\n",
    "                        . Iterator variable which takes the values of the members of the iterable\n",
    "                        \n",
    "                        <img src=\"list.png\", height=\"400\", width=\"400\">\n",
    "                    </b>\n",
    "                </font>\n",
    "            </div>\n",
    "        </td>\n",
    "    </tr>\n",
    "</table>"
   ]
  },
  {
   "cell_type": "markdown",
   "metadata": {},
   "source": [
    "**In python, list comprehensions are constructed as follows:**<br>\n",
    "    \n",
    "    list = [x for x in iterable]"
   ]
  },
  {
   "cell_type": "markdown",
   "metadata": {},
   "source": [
    "<a id=\"List_Comprehensions_loops\"> </a>\n",
    "## List Comprehensions vs loops"
   ]
  },
  {
   "cell_type": "markdown",
   "metadata": {},
   "source": [
    "<a id=\"for_loop_list\"> </a>\n",
    "### 3.1. for loop"
   ]
  },
  {
   "cell_type": "markdown",
   "metadata": {},
   "source": [
    "Let’s create a new list using a given string:<br>\n",
    "Suppose, you want to separate each element of the string 'Great Lakes' and make a list out of them. The immediate approach would be to make use of for loop<br>"
   ]
  },
  {
   "cell_type": "code",
   "execution_count": 29,
   "metadata": {},
   "outputs": [
    {
     "data": {
      "text/plain": [
       "['G', 'r', 'e', 'a', 't', ' ', 'L', 'a', 'k', 'e', 's']"
      ]
     },
     "execution_count": 29,
     "metadata": {},
     "output_type": "execute_result"
    }
   ],
   "source": [
    "# Using loop for constructing output list \n",
    "letter_list=[]\n",
    "for i in 'Great Lakes':\n",
    "    letter_list.append(i)\n",
    "letter_list"
   ]
  },
  {
   "cell_type": "raw",
   "metadata": {},
   "source": [
    "Here, the output is encapsulated within square brackets that means it is a list. letter_list.append(i) is the function used to add 'i' ( obtained from new iteration ) to the array from previous iteration executed. 'i' takes values of letters from the string 'Great Lakes'.But with a python list comprehension, we can do this in one line"
   ]
  },
  {
   "cell_type": "markdown",
   "metadata": {},
   "source": [
    "<table align=\"left\">\n",
    "    <tr>\n",
    "        <td width=\"7%\">\n",
    "            <img src=\"caution.png\">\n",
    "        </td>\n",
    "        <td>\n",
    "            <div align=\"left\", style=\"font-size:120%\">\n",
    "                <font color=\"#21618C\">\n",
    "                    <b>Remember that a python string is iterable. We can not iterate dictionary like this. Iterating through a dictionary gives us error since dictionary objects do not have the attribute 'append'\n",
    "                    </b>\n",
    "                </font>\n",
    "            </div>\n",
    "        </td>\n",
    "    </tr>\n",
    "</table>"
   ]
  },
  {
   "cell_type": "code",
   "execution_count": 30,
   "metadata": {
    "scrolled": true
   },
   "outputs": [
    {
     "ename": "AttributeError",
     "evalue": "'dict' object has no attribute 'append'",
     "output_type": "error",
     "traceback": [
      "\u001b[1;31m---------------------------------------------------------------------------\u001b[0m",
      "\u001b[1;31mAttributeError\u001b[0m                            Traceback (most recent call last)",
      "\u001b[1;32m<ipython-input-30-b59cbb569058>\u001b[0m in \u001b[0;36m<module>\u001b[1;34m()\u001b[0m\n\u001b[0;32m      2\u001b[0m \u001b[0mdict_1\u001b[0m\u001b[1;33m=\u001b[0m\u001b[1;33m{\u001b[0m\u001b[1;33m}\u001b[0m\u001b[1;33m\u001b[0m\u001b[1;33m\u001b[0m\u001b[0m\n\u001b[0;32m      3\u001b[0m \u001b[1;32mfor\u001b[0m \u001b[0mi\u001b[0m \u001b[1;32min\u001b[0m \u001b[1;34m'Great Lakes'\u001b[0m\u001b[1;33m:\u001b[0m\u001b[1;33m\u001b[0m\u001b[1;33m\u001b[0m\u001b[0m\n\u001b[1;32m----> 4\u001b[1;33m     \u001b[0mdict_1\u001b[0m\u001b[1;33m.\u001b[0m\u001b[0mappend\u001b[0m\u001b[1;33m(\u001b[0m\u001b[0mi\u001b[0m\u001b[1;33m)\u001b[0m\u001b[1;33m\u001b[0m\u001b[1;33m\u001b[0m\u001b[0m\n\u001b[0m\u001b[0;32m      5\u001b[0m \u001b[0mdict_1\u001b[0m\u001b[1;33m\u001b[0m\u001b[1;33m\u001b[0m\u001b[0m\n",
      "\u001b[1;31mAttributeError\u001b[0m: 'dict' object has no attribute 'append'"
     ]
    }
   ],
   "source": [
    "# Using loop for constructing output dictionary\n",
    "dict_1={}\n",
    "for i in 'Great Lakes':\n",
    "    dict_1.append(i)\n",
    "dict_1"
   ]
  },
  {
   "cell_type": "code",
   "execution_count": 31,
   "metadata": {},
   "outputs": [
    {
     "name": "stdout",
     "output_type": "stream",
     "text": [
      "['G', 'r', 'e', 'a', 't', ' ', 'L', 'a', 'k', 'e', 's']\n"
     ]
    }
   ],
   "source": [
    "# using list comprehensions\n",
    "new_list = [i for i in 'Great Lakes']\n",
    "print(new_list)"
   ]
  },
  {
   "cell_type": "markdown",
   "metadata": {},
   "source": [
    "From the output we can see, a new list is created and assigned to the 'new_list' variable, and list contains the items of the iterable string 'Great Lakes'. We use print() function to print the output"
   ]
  },
  {
   "cell_type": "markdown",
   "metadata": {},
   "source": [
    "**Find the squares of each element using list comprehension**"
   ]
  },
  {
   "cell_type": "code",
   "execution_count": 32,
   "metadata": {},
   "outputs": [
    {
     "name": "stdout",
     "output_type": "stream",
     "text": [
      "[169, 1024, 1089, 576]\n"
     ]
    }
   ],
   "source": [
    "num = [13, 32, 33, 24]\n",
    "num_squares = [n**2 for n in num]\n",
    "\n",
    "print(num_squares)"
   ]
  },
  {
   "cell_type": "markdown",
   "metadata": {
    "collapsed": true
   },
   "source": [
    "Here, the output is encapsulated within square brackets that means it is a list. n**2 is the expression executed for each n. 'n' takes values of elements in 'num'  "
   ]
  },
  {
   "cell_type": "markdown",
   "metadata": {},
   "source": [
    "**We can use list comprehension to iterate over list of strings. Convert all the words in the given list to the upper case**    "
   ]
  },
  {
   "cell_type": "code",
   "execution_count": 33,
   "metadata": {},
   "outputs": [
    {
     "name": "stdout",
     "output_type": "stream",
     "text": [
      "['YES', \"IT'S\", 'A', 'BEAUTIFUL', 'DAY']\n"
     ]
    }
   ],
   "source": [
    "list_1 = [\"yes\", \"it's\", \"a\", \"Beautiful\", \"Day\"]\n",
    "\n",
    "upper_list_1 = [str.upper() for str in list_1]\n",
    "\n",
    "print(upper_list_1)"
   ]
  },
  {
   "cell_type": "markdown",
   "metadata": {},
   "source": [
    "**List comprehensions can be used to produce a list of a lists, as shown below:**"
   ]
  },
  {
   "cell_type": "code",
   "execution_count": 34,
   "metadata": {},
   "outputs": [
    {
     "name": "stdout",
     "output_type": "stream",
     "text": [
      "[[121, 1331], [144, 1728], [169, 2197], [196, 2744]]\n"
     ]
    }
   ],
   "source": [
    "list_1 = [11, 12, 13, 14]\n",
    "\n",
    "square_cube_num = [ [a**2, a**3] for a in list_1]\n",
    "\n",
    "print(square_cube_num)"
   ]
  },
  {
   "cell_type": "markdown",
   "metadata": {},
   "source": [
    "Here we use list_1 to create square_cube_num, which is a list of lists that comprises of values of squares and cubes of the numbers from list_1"
   ]
  },
  {
   "cell_type": "markdown",
   "metadata": {},
   "source": [
    "<a id=\"nested_for_loop_list\"> </a>\n",
    "### 3.2 nested for loop"
   ]
  },
  {
   "cell_type": "markdown",
   "metadata": {},
   "source": [
    "**Print the tables of numbers from 13 to 17**"
   ]
  },
  {
   "cell_type": "code",
   "execution_count": 35,
   "metadata": {},
   "outputs": [
    {
     "data": {
      "text/plain": [
       "[[13, 26, 39, 52, 65, 78, 91, 104, 117, 130],\n",
       " [14, 28, 42, 56, 70, 84, 98, 112, 126, 140],\n",
       " [15, 30, 45, 60, 75, 90, 105, 120, 135, 150],\n",
       " [16, 32, 48, 64, 80, 96, 112, 128, 144, 160],\n",
       " [17, 34, 51, 68, 85, 102, 119, 136, 153, 170]]"
      ]
     },
     "execution_count": 35,
     "metadata": {},
     "output_type": "execute_result"
    }
   ],
   "source": [
    "[[i*j for j in range(1,11)] for i in range(13,18)]"
   ]
  },
  {
   "cell_type": "markdown",
   "metadata": {},
   "source": [
    "**Create a list of tuples with a and b such that a is less than b**"
   ]
  },
  {
   "cell_type": "code",
   "execution_count": 36,
   "metadata": {},
   "outputs": [
    {
     "name": "stdout",
     "output_type": "stream",
     "text": [
      "[(13, 25), (13, 37), (13, 35), (27, 37), (27, 35)]\n"
     ]
    }
   ],
   "source": [
    "list_1 = [13, 72, 27, 83, 89, 54]\n",
    "list_2 = [25, 37, 35]\n",
    "\n",
    "new_list = [(a, b) for a in list_1 for b in list_2 if a < b]\n",
    "\n",
    "print(new_list)"
   ]
  },
  {
   "cell_type": "markdown",
   "metadata": {},
   "source": [
    "### Conditional list comprehension\n",
    "New lists can be created by 'list comprehensions' that selectively modify existing squential data types like lists. For this conditional statements can be used.<br>\n",
    "'Conditional list comprehension' adds only those items to the list that meet the condition (for which the condition is True)."
   ]
  },
  {
   "cell_type": "markdown",
   "metadata": {},
   "source": [
    "**if statement**                        <img src=\"condition.png\", height=\"550\", width=\"550\">"
   ]
  },
  {
   "cell_type": "markdown",
   "metadata": {},
   "source": [
    "**if-else statement**                        <img src=\"ifelse.png\", height=\"550\", width=\"550\">"
   ]
  },
  {
   "cell_type": "markdown",
   "metadata": {},
   "source": [
    "<a id=\"if_list\"> </a>\n",
    "### 3.3 if satement"
   ]
  },
  {
   "cell_type": "markdown",
   "metadata": {},
   "source": [
    "**We create an example to print the even numbers from 0 to 11.**"
   ]
  },
  {
   "cell_type": "code",
   "execution_count": 37,
   "metadata": {},
   "outputs": [
    {
     "name": "stdout",
     "output_type": "stream",
     "text": [
      "[0, 2, 4, 6, 8, 10]\n"
     ]
    }
   ],
   "source": [
    "num_list = [i for i in range(11) if i%2==0]\n",
    "print(num_list)"
   ]
  },
  {
   "cell_type": "markdown",
   "metadata": {},
   "source": [
    "**Square the number if its even, else, cube it**"
   ]
  },
  {
   "cell_type": "code",
   "execution_count": 38,
   "metadata": {},
   "outputs": [
    {
     "data": {
      "text/plain": [
       "[4, 27, 16, 125]"
      ]
     },
     "execution_count": 38,
     "metadata": {},
     "output_type": "execute_result"
    }
   ],
   "source": [
    "[i**2 if i%2==0 else i**3 for i in [2,3,4,5]]"
   ]
  },
  {
   "cell_type": "markdown",
   "metadata": {},
   "source": [
    "<a id=\"nested_condition\"> </a>\n",
    "### 3.4 nested condition\n",
    "Nested conditions comprise conditional statements contained within the definition of other conditional statements"
   ]
  },
  {
   "cell_type": "markdown",
   "metadata": {},
   "source": [
    "**Find all the numbers from a given list divisible by 2 and 3**"
   ]
  },
  {
   "cell_type": "code",
   "execution_count": 39,
   "metadata": {},
   "outputs": [
    {
     "name": "stdout",
     "output_type": "stream",
     "text": [
      "[6, 18]\n"
     ]
    }
   ],
   "source": [
    "numbers = [1, 2, 3, 4, 5, 6, 18, 20]\n",
    "number_list = [number for number in numbers if number % 2 == 0 if number % 3 == 0]\n",
    "print(number_list)"
   ]
  },
  {
   "cell_type": "markdown",
   "metadata": {},
   "source": [
    "Here, list comprehension checks the number is divisible by 2 and 3. If number satisfies both conditions, number is appended to number_list."
   ]
  },
  {
   "cell_type": "markdown",
   "metadata": {},
   "source": [
    "**For all integers from 0 to 20.Check if the number is odd or even**"
   ]
  },
  {
   "cell_type": "code",
   "execution_count": 6,
   "metadata": {},
   "outputs": [
    {
     "data": {
      "text/plain": [
       "['Even',\n",
       " 'Odd',\n",
       " 'Even',\n",
       " 'Odd',\n",
       " 'Even',\n",
       " 'Odd',\n",
       " 'Even',\n",
       " 'Odd',\n",
       " 'Even',\n",
       " 'Odd',\n",
       " 'Even',\n",
       " 'Odd',\n",
       " 'Even',\n",
       " 'Odd',\n",
       " 'Even',\n",
       " 'Odd',\n",
       " 'Even',\n",
       " 'Odd',\n",
       " 'Even',\n",
       " 'Odd',\n",
       " 'Even']"
      ]
     },
     "execution_count": 6,
     "metadata": {},
     "output_type": "execute_result"
    }
   ],
   "source": [
    "[\"Even\" if i%2==0 else \"Odd\" for i in range(21)]"
   ]
  },
  {
   "cell_type": "markdown",
   "metadata": {},
   "source": [
    "**Make a list of numbers common to both the lists using list comprehension**"
   ]
  },
  {
   "cell_type": "code",
   "execution_count": 41,
   "metadata": {},
   "outputs": [
    {
     "name": "stdout",
     "output_type": "stream",
     "text": [
      "[102, 233, 456, 564]\n"
     ]
    }
   ],
   "source": [
    "list_1 = [102, 232, 233, 344, 456, 564, 234]\n",
    "list_2 = [102, 233, 324, 564, 567, 523, 456]\n",
    "\n",
    "common_num = [a for a in list_1 for b in list_2 if a == b]\n",
    "\n",
    "print(common_num)"
   ]
  },
  {
   "cell_type": "code",
   "execution_count": null,
   "metadata": {},
   "outputs": [],
   "source": []
  }
 ],
 "metadata": {
  "kernelspec": {
   "display_name": "Python 3",
   "language": "python",
   "name": "python3"
  },
  "language_info": {
   "codemirror_mode": {
    "name": "ipython",
    "version": 3
   },
   "file_extension": ".py",
   "mimetype": "text/x-python",
   "name": "python",
   "nbconvert_exporter": "python",
   "pygments_lexer": "ipython3",
   "version": "3.8.3"
  }
 },
 "nbformat": 4,
 "nbformat_minor": 2
}
