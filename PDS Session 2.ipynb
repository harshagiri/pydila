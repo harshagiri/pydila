{
 "cells": [
  {
   "cell_type": "code",
   "execution_count": 4,
   "metadata": {},
   "outputs": [
    {
     "name": "stdout",
     "output_type": "stream",
     "text": [
      "a:b:c:"
     ]
    }
   ],
   "source": [
    "stocks = [\"a\",\"b\",\"c\"]\n",
    "for ustock in stocks:\n",
    "    print(ustock,end=\":\")"
   ]
  },
  {
   "cell_type": "code",
   "execution_count": 15,
   "metadata": {},
   "outputs": [
    {
     "name": "stdout",
     "output_type": "stream",
     "text": [
      "a:b:c:[1, 2, 3]:1:2:3:"
     ]
    }
   ],
   "source": [
    "stocks = [\"a\",\"b\",\"c\",[1,2,3]]\n",
    "\n",
    "def loopingfunction(loop):\n",
    "    for obj in loop:\n",
    "        print(obj, end = \":\")\n",
    "        if isinstance(obj, (list, tuple)):\n",
    "            loopingfunction(obj)\n",
    "\n",
    "loopingfunction(stocks)"
   ]
  },
  {
   "cell_type": "code",
   "execution_count": 11,
   "metadata": {},
   "outputs": [
    {
     "data": {
      "text/plain": [
       "True"
      ]
     },
     "execution_count": 11,
     "metadata": {},
     "output_type": "execute_result"
    }
   ],
   "source": [
    "hasattr(str, \"__iter__\")"
   ]
  },
  {
   "cell_type": "code",
   "execution_count": 29,
   "metadata": {},
   "outputs": [
    {
     "name": "stdout",
     "output_type": "stream",
     "text": [
      "Looping on keys\n",
      "k1\n",
      "k2\n",
      "k3\n",
      "Looping on values\n",
      "v1\n",
      "v2\n",
      "v4\n",
      "Looping on items\n",
      "('k1', 'v1')\n",
      "('k2', 'v2')\n",
      "('k3', 'v4')\n",
      "Looping default\n",
      "k1\n",
      "k2\n",
      "k3\n",
      "Looping on keys - in each key there are 2 characters hence it gets assigned to k and v\n",
      "k 1\n",
      "k 2\n",
      "k 3\n"
     ]
    }
   ],
   "source": [
    "d1 = {'k1':'v1','k2':'v2','k3':'v4' }\n",
    "print('Looping on keys')\n",
    "for tup in d1.keys():\n",
    "    print(tup)\n",
    "    \n",
    "print('Looping on values')\n",
    "for tup in d1.values():\n",
    "    print(tup)\n",
    "\n",
    "print('Looping on items')\n",
    "for tup in d1.items():\n",
    "    print(tup)\n",
    "\n",
    "print('Looping default')\n",
    "for tup in d1:\n",
    "    print(tup)\n",
    "    \n",
    "print('Looping on keys - in each key there are 2 characters hence it gets assigned to k and v')\n",
    "for (k,v) in d1:\n",
    "    print(k,v)"
   ]
  },
  {
   "cell_type": "code",
   "execution_count": 35,
   "metadata": {},
   "outputs": [
    {
     "name": "stdout",
     "output_type": "stream",
     "text": [
      "0 111\n",
      "1 222\n",
      "2 333\n",
      "3 444\n",
      "4 555\n"
     ]
    }
   ],
   "source": [
    "for index,value in enumerate([111,222,333,444,555]):\n",
    "    print(index,value)"
   ]
  },
  {
   "cell_type": "code",
   "execution_count": 36,
   "metadata": {},
   "outputs": [
    {
     "data": {
      "text/plain": [
       "type"
      ]
     },
     "execution_count": 36,
     "metadata": {},
     "output_type": "execute_result"
    }
   ],
   "source": [
    "type(enumerate)"
   ]
  },
  {
   "cell_type": "code",
   "execution_count": 37,
   "metadata": {},
   "outputs": [
    {
     "name": "stdout",
     "output_type": "stream",
     "text": [
      "Help on class enumerate in module builtins:\n",
      "\n",
      "class enumerate(object)\n",
      " |  enumerate(iterable, start=0)\n",
      " |  \n",
      " |  Return an enumerate object.\n",
      " |  \n",
      " |    iterable\n",
      " |      an object supporting iteration\n",
      " |  \n",
      " |  The enumerate object yields pairs containing a count (from start, which\n",
      " |  defaults to zero) and a value yielded by the iterable argument.\n",
      " |  \n",
      " |  enumerate is useful for obtaining an indexed list:\n",
      " |      (0, seq[0]), (1, seq[1]), (2, seq[2]), ...\n",
      " |  \n",
      " |  Methods defined here:\n",
      " |  \n",
      " |  __getattribute__(self, name, /)\n",
      " |      Return getattr(self, name).\n",
      " |  \n",
      " |  __iter__(self, /)\n",
      " |      Implement iter(self).\n",
      " |  \n",
      " |  __next__(self, /)\n",
      " |      Implement next(self).\n",
      " |  \n",
      " |  __reduce__(...)\n",
      " |      Return state information for pickling.\n",
      " |  \n",
      " |  ----------------------------------------------------------------------\n",
      " |  Static methods defined here:\n",
      " |  \n",
      " |  __new__(*args, **kwargs) from builtins.type\n",
      " |      Create and return a new object.  See help(type) for accurate signature.\n",
      "\n"
     ]
    }
   ],
   "source": [
    "help(enumerate)"
   ]
  },
  {
   "cell_type": "code",
   "execution_count": 68,
   "metadata": {},
   "outputs": [
    {
     "name": "stdout",
     "output_type": "stream",
     "text": [
      "Prime number between 0 and 100 are [2, 3, 5, 7, 11, 13, 17, 19, 23, 29, 31, 37, 41, 43, 47, 53, 59, 61, 67, 71, 73, 79, 83, 89, 97] and count is 25\n"
     ]
    }
   ],
   "source": [
    "#write a function to print prime numbers from num1 to num2 and print the count\n",
    "primecontainer =  [];\n",
    "\n",
    "def isprime(num):\n",
    "    if num <= 1:\n",
    "        return False\n",
    "    \n",
    "    for divisor in range(2,num):\n",
    "        if num % divisor == 0:\n",
    "            return False\n",
    "        \n",
    "    return True\n",
    "        \n",
    "def printprime(num1, num2):\n",
    "    \n",
    "    for num in range(num1, num2):\n",
    "        if isprime(num):\n",
    "            primecontainer.append(num)\n",
    "            \n",
    "    print(\"Prime number between {} and {} are {} and count is {}\".format(num1, num2, primecontainer, len(primecontainer)))\n",
    "            \n",
    "printprime(0, 100)\n",
    "            "
   ]
  },
  {
   "cell_type": "code",
   "execution_count": null,
   "metadata": {},
   "outputs": [],
   "source": [
    "#Adding * in the function definition packs the parametesr for example several elements are packed together into tuple or list\n",
    "#Adding * in the functionc alling unpacks the parameter for example expands the list/tuple to matching function parameters"
   ]
  },
  {
   "cell_type": "code",
   "execution_count": 77,
   "metadata": {},
   "outputs": [
    {
     "name": "stdout",
     "output_type": "stream",
     "text": [
      "10\n",
      "str\n",
      "(10, 20, 30)\n",
      "str\n",
      "10\n",
      "(10, 20, 30)\n"
     ]
    }
   ],
   "source": [
    "def pref(num1=1, str1='', *args):\n",
    "    print(num1)\n",
    "    print(str1)\n",
    "    print(args)\n",
    "    \n",
    "pref(10, \"str\", 10,20,30)\n",
    "num1 = 10\n",
    "str1 = \"str\"\n",
    "tuple1 = (10,20,30)\n",
    "pref(str1, num1, 10,20,30)"
   ]
  },
  {
   "cell_type": "code",
   "execution_count": 87,
   "metadata": {},
   "outputs": [
    {
     "name": "stdout",
     "output_type": "stream",
     "text": [
      "10 <class 'int'>\n",
      "20 <class 'int'>\n",
      "22 <class 'int'>\n",
      "33 <class 'int'>\n",
      "() <class 'tuple'>\n",
      "{} <class 'dict'>\n",
      "Key xyz not present in kwargs\n",
      "10 <class 'int'>\n",
      "20 <class 'int'>\n",
      "111 <class 'int'>\n",
      "222 <class 'int'>\n",
      "(333, 444) <class 'tuple'>\n",
      "{} <class 'dict'>\n",
      "Key xyz not present in kwargs\n",
      "10 <class 'int'>\n",
      "20 <class 'int'>\n",
      "111 <class 'int'>\n",
      "222 <class 'int'>\n",
      "(333, 444) <class 'tuple'>\n",
      "{'d4': 2222} <class 'dict'>\n",
      "Key xyz not present in kwargs\n",
      "10 <class 'int'>\n",
      "20 <class 'int'>\n",
      "111 <class 'int'>\n",
      "222 <class 'int'>\n",
      "(333, 444) <class 'tuple'>\n",
      "{'xyz': 2222} <class 'dict'>\n",
      "xyz False\n",
      "10 <class 'int'>\n",
      "20 <class 'int'>\n",
      "111 <class 'int'>\n",
      "222 <class 'int'>\n",
      "(333, 444) <class 'tuple'>\n",
      "{'xyz': True} <class 'dict'>\n",
      "xyz true\n"
     ]
    }
   ],
   "source": [
    "def varparfunnction(r1, r2, d1=22, d2=33, *args, **kwargs):\n",
    "    print(r1, type(r1))\n",
    "    print(r2, type(r2))\n",
    "    print(d1, type(d1))\n",
    "    print(d2, type(d2))\n",
    "    print(args, type(args))\n",
    "    print(kwargs, type(kwargs))\n",
    "    if 'xyz' in kwargs: # key 'xyz' is checked among all keys in dictionary kwargs\n",
    "        if kwargs['xyz'] == True:\n",
    "            print('xyz true')\n",
    "        else:\n",
    "            print('xyz False')\n",
    "    else:\n",
    "        print('Key xyz not present in kwargs')\n",
    "\n",
    "varparfunnction(10,20)\n",
    "varparfunnction(10,20,111,222,333,444)\n",
    "varparfunnction(10,20,111,222,333,444, **{'d4':2222})\n",
    "varparfunnction(10,20,111,222,333,444, **{'xyz':2222})\n",
    "varparfunnction(10,20,111,222,333,444, **{'xyz':True})"
   ]
  },
  {
   "cell_type": "code",
   "execution_count": 89,
   "metadata": {},
   "outputs": [
    {
     "name": "stdout",
     "output_type": "stream",
     "text": [
      "False\n"
     ]
    }
   ],
   "source": [
    "#lambda function\n",
    "iseven = lambda x : x % 2 == 0\n",
    "print(iseven(21))"
   ]
  },
  {
   "cell_type": "code",
   "execution_count": 91,
   "metadata": {},
   "outputs": [],
   "source": [
    "#dir\n",
    "#hasattr\n",
    "#type\n",
    "#help"
   ]
  },
  {
   "cell_type": "code",
   "execution_count": null,
   "metadata": {},
   "outputs": [],
   "source": []
  }
 ],
 "metadata": {
  "kernelspec": {
   "display_name": "Python 3",
   "language": "python",
   "name": "python3"
  },
  "language_info": {
   "codemirror_mode": {
    "name": "ipython",
    "version": 3
   },
   "file_extension": ".py",
   "mimetype": "text/x-python",
   "name": "python",
   "nbconvert_exporter": "python",
   "pygments_lexer": "ipython3",
   "version": "3.8.3"
  }
 },
 "nbformat": 4,
 "nbformat_minor": 4
}
