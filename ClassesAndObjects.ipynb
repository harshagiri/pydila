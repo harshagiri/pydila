{
 "cells": [
  {
   "cell_type": "code",
   "execution_count": 1,
   "metadata": {},
   "outputs": [],
   "source": [
    "#Object oriented Programming - Classes and Objects"
   ]
  },
  {
   "cell_type": "code",
   "execution_count": 29,
   "metadata": {},
   "outputs": [
    {
     "name": "stdout",
     "output_type": "stream",
     "text": [
      "1 \n"
     ]
    }
   ],
   "source": [
    "class MyEmployee():\n",
    "    e = ''\n",
    "    \n",
    "    ## constructor\n",
    "    def __init__(self):\n",
    "        e = 'Engineer'\n",
    "        \n",
    "    ## tostring or print method overloading\n",
    "    def __str__(self):\n",
    "        ## Need to undersatnd more on this line\n",
    "        ns = '({}{}'.format(self.e)\n",
    "        \n",
    "    def getE(self):\n",
    "        return self.e\n",
    "    \n",
    "    def setE(self, new):\n",
    "        self.e = new\n",
    "    \n",
    "e1 = MyEmployee(); print(1, e1.e)"
   ]
  },
  {
   "cell_type": "code",
   "execution_count": 30,
   "metadata": {},
   "outputs": [
    {
     "name": "stdout",
     "output_type": "stream",
     "text": [
      "2 Executive \n"
     ]
    }
   ],
   "source": [
    "e1.e = 'Executive '+e1.e; print(2, e1.e)"
   ]
  },
  {
   "cell_type": "code",
   "execution_count": 31,
   "metadata": {},
   "outputs": [
    {
     "name": "stdout",
     "output_type": "stream",
     "text": [
      "3 Executive \n"
     ]
    }
   ],
   "source": [
    "e2 = MyEmployee();\n",
    "print(3,e1.getE())"
   ]
  },
  {
   "cell_type": "code",
   "execution_count": 32,
   "metadata": {},
   "outputs": [
    {
     "name": "stdout",
     "output_type": "stream",
     "text": [
      "4 \n"
     ]
    }
   ],
   "source": [
    "print(4,e2.getE())"
   ]
  },
  {
   "cell_type": "code",
   "execution_count": 33,
   "metadata": {},
   "outputs": [
    {
     "data": {
      "text/plain": [
       "'Software Engineer'"
      ]
     },
     "execution_count": 33,
     "metadata": {},
     "output_type": "execute_result"
    }
   ],
   "source": [
    "e1.setE('Software Engineer')\n",
    "e1.getE()"
   ]
  },
  {
   "cell_type": "code",
   "execution_count": 34,
   "metadata": {},
   "outputs": [
    {
     "data": {
      "text/plain": [
       "'Software Engineer'"
      ]
     },
     "execution_count": 34,
     "metadata": {},
     "output_type": "execute_result"
    }
   ],
   "source": [
    "e1.e"
   ]
  },
  {
   "cell_type": "code",
   "execution_count": 40,
   "metadata": {},
   "outputs": [
    {
     "name": "stdout",
     "output_type": "stream",
     "text": [
      "444444\n"
     ]
    }
   ],
   "source": [
    "a = '4'\n",
    "b = 6\n",
    "print(a * b)"
   ]
  },
  {
   "cell_type": "code",
   "execution_count": 6,
   "metadata": {},
   "outputs": [
    {
     "name": "stdout",
     "output_type": "stream",
     "text": [
      "We have 22 fortuner in the showroom\n",
      "We have 22 fortuner in the showroom\n"
     ]
    }
   ],
   "source": [
    "car_count = 22\n",
    "car_Model = 'fortuner'\n",
    "\n",
    "print('We have %d %s in the showroom'%(car_count, car_Model))\n",
    "print(\"We have {} {} in the showroom\".format(car_count, car_Model)) #Python style of printing message"
   ]
  },
  {
   "cell_type": "code",
   "execution_count": 7,
   "metadata": {},
   "outputs": [
    {
     "name": "stdout",
     "output_type": "stream",
     "text": [
      "We have {} {} in the showroom\n"
     ]
    }
   ],
   "source": [
    "ns = \"We have {} {} in the showroom\"\n",
    "print(ns)"
   ]
  },
  {
   "cell_type": "code",
   "execution_count": 38,
   "metadata": {},
   "outputs": [
    {
     "name": "stdout",
     "output_type": "stream",
     "text": [
      "Ambassdaor weighs 2.3 tons\n",
      "Ambassdaor weighs 2.3 tons\n",
      "2.3 weighs Ambassdaor tons\n",
      "2.3 weighs 2.3 tons\n",
      "Ambassdaor weighs Ambassdaor tons\n",
      "Ambassdaor weighs Ambassdaor tons\n",
      "Ambassdaor weighs 2.300000 tons\n",
      "Ambassdaor weighs 2.30 tons\n",
      "Ambassdaor weighs 2.30 tons in 1986\n",
      " binar 11111000010 octal 3702 hex 7c2\n",
      "              PYTHON\n",
      "PYTHON**************\n",
      "*******PYTHON*******\n",
      "**************PYTHON********************\n"
     ]
    }
   ],
   "source": [
    "cw = 2.3\n",
    "cm = 'Ambassdaor'\n",
    "year = 1986\n",
    "#constraining based on parameter number\n",
    "print(\"{} weighs {} tons\".format(cm, cw))\n",
    "print(\"{0} weighs {1} tons\".format(cm, cw))\n",
    "print(\"{1} weighs {0} tons\".format(cm, cw))\n",
    "print(\"{1} weighs {1} tons\".format(cm, cw))\n",
    "print(\"{0} weighs {0} tons\".format(cm, cw))\n",
    "print(\"{0} weighs {0} tons\".format(cm))\n",
    "\n",
    "#constraining based on parameter type\n",
    "print(\"{:s} weighs {:f} tons\".format(cm, cw))\n",
    "print(\"{:s} weighs {:.2f} tons\".format(cm, cw))\n",
    "\n",
    "#mixing both numbers and types of paramaeters\n",
    "print(\"{1:s} weighs {2:.2f} tons in {0:d}\".format(year, cm, cw))\n",
    "\n",
    "#print in binary octal and hex\n",
    "print(\" binar {0:b} octal {0:o} hex {0:x}\".format(year))\n",
    "\n",
    "#Padding\n",
    "element = 'PYTHON'\n",
    "print('{:>20}'.format(element))\n",
    "print('{:*<20}'.format(element))\n",
    "print('{:*^20}'.format(element))\n",
    "print('{0:*>20}{1:*<20}'.format(element,\"\"))"
   ]
  },
  {
   "cell_type": "code",
   "execution_count": 8,
   "metadata": {},
   "outputs": [
    {
     "name": "stdout",
     "output_type": "stream",
     "text": [
      "[('M', 1), ('A', 1), ('D', 1), ('A', 1), ('M', 1)]\n"
     ]
    }
   ],
   "source": [
    "string = \"madam\"\n",
    "a = [(i.upper(), len(i)) for i in string]\n",
    "print(a)"
   ]
  },
  {
   "cell_type": "code",
   "execution_count": null,
   "metadata": {},
   "outputs": [],
   "source": []
  }
 ],
 "metadata": {
  "kernelspec": {
   "display_name": "Python 3",
   "language": "python",
   "name": "python3"
  },
  "language_info": {
   "codemirror_mode": {
    "name": "ipython",
    "version": 3
   },
   "file_extension": ".py",
   "mimetype": "text/x-python",
   "name": "python",
   "nbconvert_exporter": "python",
   "pygments_lexer": "ipython3",
   "version": "3.8.5"
  }
 },
 "nbformat": 4,
 "nbformat_minor": 4
}
