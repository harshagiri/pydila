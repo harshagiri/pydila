{
 "cells": [
  {
   "cell_type": "markdown",
   "metadata": {
    "colab_type": "text",
    "id": "0yzl3MKzf98L"
   },
   "source": [
    "<table align=\"center\" width=100%>\n",
    "    <tr>\n",
    "        <td width=\"10%\">\n",
    "            <img src=\"in_class.png\">\n",
    "        </td>\n",
    "        <td>\n",
    "            <div align=\"center\">\n",
    "                <font color=\"#21618C\" size=8px>\n",
    "                    <b> Inclass-Lab  <br>(Day 1)\n",
    "                    </b>\n",
    "                </font>\n",
    "            </div>\n",
    "        </td>\n",
    "    </tr>\n",
    "</table>"
   ]
  },
  {
   "cell_type": "markdown",
   "metadata": {
    "colab_type": "text",
    "id": "LFqGx_Dhf98M"
   },
   "source": [
    "## Table of Content\n",
    "\n",
    "1. **[Using print()](#print)**\n",
    "2. **[Data types](#types)**\n",
    "3. **[Arithmetic Operations](#arithmetic)**\n",
    "4. **[Boolean Operations](#boolean)**\n",
    "5. **[Concatenation](#concatenation)**\n",
    "6. **[Pseudo Codes](#pseudo)**\n"
   ]
  },
  {
   "cell_type": "markdown",
   "metadata": {
    "colab_type": "text",
    "id": "psOYFu6zf98N"
   },
   "source": [
    "### Let's begin with some hands-on practice exercises"
   ]
  },
  {
   "cell_type": "markdown",
   "metadata": {
    "colab_type": "text",
    "id": "r4J-iIEhf98N"
   },
   "source": [
    "<a id=\"print\"> </a>\n",
    "## 1. Using print()"
   ]
  },
  {
   "cell_type": "markdown",
   "metadata": {
    "colab_type": "text",
    "id": "77vuf1DVf98O"
   },
   "source": [
    "<table align=\"left\">\n",
    "    <tr>\n",
    "        <td width=\"6%\">\n",
    "            <img src=\"question_icon.png\">\n",
    "        </td>\n",
    "        <td>\n",
    "            <div align=\"left\", style=\"font-size:120%\">\n",
    "                <font color=\"#21618C\">\n",
    "                    <b>1. To display a statement. For example, \"Hello, How are you?\" </b>\n",
    "                </font>\n",
    "            </div>\n",
    "        </td>\n",
    "    </tr>\n",
    "</table>"
   ]
  },
  {
   "cell_type": "code",
   "execution_count": 1,
   "metadata": {
    "colab": {},
    "colab_type": "code",
    "id": "TZatTfxJjAUr"
   },
   "outputs": [
    {
     "name": "stdout",
     "output_type": "stream",
     "text": [
      "Hello, How are you?\n"
     ]
    }
   ],
   "source": [
    "# type your code here\n",
    "print('Hello, How are you?')"
   ]
  },
  {
   "cell_type": "markdown",
   "metadata": {
    "colab_type": "text",
    "id": "V7QJT8W9f98T"
   },
   "source": [
    "<table align=\"left\">\n",
    "    <tr>\n",
    "        <td width=\"6%\">\n",
    "            <img src=\"question_icon.png\">\n",
    "        </td>\n",
    "        <td>\n",
    "            <div align=\"left\", style=\"font-size:120%\">\n",
    "                <font color=\"#21618C\">\n",
    "                    <b>2. Display the following pattern using print() </b>\n",
    "                </font>\n",
    "            </div>\n",
    "        </td>\n",
    "    </tr>\n",
    "</table>"
   ]
  },
  {
   "cell_type": "markdown",
   "metadata": {
    "colab_type": "text",
    "id": "ztNV65WGf98U"
   },
   "source": [
    "            *    \n",
    "           ***    \n",
    "          *****   \n",
    "         *******  \n",
    "        ********* "
   ]
  },
  {
   "cell_type": "code",
   "execution_count": 20,
   "metadata": {
    "colab": {},
    "colab_type": "code",
    "id": "D6mdOlsSjAUw"
   },
   "outputs": [
    {
     "name": "stdout",
     "output_type": "stream",
     "text": [
      "    *     \n",
      "   ***    \n",
      "  *****   \n",
      " *******  \n",
      "********* \n"
     ]
    }
   ],
   "source": [
    "# type your code here\n",
    "index = 5\n",
    "multiplier = 2\n",
    "string = '*'\n",
    "\n",
    "def print_pyramid(count, input_string):\n",
    "    if count > 0:\n",
    "        print('{: ^10}'.format(input_string))\n",
    "        input_string = string + input_string + string\n",
    "        count = count - 1\n",
    "        print_pyramid(count, input_string)\n",
    "\n",
    "print_pyramid(index, string)"
   ]
  },
  {
   "cell_type": "markdown",
   "metadata": {
    "colab_type": "text",
    "id": "9qnEEhR4f98X"
   },
   "source": [
    "<table align=\"left\">\n",
    "    <tr>\n",
    "        <td width=\"6%\">\n",
    "            <img src=\"question_icon.png\">\n",
    "        </td>\n",
    "        <td>\n",
    "            <div align=\"left\", style=\"font-size:120%\">\n",
    "                <font color=\"#21618C\">\n",
    "                    <b>3. Write the alphabets 'A', 'B', 'C' on new lines using a single print function. </b>\n",
    "                </font>\n",
    "            </div>\n",
    "        </td>\n",
    "    </tr>\n",
    "</table>"
   ]
  },
  {
   "cell_type": "code",
   "execution_count": 21,
   "metadata": {
    "colab": {},
    "colab_type": "code",
    "id": "SdmwGdgxjAUz"
   },
   "outputs": [
    {
     "name": "stdout",
     "output_type": "stream",
     "text": [
      "A\n",
      "B\n",
      "C\n",
      "\n"
     ]
    }
   ],
   "source": [
    "# type your code here\n",
    "print('A\\nB\\nC\\n')"
   ]
  },
  {
   "cell_type": "markdown",
   "metadata": {
    "colab_type": "text",
    "id": "QLSslfFdf98b"
   },
   "source": [
    "<a id=\"types\"> </a>\n",
    "## 2. Data types"
   ]
  },
  {
   "cell_type": "markdown",
   "metadata": {
    "colab_type": "text",
    "id": "6YXVLVi9f98b"
   },
   "source": [
    "<table align=\"left\">\n",
    "    <tr>\n",
    "        <td width=\"6%\">\n",
    "            <img src=\"question_icon.png\">\n",
    "        </td>\n",
    "        <td>\n",
    "            <div align=\"left\", style=\"font-size:120%\">\n",
    "                <font color=\"#21618C\">\n",
    "                    <b>4. Create a string, a numeric and boolean variables by assigning variable names. Further, check their datatype. For numeric variable check for whole numbers and numbers with decimal point.</b>\n",
    "                </font>\n",
    "            </div>\n",
    "        </td>\n",
    "    </tr>\n",
    "</table>"
   ]
  },
  {
   "cell_type": "markdown",
   "metadata": {
    "colab_type": "text",
    "id": "2R8Ix1P4f98c"
   },
   "source": [
    "**Declare a string variable and check its data type.**"
   ]
  },
  {
   "cell_type": "code",
   "execution_count": 26,
   "metadata": {
    "colab": {},
    "colab_type": "code",
    "id": "G9tUhjLzjAU4"
   },
   "outputs": [
    {
     "name": "stdout",
     "output_type": "stream",
     "text": [
      "data type of string_variable with value Hello is <class 'str'>\n"
     ]
    }
   ],
   "source": [
    "# type your code here\n",
    "string_variable = 'Hello'\n",
    "\n",
    "print('data type of string_variable with value {} is {}'.format(string_variable, type(string_variable)))"
   ]
  },
  {
   "cell_type": "markdown",
   "metadata": {
    "colab_type": "text",
    "id": "3txBZsy1f98f"
   },
   "source": [
    "**Declare a numeric variable and check its data type.** <br>\n",
    "i. An interger variable."
   ]
  },
  {
   "cell_type": "code",
   "execution_count": 27,
   "metadata": {
    "colab": {},
    "colab_type": "code",
    "id": "YLEBSRgwjAU7"
   },
   "outputs": [
    {
     "name": "stdout",
     "output_type": "stream",
     "text": [
      "data type of int_variable with value 10 is <class 'int'>\n"
     ]
    }
   ],
   "source": [
    "# type your code here\n",
    "int_variable = 10\n",
    "print('data type of int_variable with value {} is {}'.format(int_variable, type(int_variable)))"
   ]
  },
  {
   "cell_type": "markdown",
   "metadata": {
    "colab_type": "text",
    "id": "9pgoDopkf98i"
   },
   "source": [
    "ii. A fractional variable"
   ]
  },
  {
   "cell_type": "code",
   "execution_count": 28,
   "metadata": {
    "colab": {},
    "colab_type": "code",
    "id": "-MnJNs3wjAU_"
   },
   "outputs": [
    {
     "name": "stdout",
     "output_type": "stream",
     "text": [
      "data type of float_variable with value 10.1 is <class 'float'>\n"
     ]
    }
   ],
   "source": [
    "# type your code here\n",
    "float_variable = 10.10\n",
    "print('data type of float_variable with value {} is {}'.format(float_variable, type(float_variable)))"
   ]
  },
  {
   "cell_type": "markdown",
   "metadata": {
    "colab_type": "text",
    "id": "97TYsEBdf98m"
   },
   "source": [
    "**Declare a boolean variable and check its data type.**"
   ]
  },
  {
   "cell_type": "code",
   "execution_count": 29,
   "metadata": {
    "colab": {},
    "colab_type": "code",
    "id": "Mm0NJf89jAVC"
   },
   "outputs": [
    {
     "name": "stdout",
     "output_type": "stream",
     "text": [
      "data type of boolean_variable with value False is <class 'bool'>\n"
     ]
    }
   ],
   "source": [
    "# type your code here\n",
    "boolean_variable = False\n",
    "print('data type of boolean_variable with value {} is {}'.format(boolean_variable, type(boolean_variable)))"
   ]
  },
  {
   "cell_type": "markdown",
   "metadata": {
    "colab_type": "text",
    "id": "YIaQZc58f98p"
   },
   "source": [
    "<table align=\"left\">\n",
    "    <tr>\n",
    "        <td width=\"6%\">\n",
    "            <img src=\"question_icon.png\">\n",
    "        </td>\n",
    "        <td>\n",
    "            <div align=\"left\", style=\"font-size:120%\">\n",
    "                <font color=\"#21618C\">\n",
    "                    <b>5. Write a complex number and assign it the name 'comp_var'</b>\n",
    "                </font>\n",
    "            </div>\n",
    "        </td>\n",
    "    </tr>\n",
    "</table>"
   ]
  },
  {
   "cell_type": "code",
   "execution_count": 31,
   "metadata": {
    "colab": {},
    "colab_type": "code",
    "id": "2IRBkoRTjAVF"
   },
   "outputs": [
    {
     "name": "stdout",
     "output_type": "stream",
     "text": [
      "data type of comp_var with value (3+5j) is <class 'complex'>\n"
     ]
    }
   ],
   "source": [
    "# type your code here\n",
    "comp_var = 3+5j\n",
    "print('data type of comp_var with value {} is {}'.format(comp_var, type(comp_var)))"
   ]
  },
  {
   "cell_type": "markdown",
   "metadata": {
    "colab_type": "text",
    "id": "qI6L73Qhf98t"
   },
   "source": [
    "<table align=\"left\">\n",
    "    <tr>\n",
    "        <td width=\"6%\">\n",
    "            <img src=\"question_icon.png\">\n",
    "        </td>\n",
    "        <td>\n",
    "            <div align=\"left\", style=\"font-size:120%\">\n",
    "                <font color=\"#21618C\">\n",
    "                    <b>6. Convert a float variable f = 23.45 to integer.  </b>\n",
    "                </font>\n",
    "            </div>\n",
    "        </td>\n",
    "    </tr>\n",
    "</table>"
   ]
  },
  {
   "cell_type": "code",
   "execution_count": 37,
   "metadata": {
    "colab": {},
    "colab_type": "code",
    "id": "CTqimQTAjAVI"
   },
   "outputs": [
    {
     "name": "stdout",
     "output_type": "stream",
     "text": [
      "23\n"
     ]
    }
   ],
   "source": [
    "# type your code here\n",
    "float_variable = 23.45\n",
    "int_variable = int(float_variable)\n",
    "print(int_variable)"
   ]
  },
  {
   "cell_type": "markdown",
   "metadata": {
    "colab_type": "text",
    "id": "iZkGr2rTf98y"
   },
   "source": [
    "<table align=\"left\">\n",
    "    <tr>\n",
    "        <td width=\"6%\">\n",
    "            <img src=\"question_icon.png\">\n",
    "        </td>\n",
    "        <td>\n",
    "            <div align=\"left\", style=\"font-size:120%\">\n",
    "                <font color=\"#21618C\">\n",
    "                    <b>7. Create a numberic variable and convert it to a string.</b>\n",
    "                </font>\n",
    "            </div>\n",
    "        </td>\n",
    "    </tr>\n",
    "</table>"
   ]
  },
  {
   "cell_type": "code",
   "execution_count": 39,
   "metadata": {
    "colab": {},
    "colab_type": "code",
    "id": "TDy8puhijAVL"
   },
   "outputs": [
    {
     "name": "stdout",
     "output_type": "stream",
     "text": [
      "<class 'str'>\n"
     ]
    }
   ],
   "source": [
    "# type your code here\n",
    "int = 12\n",
    "int_string = str(int)\n",
    "print(type(int_string))"
   ]
  },
  {
   "cell_type": "markdown",
   "metadata": {
    "colab_type": "text",
    "id": "OL9cj_rRf983"
   },
   "source": [
    "<a id=\"arithmetic\"></a>\n",
    "## 3. Arithmetic Operations"
   ]
  },
  {
   "cell_type": "markdown",
   "metadata": {
    "colab_type": "text",
    "id": "iOS1kKjWf983"
   },
   "source": [
    "<table align=\"left\">\n",
    "    <tr>\n",
    "        <td width=\"6%\">\n",
    "            <img src=\"question_icon.png\">\n",
    "        </td>\n",
    "        <td>\n",
    "            <div align=\"left\", style=\"font-size:120%\">\n",
    "                <font color=\"#21618C\">\n",
    "                    <b>8. Evaluate 145 into 354 minus 1345 divided by 45 plus (462 plus 23) divided by 3. </b>\n",
    "                </font>\n",
    "            </div>\n",
    "        </td>\n",
    "    </tr>\n",
    "</table>"
   ]
  },
  {
   "cell_type": "code",
   "execution_count": 40,
   "metadata": {
    "colab": {},
    "colab_type": "code",
    "id": "0WSGZCeQjAVO"
   },
   "outputs": [
    {
     "name": "stdout",
     "output_type": "stream",
     "text": [
      "50156.777777777774\n"
     ]
    }
   ],
   "source": [
    "# type your code here\n",
    "print(145 * 345 - 1345 / 45 + ( 462 + 23 ) / 3)"
   ]
  },
  {
   "cell_type": "markdown",
   "metadata": {
    "colab_type": "text",
    "id": "m8r2VOUnf987"
   },
   "source": [
    "<table align=\"left\">\n",
    "    <tr>\n",
    "        <td width=\"6%\">\n",
    "            <img src=\"question_icon.png\">\n",
    "        </td>\n",
    "        <td>\n",
    "            <div align=\"left\", style=\"font-size:120%\">\n",
    "                <font color=\"#21618C\">\n",
    "                    <b>9. Evaluate  and print the results of the following <br>\n",
    "                        <ol type = '1'> \n",
    "                            <li> 1353 plus 234 </li> \n",
    "                            <li> 2355 minus 346 </li>\n",
    "                            <li> 234 times 457 </li>\n",
    "                            <li> 25 divided by 6 </li>\n",
    "                            <li> Obtain remainder of  25 divided by 6 </li>\n",
    "                            <li> 33 raised to 4 </li> \n",
    "                            <li> 45 divided by 6  (floor division)\n",
    "                            <li> 2 raised to 10</li></ol>\n",
    "                    </b>\n",
    "                </font>\n",
    "            </div>\n",
    "        </td>\n",
    "    </tr>\n",
    "</table>"
   ]
  },
  {
   "cell_type": "code",
   "execution_count": 45,
   "metadata": {
    "colab": {},
    "colab_type": "code",
    "id": "i87c8jfIjAVR"
   },
   "outputs": [
    {
     "name": "stdout",
     "output_type": "stream",
     "text": [
      "output of 1353 plus 234 is 1587\n",
      "output of 2355 minus 346 is 2009\n",
      "output of 234 times 457 is 106938\n",
      "output of 25 divided 6 is 4.166666666666667\n",
      "remainder of 25 devided by 6 is 1\n",
      "output of 33 raised to 4 is 1185921\n",
      "output 45 divided by 6 (floor division) is 7\n",
      "output of 2 raised to 10 is 1024\n"
     ]
    }
   ],
   "source": [
    "# type your code here\n",
    "v1 = 1353 + 234\n",
    "print('output of 1353 plus 234 is {}'.format(v1))\n",
    "v2 = 2355 - 346\n",
    "print('output of 2355 minus 346 is {}'.format(v2))\n",
    "v3 = 234 * 457\n",
    "print('output of 234 times 457 is {}'.format(v3))\n",
    "v4 =25 / 6\n",
    "print('output of 25 divided 6 is {}'.format(v4))\n",
    "v5 = 25 % 6\n",
    "print('remainder of 25 devided by 6 is {}'.format(v5))\n",
    "v6 = 33 ** 4\n",
    "print('output of 33 raised to 4 is {}'.format(v6))\n",
    "v7 = 45 // 6\n",
    "print('output 45 divided by 6 (floor division) is {}'.format(v7))\n",
    "v8 = 2 ** 10\n",
    "print('output of 2 raised to 10 is {}'.format(v8))"
   ]
  },
  {
   "cell_type": "markdown",
   "metadata": {
    "colab_type": "text",
    "id": "XID79y2_f99O"
   },
   "source": [
    "<table align=\"left\">\n",
    "    <tr>\n",
    "        <td width=\"6%\">\n",
    "            <img src=\"question_icon.png\">\n",
    "        </td>\n",
    "        <td>\n",
    "            <div align=\"left\", style=\"font-size:120%\">\n",
    "                <font color=\"#21618C\">\n",
    "                    <b>10. Calculate BMI of a person (take input for height and weight from user).</b>\n",
    "                </font>\n",
    "            </div>\n",
    "        </td>\n",
    "    </tr>\n",
    "</table>"
   ]
  },
  {
   "cell_type": "code",
   "execution_count": 51,
   "metadata": {
    "colab": {},
    "colab_type": "code",
    "id": "8-izYT9kjAVU"
   },
   "outputs": [
    {
     "name": "stdin",
     "output_type": "stream",
     "text": [
      "Please enter a positive number for height in meters 4\n",
      "Please enter a positive number for weight in kg 70\n"
     ]
    },
    {
     "name": "stdout",
     "output_type": "stream",
     "text": [
      "bmi for provided height 4 m and weight 70 kg is 4.375\n"
     ]
    }
   ],
   "source": [
    "# type your code here\n",
    "height = input('Please enter a positive number for height in meters')\n",
    "height_int = int(height)\n",
    "weight = input('Please enter a positive number for weight in kg')\n",
    "weight_int = int(weight)\n",
    "print('bmi for provided height {} m and weight {} kg is {}'.format(height_int, weight_int, weight_int / (height_int**2)))"
   ]
  },
  {
   "cell_type": "markdown",
   "metadata": {
    "colab_type": "text",
    "id": "AXxxJmhZf99c"
   },
   "source": [
    "<a id=\"boolean\"></a>\n",
    "## 4. Boolean Operations"
   ]
  },
  {
   "cell_type": "markdown",
   "metadata": {
    "colab_type": "text",
    "id": "nI9sO6ZZf99c"
   },
   "source": [
    "<table align=\"left\">\n",
    "    <tr>\n",
    "        <td width=\"6%\">\n",
    "            <img src=\"question_icon.png\">\n",
    "        </td>\n",
    "        <td>\n",
    "            <div align=\"left\", style=\"font-size:120%\">\n",
    "                <font color=\"#21618C\">\n",
    "                    <b>11. Check whether the expression (54+34)* 45 is equal to the expression (0.9*2432)/0.9 </b>\n",
    "                </font>\n",
    "            </div>\n",
    "        </td>\n",
    "    </tr>\n",
    "</table>"
   ]
  },
  {
   "cell_type": "code",
   "execution_count": 53,
   "metadata": {
    "colab": {},
    "colab_type": "code",
    "id": "ZcU5ccNkjAVf"
   },
   "outputs": [
    {
     "name": "stdout",
     "output_type": "stream",
     "text": [
      "Not equal\n"
     ]
    }
   ],
   "source": [
    "# type your code here\n",
    "exp1 = (54+34)*45\n",
    "exp2 = (0.9*2432)/0.9\n",
    "if exp1 == exp2:\n",
    "    print('Equal')\n",
    "else:\n",
    "    print('Not equal')"
   ]
  },
  {
   "cell_type": "markdown",
   "metadata": {
    "colab_type": "text",
    "id": "IShIieCJf99f"
   },
   "source": [
    "<a id=\"concatenation\"></a>\n",
    "## 5. Concatenation"
   ]
  },
  {
   "cell_type": "markdown",
   "metadata": {
    "colab_type": "text",
    "id": "3us7i6Inf99f"
   },
   "source": [
    "<table align=\"left\">\n",
    "    <tr>\n",
    "        <td width=\"6%\">\n",
    "            <img src=\"question_icon.png\">\n",
    "        </td>\n",
    "        <td>\n",
    "            <div align=\"left\", style=\"font-size:120%\">\n",
    "                <font color=\"#21618C\">\n",
    "                    <b>12. Create two strings and concatenate them using '+' operator. </b>\n",
    "                </font>\n",
    "            </div>\n",
    "        </td>\n",
    "    </tr>\n",
    "</table>"
   ]
  },
  {
   "cell_type": "code",
   "execution_count": 54,
   "metadata": {
    "colab": {},
    "colab_type": "code",
    "id": "sv3wPchOjAVi"
   },
   "outputs": [
    {
     "name": "stdout",
     "output_type": "stream",
     "text": [
      "Hello World\n"
     ]
    }
   ],
   "source": [
    "# type your code here\n",
    "str1 = 'Hello'\n",
    "str2 = ' World'\n",
    "str3 = str1 + str2\n",
    "print(str3)"
   ]
  },
  {
   "cell_type": "markdown",
   "metadata": {
    "colab_type": "text",
    "id": "Lzs2ddCwf99m"
   },
   "source": [
    "<table align=\"left\">\n",
    "    <tr>\n",
    "        <td width=\"6%\">\n",
    "            <img src=\"question_icon.png\">\n",
    "        </td>\n",
    "        <td>\n",
    "            <div align=\"left\", style=\"font-size:120%\">\n",
    "                <font color=\"#21618C\">\n",
    "                    <b>13. Concatenate the variables 'num = 34 and 'string ='How old are you?' using '+' operator. </b>\n",
    "                </font>\n",
    "            </div>\n",
    "        </td>\n",
    "    </tr>\n",
    "</table>"
   ]
  },
  {
   "cell_type": "code",
   "execution_count": 58,
   "metadata": {
    "colab": {},
    "colab_type": "code",
    "id": "d5rxobNtjAVk"
   },
   "outputs": [
    {
     "name": "stdout",
     "output_type": "stream",
     "text": [
      "34 How old are you?\n"
     ]
    }
   ],
   "source": [
    "# type your code here\n",
    "num = 34\n",
    "string = 'How old are you?'\n",
    "output = str(num) + ' '+ string\n",
    "print(output)"
   ]
  },
  {
   "cell_type": "markdown",
   "metadata": {
    "colab_type": "text",
    "id": "mcgJwGNrf99s"
   },
   "source": [
    "<a id=\"pseudo\"> </a>\n",
    "## 6. Pseudo Codes"
   ]
  },
  {
   "cell_type": "markdown",
   "metadata": {
    "colab_type": "text",
    "id": "3uPwVwgAf99s"
   },
   "source": [
    "<table align=\"left\">\n",
    "    <tr>\n",
    "        <td width=\"6%\">\n",
    "            <img src=\"question_icon.png\">\n",
    "        </td>\n",
    "        <td>\n",
    "            <div align=\"left\", style=\"font-size:120%\">\n",
    "                <font color=\"#21618C\">\n",
    "                    <b>14. Write a pseudo code to print table of 5 using 'for' loop.</b>\n",
    "                </font>\n",
    "            </div>\n",
    "        </td>\n",
    "    </tr>\n",
    "</table>"
   ]
  },
  {
   "cell_type": "code",
   "execution_count": null,
   "metadata": {
    "colab": {},
    "colab_type": "code",
    "id": "34k8BkJ_jAVn"
   },
   "outputs": [],
   "source": [
    "# type your code here\n",
    "Save table number in a variable\n",
    "loop through from number 1 to 10\n",
    "    for each number in loop\n",
    "        multiple number by 5 and store the product in a variable\n",
    "        print table_number * number = product"
   ]
  },
  {
   "cell_type": "markdown",
   "metadata": {
    "colab_type": "text",
    "id": "EE_L86gBf99t"
   },
   "source": [
    "<table align=\"left\">\n",
    "    <tr>\n",
    "        <td width=\"6%\">\n",
    "            <img src=\"question_icon.png\">\n",
    "        </td>\n",
    "        <td>\n",
    "            <div align=\"left\", style=\"font-size:120%\">\n",
    "                <font color=\"#21618C\">\n",
    "                    <b>15. Write a pseudo code for generating a fibonacci series starting with 0 and 1 for 10 values using while loop. </b>\n",
    "                </font>\n",
    "            </div>\n",
    "        </td>\n",
    "    </tr>\n",
    "</table>"
   ]
  },
  {
   "cell_type": "code",
   "execution_count": null,
   "metadata": {
    "colab": {},
    "colab_type": "code",
    "id": "uMJjtFQOjAVr"
   },
   "outputs": [],
   "source": [
    "# type your code here\n",
    "\n",
    "Add first 2 numbers in Fionacci series 0 and 1 to container explicitly\n",
    "\n",
    "create a container to hold the fibonacci series\n",
    "create a function to process fibonacci series\n",
    "pass first 2 operands and the number expected to be in series as parameters to method\n",
    "    if numbers in series is not zero, only then proceed calculating the next number in fibonacci series\n",
    "        calcualte the next number and add it to the container by adding the 2 numbers passed to function\n",
    "        call the method again with updated arguments\n"
   ]
  },
  {
   "cell_type": "markdown",
   "metadata": {
    "colab_type": "text",
    "id": "EFaFOXFTf99t"
   },
   "source": [
    "<table align=\"left\">\n",
    "    <tr>\n",
    "        <td width=\"6%\">\n",
    "            <img src=\"question_icon.png\">\n",
    "        </td>\n",
    "        <td>\n",
    "            <div align=\"left\", style=\"font-size:120%\">\n",
    "                <font color=\"#21618C\">\n",
    "                    <b>16. Write a pseudo code to know whether a number is greater than the other using 'if' statement. </b>\n",
    "                </font>\n",
    "            </div>\n",
    "        </td>\n",
    "    </tr>\n",
    "</table>"
   ]
  },
  {
   "cell_type": "code",
   "execution_count": null,
   "metadata": {
    "colab": {},
    "colab_type": "code",
    "id": "C6Eq9uGIjAVu"
   },
   "outputs": [],
   "source": [
    "# type your code here\n",
    "Read number1\n",
    "Read number2\n",
    "if number1 greater than number2 print number1 is greater than number2\n",
    "else print number 2 is greater than number1"
   ]
  },
  {
   "cell_type": "markdown",
   "metadata": {
    "colab_type": "text",
    "id": "3zWA4UWQf99u"
   },
   "source": [
    "<table align=\"left\">\n",
    "    <tr>\n",
    "        <td width=\"6%\">\n",
    "            <img src=\"question_icon.png\">\n",
    "        </td>\n",
    "        <td>\n",
    "            <div align=\"left\", style=\"font-size:120%\">\n",
    "                <font color=\"#21618C\">\n",
    "                    <b>17. Write a pseudo code to check whether a number is divisible by 7 or not using if else statement. </b>\n",
    "                </font>\n",
    "            </div>\n",
    "        </td>\n",
    "    </tr>\n",
    "</table>"
   ]
  },
  {
   "cell_type": "code",
   "execution_count": null,
   "metadata": {
    "colab": {},
    "colab_type": "code",
    "id": "x8iPznyqjAVw"
   },
   "outputs": [],
   "source": [
    "# type your code here\n",
    "read number from keyboard\n",
    "dividbe input number by 7\n",
    "if remainder is not zero then print not divisible by 7\n",
    "else print divisible by 7"
   ]
  },
  {
   "cell_type": "markdown",
   "metadata": {
    "colab_type": "text",
    "id": "-qD5ZQ7Bf99v"
   },
   "source": [
    "<table align=\"left\">\n",
    "    <tr>\n",
    "        <td width=\"6%\">\n",
    "            <img src=\"question_icon.png\">\n",
    "        </td>\n",
    "        <td>\n",
    "            <div align=\"left\", style=\"font-size:120%\">\n",
    "                <font color=\"#21618C\">\n",
    "                    <b>18. Write a pseudo code to find factorial of a number using nested if-else statement. </b>\n",
    "                </font>\n",
    "            </div>\n",
    "        </td>\n",
    "    </tr>\n",
    "</table>"
   ]
  },
  {
   "cell_type": "code",
   "execution_count": null,
   "metadata": {
    "colab": {},
    "colab_type": "code",
    "id": "1QwnjbnVjAVz"
   },
   "outputs": [],
   "source": [
    "# type your code here\n",
    "read input number to calculate factorial\n",
    "if input number is zero then return 1\n",
    "else if input number is greather than zero then \n",
    "    save input number in another variable called index\n",
    "    create a varabile called factorial and initialize it to 1\n",
    "    create index is not greater than input number execute below steps\n",
    "        multiply index by factorial and save the value back in facotrial variable\n",
    "        increment index by 1\n",
    "    print value stored in factorial"
   ]
  },
  {
   "cell_type": "markdown",
   "metadata": {
    "colab_type": "text",
    "id": "1Foanr6Xf99w"
   },
   "source": [
    "<table align=\"left\">\n",
    "    <tr>\n",
    "        <td width=\"6%\">\n",
    "            <img src=\"question_icon.png\">\n",
    "        </td>\n",
    "        <td>\n",
    "            <div align=\"left\", style=\"font-size:120%\">\n",
    "                <font color=\"#21618C\">\n",
    "                    <b>19. Write a pseudo to know whether a number is prime or not using for and if else statement.</b>\n",
    "                </font>\n",
    "            </div>\n",
    "        </td>\n",
    "    </tr>\n",
    "</table>"
   ]
  },
  {
   "cell_type": "code",
   "execution_count": null,
   "metadata": {},
   "outputs": [],
   "source": [
    "read input number from keyboard\n",
    "create a flag to save the state if the given input number is prime or not\n",
    "for an integer that exists from 2 to provided number as input\n",
    "divide given number by integer in loop\n",
    "    if the remainder is zero set a flag that number is not prime\n",
    "\n",
    "if flag is not set then print prime number\n",
    "else print not a prime number\n"
   ]
  }
 ],
 "metadata": {
  "colab": {
   "name": "ITP - In-Class Lab Exercise (Day 1) - Questions [v2.0 - 280420].ipynb",
   "provenance": []
  },
  "kernelspec": {
   "display_name": "Python 3",
   "language": "python",
   "name": "python3"
  },
  "language_info": {
   "codemirror_mode": {
    "name": "ipython",
    "version": 3
   },
   "file_extension": ".py",
   "mimetype": "text/x-python",
   "name": "python",
   "nbconvert_exporter": "python",
   "pygments_lexer": "ipython3",
   "version": "3.8.3"
  }
 },
 "nbformat": 4,
 "nbformat_minor": 4
}
