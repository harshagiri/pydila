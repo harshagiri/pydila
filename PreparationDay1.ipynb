{
 "cells": [
  {
   "cell_type": "code",
   "execution_count": null,
   "metadata": {},
   "outputs": [],
   "source": [
    "#READ V1\n",
    "#STORE V1\n",
    "v1 = input(\"Please enter a number:\\n\")\n",
    "#PRINT V1\n",
    "print(v1)\n",
    "\n",
    "#READ V2\n",
    "#STORE V2\n",
    "v2 = input(\"Please enter a number:\\n\")\n",
    "#PRINT V2\n",
    "print(v2)\n",
    "\n",
    "#STORE V1 IN V3\n",
    "v3 = v1;\n",
    "#STORE V2 IN V1\n",
    "v1 = v2;\n",
    "#*STORE V3 TO V2\n",
    "v2 = v3;\n",
    "\n",
    "#PRINT V1 AND V2\n",
    "print(v1)\n",
    "print(v2)"
   ]
  },
  {
   "cell_type": "code",
   "execution_count": null,
   "metadata": {},
   "outputs": [],
   "source": [
    "#Read Fahrenheit from keyboard\n",
    "f = input(\"Please enter a temperature in Fahrenheit :\\n\")\n",
    "#conver fahrenheit to centigrated using formula \n",
    "c = (int(f)-32)*(5/9)\n",
    "#Print centigrade\n",
    "print(c)"
   ]
  },
  {
   "cell_type": "code",
   "execution_count": null,
   "metadata": {},
   "outputs": [],
   "source": [
    "#Read input variable from keyboard and save in variable\n",
    "inputString = input(\"Please enter string:\\n\")\n",
    "#Check if the input string matches DataScience\n",
    "if inputString==\"DataScience\":\n",
    "    #If matches print \"Input Matches\"\n",
    "    print(\"Input matches\")\n",
    "#Else\n",
    "else:\n",
    "    #Print input does not matches\n",
    "    print(\"Input does not match\")"
   ]
  },
  {
   "cell_type": "code",
   "execution_count": null,
   "metadata": {},
   "outputs": [],
   "source": [
    "#Enter age of the citizen\n",
    "age = input(\"Please enter age of the citizen:\\n\")\n",
    "#Check if age is greater than 18\n",
    "if int(age)>18:\n",
    "    print(\"Eligible for voting\")\n",
    "else:\n",
    "    print(\"Not at voting age\")"
   ]
  },
  {
   "cell_type": "code",
   "execution_count": null,
   "metadata": {},
   "outputs": [],
   "source": [
    "#read number from keyboard\n",
    "inputNumber = input(\"Please input a +ve number:\\n\")\n",
    "#If number is zero or is dvisible by 2 without remainder it is even else odd\n",
    "if (int(inputNumber) == 0) or (int(inputNumber) % 2 == 0 ) :\n",
    "    print(\"Even\")\n",
    "else:\n",
    "    print(\"Odd\")"
   ]
  },
  {
   "cell_type": "code",
   "execution_count": null,
   "metadata": {},
   "outputs": [],
   "source": [
    "#Container has 5 numbers\n",
    "a = [1,2,3,4,5]\n",
    "#For each element container\n",
    "for index in range(len(a)):\n",
    "    #Multiply the number by itself to calculate square of it and print\n",
    "    print('Square is :', a[index]*a[index])\n",
    "    "
   ]
  },
  {
   "cell_type": "code",
   "execution_count": null,
   "metadata": {},
   "outputs": [],
   "source": [
    "#READ V1\n",
    "#STORE V1\n",
    "v1 = input(\"Please enter a number:\\n\")\n",
    "#PRINT V1\n",
    "print(v1)\n",
    "\n",
    "#READ V2\n",
    "#STORE V2\n",
    "v2 = input(\"Please enter a number:\\n\")\n",
    "#PRINT V2\n",
    "print(v2)\n",
    "\n",
    "#READ V3\n",
    "#STORE V3\n",
    "v3 = input(\"Please enter a number:\\n\")\n",
    "#PRINT V3\n",
    "print(v3)\n",
    "           \n",
    "#READ V4\n",
    "#STORE V4\n",
    "v4 = input(\"Please enter a number:\\n\")\n",
    "#PRINT V4\n",
    "print(v4)\n",
    "           \n",
    "#READ V5\n",
    "#STORE V5\n",
    "v5 = input(\"Please enter a number:\\n\")\n",
    "#PRINT V5\n",
    "print(v5)\n",
    "           \n",
    "#READ V6\n",
    "#STORE V6\n",
    "v6 = input(\"Please enter a number:\\n\")\n",
    "#PRINT V6\n",
    "print(v6)\n",
    "           \n",
    "#READ V7\n",
    "#STORE V7\n",
    "v7 = input(\"Please enter a number:\\n\")\n",
    "#PRINT V7\n",
    "print(v7)\n",
    "           \n",
    "#READ V8\n",
    "#STORE V8\n",
    "v8 = input(\"Please enter a number:\\n\")\n",
    "#PRINT V8\n",
    "print(v8)\n",
    "           \n",
    "#READ V9\n",
    "#STORE V9\n",
    "v9 = input(\"Please enter a number:\\n\")\n",
    "#PRINT V9\n",
    "print(v9)\n",
    "           \n",
    "#READ V10\n",
    "#STORE V10\n",
    "v10 = input(\"Please enter a number:\\n\")\n",
    "#PRINT V10\n",
    "print(v10)\n",
    "\n",
    "print(\"Printing all numbers:\\n\")\n",
    "print(v1, v2, v3, v4, v5, v6, v7, v8, v9, v10)\n",
    "\n",
    "#We should find ways to improve the above logic into a array or loop\n",
    "inputArray=[]  \n",
    "for index in range(int(input(\"How many elements are in list : \"))):\n",
    "    inputValue = int(input())\n",
    "    inputArray.append() \n",
    "    print(inputValue)\n",
    "print(inputArray) "
   ]
  },
  {
   "cell_type": "code",
   "execution_count": 2,
   "metadata": {},
   "outputs": [
    {
     "name": "stdout",
     "output_type": "stream",
     "text": [
      "Enter number to create multiplication table:\n",
      "12\n",
      "12 * 1 = 12\n",
      "12 * 2 = 24\n",
      "12 * 3 = 36\n",
      "12 * 4 = 48\n",
      "12 * 5 = 60\n",
      "12 * 6 = 72\n",
      "12 * 7 = 84\n",
      "12 * 8 = 96\n",
      "12 * 9 = 108\n",
      "12 * 10 = 120\n"
     ]
    }
   ],
   "source": [
    "#Enter number to print mulptiplication table from 1 to 10\n",
    "inputNumber = input(\"Enter number to create multiplication table:\\n\")\n",
    "\n",
    "#Loop 10 times starting from 1 till 10\n",
    "for index in range(1, 11):\n",
    "    \n",
    "    #Extract the integer type from number\n",
    "    number = int(inputNumber)\n",
    "    \n",
    "    #number is multiplied by index to give the result\n",
    "    print(number, \"*\", index, \"=\", number*index);"
   ]
  },
  {
   "cell_type": "code",
   "execution_count": 3,
   "metadata": {},
   "outputs": [
    {
     "name": "stdout",
     "output_type": "stream",
     "text": [
      "Enter number to create multiplication table:\n",
      "8\n",
      "8 * 1 = 8\n",
      "8 * 2 = 16\n",
      "8 * 3 = 24\n",
      "8 * 4 = 32\n",
      "8 * 5 = 40\n",
      "8 * 6 = 48\n",
      "8 * 7 = 56\n",
      "8 * 8 = 64\n",
      "8 * 9 = 72\n",
      "8 * 10 = 80\n"
     ]
    }
   ],
   "source": [
    "#Multiplication method created as a resuable function\n",
    "def multiplicationTable (inputNumber):\n",
    "    \n",
    "    #For 10 times starting from 1 till 10\n",
    "    for index in range(1, 11):\n",
    "        \n",
    "        #Extract the integer type from number\n",
    "        number = int(inputNumber)\n",
    "        \n",
    "        #number is multiplied by index to give the result\n",
    "        print(number, \"*\", index, \"=\", number*index);\n",
    "        \n",
    "    return\n",
    "\n",
    "#Enter number to pring mulptiplication table from 1 to 10\n",
    "inputNumber = input(\"Enter number to create multiplication table:\\n\")\n",
    "\n",
    "#call the function by passing value read from keyboard\n",
    "multiplicationTable(inputNumber);"
   ]
  },
  {
   "cell_type": "code",
   "execution_count": null,
   "metadata": {},
   "outputs": [],
   "source": []
  }
 ],
 "metadata": {
  "kernelspec": {
   "display_name": "Python 3",
   "language": "python",
   "name": "python3"
  },
  "language_info": {
   "codemirror_mode": {
    "name": "ipython",
    "version": 3
   },
   "file_extension": ".py",
   "mimetype": "text/x-python",
   "name": "python",
   "nbconvert_exporter": "python",
   "pygments_lexer": "ipython3",
   "version": "3.8.3"
  }
 },
 "nbformat": 4,
 "nbformat_minor": 4
}
