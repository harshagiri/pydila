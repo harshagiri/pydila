{
 "cells": [
  {
   "cell_type": "code",
   "execution_count": 25,
   "metadata": {},
   "outputs": [
    {
     "name": "stdout",
     "output_type": "stream",
     "text": [
      "[[[11 31]\n",
      "  [12 32]\n",
      "  [13 33]\n",
      "  [14 34]]\n",
      "\n",
      " [[15 35]\n",
      "  [16 36]\n",
      "  [17 37]\n",
      "  [18 38]]\n",
      "\n",
      " [[19 39]\n",
      "  [20 40]\n",
      "  [21 41]\n",
      "  [22 42]]]\n",
      "(3, 4, 2)\n"
     ]
    }
   ],
   "source": [
    "import numpy as np\n",
    "list2 = [\n",
    "    [\n",
    "        [11,31],\n",
    "        [12,32],\n",
    "        [13,33],\n",
    "        [14,34]\n",
    "    ],\n",
    "    [\n",
    "        [15,35],\n",
    "        [16,36],\n",
    "        [17,37],\n",
    "        [18,38]\n",
    "    ],\n",
    "    [\n",
    "        [19,39],\n",
    "        [20,40],\n",
    "        [21,41],\n",
    "        [22,42]\n",
    "    ]\n",
    "]\n",
    "\n",
    "np342 = np.array(list2)\n",
    "print(np342)\n",
    "print(np342.shape)"
   ]
  },
  {
   "cell_type": "code",
   "execution_count": 26,
   "metadata": {},
   "outputs": [
    {
     "name": "stdout",
     "output_type": "stream",
     "text": [
      "[[[11 12 13 14]\n",
      "  [31 32 33 34]]\n",
      "\n",
      " [[15 16 17 18]\n",
      "  [35 36 37 38]]\n",
      "\n",
      " [[19 20 21 22]\n",
      "  [39 40 41 42]]]\n",
      "(3, 2, 4)\n"
     ]
    }
   ],
   "source": [
    "np342a = np.arange(11,23).reshape(3,4)\n",
    "np342b = np.arange(31,43).reshape(3,4)\n",
    "np324 = np.stack((np342a, np342b), axis = 1)\n",
    "print(np324)\n",
    "print(np324.shape)"
   ]
  },
  {
   "cell_type": "code",
   "execution_count": 27,
   "metadata": {},
   "outputs": [
    {
     "name": "stdout",
     "output_type": "stream",
     "text": [
      "[[[11 12 13 14]\n",
      "  [15 16 17 18]\n",
      "  [19 20 21 22]]\n",
      "\n",
      " [[31 32 33 34]\n",
      "  [35 36 37 38]\n",
      "  [39 40 41 42]]]\n",
      "(2, 3, 4)\n"
     ]
    }
   ],
   "source": [
    "np234 = np.stack((np342a, np342b), axis = 0)\n",
    "print(np234)\n",
    "print(np234.shape)"
   ]
  },
  {
   "cell_type": "code",
   "execution_count": null,
   "metadata": {},
   "outputs": [],
   "source": []
  }
 ],
 "metadata": {
  "kernelspec": {
   "display_name": "Python 3",
   "language": "python",
   "name": "python3"
  },
  "language_info": {
   "codemirror_mode": {
    "name": "ipython",
    "version": 3
   },
   "file_extension": ".py",
   "mimetype": "text/x-python",
   "name": "python",
   "nbconvert_exporter": "python",
   "pygments_lexer": "ipython3",
   "version": "3.8.3"
  }
 },
 "nbformat": 4,
 "nbformat_minor": 4
}
