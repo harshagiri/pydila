{
 "cells": [
  {
   "cell_type": "code",
   "execution_count": 13,
   "metadata": {},
   "outputs": [
    {
     "name": "stdout",
     "output_type": "stream",
     "text": [
      "Normal array is \n",
      " [[1, 2, 3, 4], [5, 6, 7, 8], [9, 0, 11, 12]]\n",
      "Numpy array is \n",
      " [[ 1  2  3  4]\n",
      " [ 5  6  7  8]\n",
      " [ 9  0 11 12]]\n",
      "Order of numpy array is  (3, 4)\n",
      "Dimension of numpy array is  2\n",
      "Total elements in of numpy array is  12\n",
      "Desired data type of numpy array is  int64\n",
      "Item size of numpy array is  8\n"
     ]
    }
   ],
   "source": [
    "#Numpy\n",
    "\n",
    "import numpy as np\n",
    "\n",
    "nomral_array = [ [1,2,3,4] , [5,6,7,8] , [9,0,11,12]]\n",
    "\n",
    "print(\"Normal array is \\n\", nomral_array)\n",
    "\n",
    "numpy_arra1 = np.array(nomral_array)\n",
    "\n",
    "print(\"Numpy array is \\n\",numpy_arra1)\n",
    "\n",
    "print(\"Order of numpy array is \",numpy_arra1.shape)\n",
    "\n",
    "print(\"Dimension of numpy array is \", numpy_arra1.ndim)\n",
    "\n",
    "print(\"Total elements in of numpy array is \",numpy_arra1.size)\n",
    "\n",
    "print(\"Desired data type of numpy array is \",numpy_arra1.dtype)\n",
    "\n",
    "print(\"Item size of numpy array is \",numpy_arra1.itemsize)"
   ]
  },
  {
   "cell_type": "code",
   "execution_count": 18,
   "metadata": {},
   "outputs": [
    {
     "name": "stdout",
     "output_type": "stream",
     "text": [
      "[0 1 2 3 4 5 6 7 8 9]\n",
      "[5 6 7 8 9]\n",
      "[0 2 4 6 8]\n"
     ]
    }
   ],
   "source": [
    "#Generation of input array for numpy using arange\n",
    "np_a1 = np.arange(10)\n",
    "print(np_a1)\n",
    "\n",
    "np_a2 = np.arange(5 , 10)\n",
    "print(np_a2)\n",
    "\n",
    "np_a3 = np.arange(0 , 10, 2)\n",
    "print(np_a3)"
   ]
  },
  {
   "cell_type": "code",
   "execution_count": 21,
   "metadata": {},
   "outputs": [
    {
     "name": "stdout",
     "output_type": "stream",
     "text": [
      "[7 6 8 6 8 5 9 7 8 7]\n"
     ]
    }
   ],
   "source": [
    "#generation of random numbers\n",
    "#np.random.seed(10)\n",
    "np_a4 = np.random.randint(low=5 , high=10, size=10)\n",
    "print(np_a4)"
   ]
  },
  {
   "cell_type": "code",
   "execution_count": 23,
   "metadata": {},
   "outputs": [],
   "source": [
    "## Operation on 1D"
   ]
  },
  {
   "cell_type": "code",
   "execution_count": 29,
   "metadata": {},
   "outputs": [
    {
     "name": "stdout",
     "output_type": "stream",
     "text": [
      "[29 16 18 19 18 23 22 17 29 16]\n",
      "[23 22 27 12 21 15 10 22 26 19]\n",
      "Addition of 2 arrays lead to sum of 2 elements [52 38 45 31 39 38 32 39 55 35]\n",
      "Subtraction of 2 arrays lead to sum of 2 elements [ 6 -6 -9  7 -3  8 12 -5  3 -3]\n",
      "Multiplication of 2 arrays lead to sum of 2 elements [667 352 486 228 378 345 220 374 754 304]\n"
     ]
    }
   ],
   "source": [
    "np.random.seed(23)\n",
    "n1 = np.random.randint(low = 10, high = 30, size = 10)\n",
    "n2 = np.random.randint(low = 10, high = 30, size = 10)\n",
    "print(n1)\n",
    "print(n2)\n",
    "\n",
    "print(\"Addition of 2 arrays lead to sum of 2 elements\", n1+n2)\n",
    "print(\"Subtraction of 2 arrays lead to sum of 2 elements\", n1-n2)\n",
    "print(\"Multiplication of 2 arrays lead to sum of 2 elements\", n1*n2)\n",
    "#Operations on 1D array will apply for each element in the array"
   ]
  },
  {
   "cell_type": "code",
   "execution_count": 30,
   "metadata": {},
   "outputs": [],
   "source": [
    "## Access of 1D array"
   ]
  },
  {
   "cell_type": "code",
   "execution_count": 51,
   "metadata": {},
   "outputs": [
    {
     "name": "stdout",
     "output_type": "stream",
     "text": [
      "[63 72 16 58 75 93 87 42 78 55]\n",
      "72\n",
      "55\n",
      "[63 72 16 58 75 93 87 42 78 55]\n",
      "[16 58 75]\n",
      "[93 87 42 78 55]\n",
      "Prints only filtered elements corresponding to indicies passed in input vector  [16 75 87 75]\n"
     ]
    }
   ],
   "source": [
    "np.random.seed(26)\n",
    "n3 = np.random.randint(low = 10, high = 100, size = 10)\n",
    "#Numpy accepts below grammar for accessing array elements\n",
    "# n3[ +ve or -ve index]\n",
    "\n",
    "print(n3)\n",
    "print(n3[1])\n",
    "print(n3[-1])\n",
    "\n",
    "# n3[ numercial_slice_start : numerical_slice_end : numerical_slice_steps]\n",
    "print(n3[:])\n",
    "print(n3[2:5])\n",
    "print(n3[-5:])\n",
    "\n",
    "# n3[ [vector_indicies]] accepts indicies as vector to fetch filtered index elements\n",
    "print(\"Prints only filtered elements corresponding to indicies passed in input vector \",n3[ [2,4,-4,-6] ])\n"
   ]
  },
  {
   "cell_type": "code",
   "execution_count": 55,
   "metadata": {},
   "outputs": [
    {
     "name": "stdout",
     "output_type": "stream",
     "text": [
      "[False  True False  True False False False  True  True False]\n",
      "[72 58 42 78]\n",
      "[72 58 42 78]\n"
     ]
    }
   ],
   "source": [
    "# numpy accepts the condition as input so filter and only print values that matches the outcome of condition\n",
    "# Should use bitwise & and | operators as internal conditions give vector output\n",
    "print(n3[ (n3>20) & (n3%2==0) ])"
   ]
  },
  {
   "cell_type": "code",
   "execution_count": 60,
   "metadata": {},
   "outputs": [
    {
     "name": "stdout",
     "output_type": "stream",
     "text": [
      "[ 0  1  2  3  4  5  6  7  8  9 10 11]\n",
      "[[ 0  1  2  3]\n",
      " [ 4  5  6  7]\n",
      " [ 8  9 10 11]]\n",
      "[[ 0]\n",
      " [ 1]\n",
      " [ 2]\n",
      " [ 3]\n",
      " [ 4]\n",
      " [ 5]\n",
      " [ 6]\n",
      " [ 7]\n",
      " [ 8]\n",
      " [ 9]\n",
      " [10]\n",
      " [11]]\n"
     ]
    }
   ],
   "source": [
    "## 2D matrix\n",
    "n34 = np.arange(12)\n",
    "print(n34)\n",
    "print(n34.reshape(3,4))\n",
    "print(n34.reshape(12,1))"
   ]
  },
  {
   "cell_type": "code",
   "execution_count": 61,
   "metadata": {},
   "outputs": [],
   "source": [
    "## 2D Access"
   ]
  },
  {
   "cell_type": "code",
   "execution_count": 75,
   "metadata": {},
   "outputs": [
    {
     "name": "stdout",
     "output_type": "stream",
     "text": [
      "[[617 474 866 292 589 570]\n",
      " [ 84 179 774 690 306 629]\n",
      " [448 218 895 411  19 108]\n",
      " [270 368 426 180 539 292]\n",
      " [984 468 981 266 361 552]]\n"
     ]
    }
   ],
   "source": [
    "n68 = np.random.randint(low = 10, high = 1000, size = (5,6))\n",
    "print(n68)"
   ]
  },
  {
   "cell_type": "markdown",
   "metadata": {},
   "source": [
    "###### "
   ]
  },
  {
   "cell_type": "code",
   "execution_count": 76,
   "metadata": {},
   "outputs": [
    {
     "name": "stdout",
     "output_type": "stream",
     "text": [
      "[[ 84 179 774 690 306 629]\n",
      " [984 468 981 266 361 552]\n",
      " [270 368 426 180 539 292]]\n"
     ]
    }
   ],
   "source": [
    "print(n68 [[1, -1, -2]])"
   ]
  },
  {
   "cell_type": "code",
   "execution_count": 77,
   "metadata": {},
   "outputs": [],
   "source": [
    "#  n68[r_numerical_index,  c_numerical_index] \n",
    "#  n68[r_numerical_slice,  c_numerical_slice] \n",
    "#  n68[   [vector of rnumerical_indices] , [vector of c_numerical_indices ] #co-ordinates as zipped\n",
    "# n68 [ combo of all of above]\n",
    "# n68[  [vector of boolean_values of same size as n68]  ]\n",
    "\n",
    "#  n68[r_numerical_index,  c_numerical_index] \n",
    "#  n68[r_numerical_slice,  c_numerical_slice] \n",
    "#  n68[   [vector of rnumerical_indices] , [vector of c_numerical_indices ] #co-ordinates as zipped\n",
    "# n68 [ combo of all of above]\n",
    "# n68[  [vector of boolean_values of same size as n68]  ]"
   ]
  },
  {
   "cell_type": "code",
   "execution_count": 78,
   "metadata": {},
   "outputs": [
    {
     "name": "stdout",
     "output_type": "stream",
     "text": [
      "[1 2 3]\n"
     ]
    }
   ],
   "source": [
    "print(np.array([1,2,3]))"
   ]
  },
  {
   "cell_type": "code",
   "execution_count": 79,
   "metadata": {},
   "outputs": [],
   "source": [
    "## 2D operations"
   ]
  },
  {
   "cell_type": "code",
   "execution_count": 104,
   "metadata": {},
   "outputs": [
    {
     "name": "stdout",
     "output_type": "stream",
     "text": [
      "[[3 8 1 7]\n",
      " [0 9 5 2]\n",
      " [2 0 5 2]]\n",
      "[[5 4 0 1]\n",
      " [4 8 8 2]\n",
      " [6 8 1 0]]\n",
      "\n",
      "2d matrix addition\n",
      " [[ 8 12  1  8]\n",
      " [ 4 17 13  4]\n",
      " [ 8  8  6  2]]\n",
      "\n",
      "2d matrix subtraction\n",
      " [[-2  4  1  6]\n",
      " [-4  1 -3  0]\n",
      " [-4 -8  4  2]]\n",
      "\n",
      "2d matrix multiplication\n",
      " [[15 32  0  7]\n",
      " [ 0 72 40  4]\n",
      " [12  0  5  0]]\n",
      "\n",
      "transpose of a matrix \n",
      "[[5 4 0 1]\n",
      " [4 8 8 2]\n",
      " [6 8 1 0]] \n",
      " is \n",
      "[[5 4 6]\n",
      " [4 8 8]\n",
      " [0 8 1]\n",
      " [1 2 0]]\n",
      "\n",
      "mxn matrix multiplicaiton of \n",
      "[[3 8 1 7]\n",
      " [0 9 5 2]\n",
      " [2 0 5 2]] \n",
      " and \n",
      "[[5 4 6]\n",
      " [4 8 8]\n",
      " [0 8 1]\n",
      " [1 2 0]] \n",
      " is =\n",
      " [[ 54  98  83]\n",
      " [ 38 116  77]\n",
      " [ 12  52  17]]\n"
     ]
    }
   ],
   "source": [
    "n34a = np.random.randint(0, 10, size = (3,4)) \n",
    "n34b = np.random.randint(0, 10, size = (3,4)) \n",
    "print(n34a)\n",
    "print(n34b)\n",
    "\n",
    "print(\"\\n2d matrix addition\\n\", n34a+n34b)\n",
    "print(\"\\n2d matrix subtraction\\n\", n34a-n34b)\n",
    "print(\"\\n2d matrix multiplication\\n\", n34a*n34b)\n",
    "print(\"\\ntranspose of a matrix \\n{} \\n is \\n{}\\n\".format(n34b, np.transpose(n34b)))\n",
    "print(\"mxn matrix multiplicaiton of \\n{} \\n and \\n{} \\n is =\\n {}\".format(n34a, np.transpose(n34b), n34a@np.transpose(n34b)))"
   ]
  },
  {
   "cell_type": "code",
   "execution_count": 105,
   "metadata": {},
   "outputs": [],
   "source": [
    "##Broadcasting"
   ]
  },
  {
   "cell_type": "code",
   "execution_count": 108,
   "metadata": {},
   "outputs": [
    {
     "name": "stdout",
     "output_type": "stream",
     "text": [
      "[[3 8 1 7]\n",
      " [0 9 5 2]\n",
      " [2 0 5 2]]\n",
      "[[23 28 21 27]\n",
      " [20 29 25 22]\n",
      " [22 20 25 22]]\n",
      "[[ 60 160  20 140]\n",
      " [  0 180 100  40]\n",
      " [ 40   0 100  40]]\n"
     ]
    }
   ],
   "source": [
    "#=>Called scalar broadcast and stretching\n",
    "print(n34a)\n",
    "\n",
    "n34a + 20 \n",
    "print(n34a + 20)\n",
    "\n",
    "n34a * 20 \n",
    "print(n34a * 20)"
   ]
  },
  {
   "cell_type": "code",
   "execution_count": 109,
   "metadata": {},
   "outputs": [],
   "source": [
    "#Utility functions of numpy"
   ]
  },
  {
   "cell_type": "code",
   "execution_count": 112,
   "metadata": {},
   "outputs": [
    {
     "name": "stdout",
     "output_type": "stream",
     "text": [
      "[[ 0  1  2  3]\n",
      " [ 4  5  6  7]\n",
      " [ 8  9 10 11]]\n"
     ]
    }
   ],
   "source": [
    "n34 = np.arange(12).reshape(3,4)\n",
    "print(n34)"
   ]
  },
  {
   "cell_type": "code",
   "execution_count": 125,
   "metadata": {},
   "outputs": [
    {
     "name": "stdout",
     "output_type": "stream",
     "text": [
      "66\n"
     ]
    }
   ],
   "source": [
    "print(np.sum(n34)) # adds all the vlaue in the matrix"
   ]
  },
  {
   "cell_type": "code",
   "execution_count": 122,
   "metadata": {},
   "outputs": [
    {
     "name": "stdout",
     "output_type": "stream",
     "text": [
      "[12 15 18 21]\n"
     ]
    }
   ],
   "source": [
    "print(np.sum(n34, axis = 0)) # sum row wise"
   ]
  },
  {
   "cell_type": "code",
   "execution_count": 124,
   "metadata": {},
   "outputs": [
    {
     "name": "stdout",
     "output_type": "stream",
     "text": [
      "[ 6 22 38]\n"
     ]
    }
   ],
   "source": [
    "print(np.sum(n34, axis = 1)) # sum columns wise"
   ]
  },
  {
   "cell_type": "code",
   "execution_count": 126,
   "metadata": {},
   "outputs": [
    {
     "name": "stdout",
     "output_type": "stream",
     "text": [
      "5.5\n"
     ]
    }
   ],
   "source": [
    "print(np.mean(n34))"
   ]
  },
  {
   "cell_type": "code",
   "execution_count": 127,
   "metadata": {},
   "outputs": [
    {
     "name": "stdout",
     "output_type": "stream",
     "text": [
      "0\n"
     ]
    }
   ],
   "source": [
    "print(np.amin(n34))"
   ]
  },
  {
   "cell_type": "code",
   "execution_count": 128,
   "metadata": {},
   "outputs": [
    {
     "name": "stdout",
     "output_type": "stream",
     "text": [
      "5.5\n"
     ]
    }
   ],
   "source": [
    "print(np.median(n34))"
   ]
  },
  {
   "cell_type": "code",
   "execution_count": 129,
   "metadata": {},
   "outputs": [
    {
     "name": "stdout",
     "output_type": "stream",
     "text": [
      "11\n"
     ]
    }
   ],
   "source": [
    "print(np.amax(n34))"
   ]
  },
  {
   "cell_type": "code",
   "execution_count": 130,
   "metadata": {},
   "outputs": [
    {
     "name": "stdout",
     "output_type": "stream",
     "text": [
      "3.452052529534663\n"
     ]
    }
   ],
   "source": [
    "print(np.std(n34))"
   ]
  },
  {
   "cell_type": "code",
   "execution_count": 131,
   "metadata": {},
   "outputs": [
    {
     "name": "stdout",
     "output_type": "stream",
     "text": [
      "11.916666666666666\n"
     ]
    }
   ],
   "source": [
    "print(np.var(n34))"
   ]
  },
  {
   "cell_type": "code",
   "execution_count": 132,
   "metadata": {},
   "outputs": [
    {
     "name": "stdout",
     "output_type": "stream",
     "text": [
      "2.0\n"
     ]
    }
   ],
   "source": [
    "print(np.log(np.e**2))"
   ]
  },
  {
   "cell_type": "code",
   "execution_count": 134,
   "metadata": {},
   "outputs": [
    {
     "name": "stdout",
     "output_type": "stream",
     "text": [
      "7.38905609893065\n"
     ]
    }
   ],
   "source": [
    "print(np.exp(2))"
   ]
  },
  {
   "cell_type": "code",
   "execution_count": 137,
   "metadata": {},
   "outputs": [
    {
     "name": "stdout",
     "output_type": "stream",
     "text": [
      "[[1. 1. 1. 1.]\n",
      " [1. 1. 1. 1.]\n",
      " [1. 1. 1. 1.]]\n"
     ]
    }
   ],
   "source": [
    "print(np.ones(shape = (3,4)))"
   ]
  },
  {
   "cell_type": "code",
   "execution_count": 138,
   "metadata": {},
   "outputs": [
    {
     "name": "stdout",
     "output_type": "stream",
     "text": [
      "[[45 45 45 45]\n",
      " [45 45 45 45]\n",
      " [45 45 45 45]]\n"
     ]
    }
   ],
   "source": [
    "print(np.full(shape=(3,4), fill_value = 45))"
   ]
  },
  {
   "cell_type": "code",
   "execution_count": 140,
   "metadata": {},
   "outputs": [
    {
     "data": {
      "text/plain": [
       "array([[1., 0., 0.],\n",
       "       [0., 1., 0.],\n",
       "       [0., 0., 1.]])"
      ]
     },
     "execution_count": 140,
     "metadata": {},
     "output_type": "execute_result"
    }
   ],
   "source": [
    "np.identity(3)"
   ]
  },
  {
   "cell_type": "code",
   "execution_count": 141,
   "metadata": {},
   "outputs": [
    {
     "data": {
      "text/plain": [
       "array([[1., 0., 0., 0.],\n",
       "       [0., 1., 0., 0.],\n",
       "       [0., 0., 1., 0.],\n",
       "       [0., 0., 0., 1.]])"
      ]
     },
     "execution_count": 141,
     "metadata": {},
     "output_type": "execute_result"
    }
   ],
   "source": [
    "np.eye(4,k=0)"
   ]
  },
  {
   "cell_type": "code",
   "execution_count": 156,
   "metadata": {},
   "outputs": [
    {
     "data": {
      "text/plain": [
       "(array([1.        , 1.81818182, 2.63636364, 3.45454545, 4.27272727,\n",
       "        5.09090909, 5.90909091, 6.72727273, 7.54545455, 8.36363636,\n",
       "        9.18181818]),\n",
       " 0.8181818181818182)"
      ]
     },
     "execution_count": 156,
     "metadata": {},
     "output_type": "execute_result"
    }
   ],
   "source": [
    "# linear space with start, stop and step generates the number at equal points between start and stop with number of digits to be created\n",
    "np.linspace(start = 1, stop = 10, num=11, endpoint = False, retstep = True)"
   ]
  },
  {
   "cell_type": "code",
   "execution_count": 157,
   "metadata": {},
   "outputs": [
    {
     "data": {
      "text/plain": [
       "array([ 0,  1,  2,  3,  4,  5,  6,  7,  8,  9, 10, 11])"
      ]
     },
     "execution_count": 157,
     "metadata": {},
     "output_type": "execute_result"
    }
   ],
   "source": [
    "n34.ravel() # flatten the array to 1D"
   ]
  },
  {
   "cell_type": "code",
   "execution_count": 158,
   "metadata": {},
   "outputs": [
    {
     "data": {
      "text/plain": [
       "array([ 0,  1,  2,  3,  4,  5,  6,  7,  8,  9, 10, 11])"
      ]
     },
     "execution_count": 158,
     "metadata": {},
     "output_type": "execute_result"
    }
   ],
   "source": [
    "n34.flatten() # flatten the array to 1D"
   ]
  },
  {
   "cell_type": "code",
   "execution_count": 164,
   "metadata": {},
   "outputs": [
    {
     "name": "stdout",
     "output_type": "stream",
     "text": [
      "[[ 0  1  2  3]\n",
      " [ 4  5  6  7]\n",
      " [ 8  9 10 11]]\n",
      "[[  0   1   4   9]\n",
      " [ 16  25  36  49]\n",
      " [ 64  81 100 121]]\n"
     ]
    }
   ],
   "source": [
    "print(n34)\n",
    "print(np.power(n34, 2)) # raises each element to the power specified in parameter"
   ]
  },
  {
   "cell_type": "code",
   "execution_count": 177,
   "metadata": {},
   "outputs": [],
   "source": [
    "#Random\n",
    "import matplotlib.pyplot as plt"
   ]
  },
  {
   "cell_type": "code",
   "execution_count": 195,
   "metadata": {},
   "outputs": [
    {
     "name": "stdout",
     "output_type": "stream",
     "text": [
      "(4, 100)\n",
      "0.9981657102570649\n",
      "0.0012030265319948885\n",
      "0.46598241260588386\n"
     ]
    },
    {
     "data": {
      "image/png": "[encoded data removed]",
      "text/plain": [
       "<Figure size 432x288 with 1 Axes>"
      ]
     },
     "metadata": {
      "needs_background": "light"
     },
     "output_type": "display_data"
    }
   ],
   "source": [
    "x = np.random.rand(4,100) # create random numbers over uniform distribution between 0 and 1\n",
    "print(x.shape)\n",
    "plt.scatter(x, x.T)\n",
    "print(x.max())\n",
    "print(x.min())\n",
    "print(x.mean())"
   ]
  },
  {
   "cell_type": "code",
   "execution_count": 194,
   "metadata": {},
   "outputs": [
    {
     "name": "stdout",
     "output_type": "stream",
     "text": [
      "(4, 100)\n",
      "3.7849418819521894\n",
      "-2.7009724752549813\n",
      "0.07763446972627655\n"
     ]
    },
    {
     "data": {
      "image/png": "[encoded data removed]",
      "text/plain": [
       "<Figure size 432x288 with 1 Axes>"
      ]
     },
     "metadata": {
      "needs_background": "light"
     },
     "output_type": "display_data"
    }
   ],
   "source": [
    "y = np.random.randn(4,100) # create uniform numbers over uniform distribution between 0 and 1\n",
    "print(y.shape)\n",
    "plt.scatter(y, y.T)\n",
    "print(y.max())\n",
    "print(y.min())\n",
    "print(y.mean())"
   ]
  },
  {
   "cell_type": "code",
   "execution_count": 192,
   "metadata": {},
   "outputs": [],
   "source": [
    "##Splitting"
   ]
  },
  {
   "cell_type": "code",
   "execution_count": 202,
   "metadata": {},
   "outputs": [
    {
     "name": "stdout",
     "output_type": "stream",
     "text": [
      "[[ 0  1  2  3]\n",
      " [ 4  5  6  7]\n",
      " [ 8  9 10 11]]\n",
      "[array([[0, 1],\n",
      "       [4, 5],\n",
      "       [8, 9]]), array([[ 2,  3],\n",
      "       [ 6,  7],\n",
      "       [10, 11]])]\t"
     ]
    }
   ],
   "source": [
    "#hsplit = split array horizontally\n",
    "print(n34)\n",
    "print(np.hsplit(n34,2), end = \"\\t\")"
   ]
  },
  {
   "cell_type": "code",
   "execution_count": 201,
   "metadata": {},
   "outputs": [
    {
     "name": "stdout",
     "output_type": "stream",
     "text": [
      "[[ 0  1  2  3]\n",
      " [ 4  5  6  7]\n",
      " [ 8  9 10 11]]\n",
      "[array([[0, 1, 2, 3]]), array([[4, 5, 6, 7]]), array([[ 8,  9, 10, 11]])]\n"
     ]
    }
   ],
   "source": [
    "#vsplit = split array vertically\n",
    "print(n34)\n",
    "print(np.vsplit(n34,3))"
   ]
  },
  {
   "cell_type": "code",
   "execution_count": 206,
   "metadata": {},
   "outputs": [
    {
     "name": "stdout",
     "output_type": "stream",
     "text": [
      "[[ 0  1  2  3]\n",
      " [ 4  5  6  7]\n",
      " [ 8  9 10 11]]\n",
      "[[0]\n",
      " [4]\n",
      " [8]]\n",
      "(3, 1)\n",
      "[[1]\n",
      " [5]\n",
      " [9]]\n",
      "(3, 1)\n",
      "[[ 2]\n",
      " [ 6]\n",
      " [10]]\n",
      "(3, 1)\n",
      "[[ 3]\n",
      " [ 7]\n",
      " [11]]\n",
      "(3, 1)\n"
     ]
    }
   ],
   "source": [
    "#using vector to get uneven splitting of array\n",
    "print(n34)\n",
    "x = np.hsplit(n34, [1,2,3])\n",
    "for n in x:\n",
    "    print(n)\n",
    "    print(n.shape)"
   ]
  },
  {
   "cell_type": "code",
   "execution_count": 210,
   "metadata": {},
   "outputs": [
    {
     "name": "stdout",
     "output_type": "stream",
     "text": [
      "[[ 0  1  2  3]\n",
      " [ 4  5  6  7]\n",
      " [ 8  9 10 11]]\n",
      "[[0 1 2 3]\n",
      " [4 5 6 7]]\n",
      "(2, 4)\n",
      "[[ 8  9 10 11]]\n",
      "(1, 4)\n",
      "[]\n",
      "(0, 4)\n"
     ]
    }
   ],
   "source": [
    "#using vector to get uneven splitting of array\n",
    "print(n34)\n",
    "x = np.vsplit(n34, [2,3])\n",
    "for n in x:\n",
    "    print(n)\n",
    "    print(n.shape)"
   ]
  },
  {
   "cell_type": "code",
   "execution_count": 211,
   "metadata": {},
   "outputs": [],
   "source": [
    "##Stacking"
   ]
  },
  {
   "cell_type": "code",
   "execution_count": 214,
   "metadata": {},
   "outputs": [
    {
     "name": "stdout",
     "output_type": "stream",
     "text": [
      "[[ 0  1  2  3]\n",
      " [ 4  5  6  7]\n",
      " [ 8  9 10 11]]\n",
      "[[100 101 102 103 104 105]\n",
      " [106 107 108 109 110 111]\n",
      " [112 113 114 115 116 117]]\n"
     ]
    },
    {
     "data": {
      "text/plain": [
       "array([[  0,   1,   2,   3, 100, 101, 102, 103, 104, 105],\n",
       "       [  4,   5,   6,   7, 106, 107, 108, 109, 110, 111],\n",
       "       [  8,   9,  10,  11, 112, 113, 114, 115, 116, 117]])"
      ]
     },
     "execution_count": 214,
     "metadata": {},
     "output_type": "execute_result"
    }
   ],
   "source": [
    "#hstack: given 2 arrays  stack them horizontally\n",
    "n36 = np.arange(100,118).reshape(3,6)\n",
    "print(n34)\n",
    "print(n36)\n",
    "np.hstack((n34,n36))"
   ]
  },
  {
   "cell_type": "code",
   "execution_count": 223,
   "metadata": {},
   "outputs": [
    {
     "name": "stdout",
     "output_type": "stream",
     "text": [
      "[[100 101 102 103 104 105]\n",
      " [106 107 108 109 110 111]\n",
      " [112 113 114 115 116 117]]\n"
     ]
    },
    {
     "data": {
      "text/plain": [
       "array([[100, 101, 102, 103, 104, 105],\n",
       "       [106, 107, 108, 109, 110, 111],\n",
       "       [112, 113, 114, 115, 116, 117],\n",
       "       [100, 101, 102, 103, 104, 105],\n",
       "       [106, 107, 108, 109, 110, 111],\n",
       "       [112, 113, 114, 115, 116, 117]])"
      ]
     },
     "execution_count": 223,
     "metadata": {},
     "output_type": "execute_result"
    }
   ],
   "source": [
    "#vstack: given 2 arrays  stack them vertically\n",
    "n64 = np.arange(100,118).reshape(3,6)\n",
    "print(n64)\n",
    "np.vstack((n64,n36))"
   ]
  },
  {
   "cell_type": "code",
   "execution_count": 231,
   "metadata": {},
   "outputs": [
    {
     "name": "stdout",
     "output_type": "stream",
     "text": [
      "--PYTHON--\n"
     ]
    }
   ],
   "source": [
    "npad = 10\n",
    "print('{:-^{n1}}'.format('PYTHON', n1=npad))"
   ]
  },
  {
   "cell_type": "code",
   "execution_count": null,
   "metadata": {},
   "outputs": [],
   "source": []
  }
 ],
 "metadata": {
  "kernelspec": {
   "display_name": "Python 3",
   "language": "python",
   "name": "python3"
  },
  "language_info": {
   "codemirror_mode": {
    "name": "ipython",
    "version": 3
   },
   "file_extension": ".py",
   "mimetype": "text/x-python",
   "name": "python",
   "nbconvert_exporter": "python",
   "pygments_lexer": "ipython3",
   "version": "3.8.3"
  }
 },
 "nbformat": 4,
 "nbformat_minor": 4
}
